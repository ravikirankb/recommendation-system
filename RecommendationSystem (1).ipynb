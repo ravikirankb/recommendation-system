{
  "cells": [
    {
      "cell_type": "markdown",
      "metadata": {
        "id": "0OjZ5io-KEpA"
      },
      "source": [
        "**<h3><u>Recommendaton System with Sentiment Analysis </u></h3>**\n",
        "\n",
        "Preface: We try to build the Product Recommendation system using Amazon's product dataset and provide product recommendations according to certain input parameters. I also do the sentiment analysis on the dataset to filter products with positive feedback."
      ]
    },
    {
      "cell_type": "markdown",
      "source": [
        "**<h3>Principles of Recommendation Systems</h3>**\n",
        "\n",
        "Recommendation systems helps to target users and make recommendations based on their personal preferences, usage history and their reviews about the products they are used before.\n",
        "\n",
        "Personalization of content specific to user is another advantage of recommendation systems.\n",
        "\n",
        "Recommendation system also helps manufactuers and industries to reach out to customers and users who are interested in similar products which they have to offer."
      ],
      "metadata": {
        "id": "EZ4AJzw6Ph4v"
      }
    },
    {
      "cell_type": "markdown",
      "source": [
        "<h3> Types of Recommendation Systems </h3>\n",
        "\n",
        "\n",
        "\n",
        "1.   **Content Based Item filtering** - In this recommendation system recommendations are made based on the users previous search histories. Here the items are labelled with attributes or tags and when the user is looking for a specific content then the contents with tags similar to that of the current content is recommended to the user.\n",
        "Eg: Movies recommendation works on the same principle by identifying the genre of a particular movie watched by the user and then recommends movies of the same genre to the user at a future point of time.\n",
        "  \n",
        " This type of recommendation does not depend on data from other users.\n",
        "\n",
        "2.   **Collaborative Item filtering** - This recommendation system works on the principle of doing recommendations based on the interests and similarities of other users.\n",
        "\n",
        "Eg: Amazon recommneds products to user saying *\"Customers who brought this also brought -- \"* \n",
        "\n",
        "There are two types of Collaborative filtering.\n",
        "  \n",
        "\n",
        "  1.   User based Collaborative filtering - Here recommendations are made based on the users similarity or in other words users who are similar their preferences are recommended.\n",
        "  eg: If a user purchases an electronic item of a particular category then users who brought similar items and their preferences are recommended to the user.\n",
        "  2.   Item based Collaborative filtering - Here recommendations are based on the similarity of items to the one the user is currently intereacted with.\n",
        "  eg: If a user purchases an electronic item then similar eletronic items are recommended.\n",
        "\n",
        "\n",
        "\n"
      ],
      "metadata": {
        "id": "tUMFXAM_SCdu"
      }
    },
    {
      "cell_type": "markdown",
      "source": [
        "<h3> Objective: </h3>\n",
        "\n",
        "In this project we deal with differenct steps and techniques involved in developing a recommendation system.\n",
        "\n",
        "Following are the steps that this project covers:\n",
        "\n",
        "\n",
        "\n",
        "1.   Data wrangling or Data preprocessing - In this step the data extraction is done and the data is also cleaned and processed to eliminate ambiguitious and establish patterns and create features based on the established patterns. This step ensures we have relevant data and also eliminates noise and unwanted data from the dataset.\n",
        "2.   Sentiment Analysis - Here we do the sentiment analysis of the reviews dataset and determine if the products have positive or negative feedback and then do product recommendation based on the outcome of the sentiment analysis.\n",
        "3. In the final step I walkthrough product recommendations based on the Content based filtering and also Collaborative based item filtering as discussed in the beginning of the project.\n",
        "\n"
      ],
      "metadata": {
        "id": "sk4ePAFXbvck"
      }
    },
    {
      "cell_type": "markdown",
      "metadata": {
        "id": "osUWPM0HMkPV"
      },
      "source": [
        "**<h4> Preparing the Dataset and Data extraction </h4>**\n",
        "\n",
        "I am using the Amazon provided dataset from the below link\n",
        "\n",
        "https://nijianmo.github.io/amazon/index.html\n",
        "\n",
        "For this use case I use the Beauty products review data 5-core raw review data in the json zip format.\n",
        "\n"
      ]
    },
    {
      "cell_type": "code",
      "execution_count": 2,
      "metadata": {
        "id": "anny8SsoG2Xj"
      },
      "outputs": [],
      "source": [
        "import pandas as pd\n",
        "import numpy as np\n",
        "import gzip\n",
        "\n",
        "import matplotlib.pyplot as plt\n",
        "%matplotlib inline\n",
        "\n",
        "from datetime import datetime\n",
        "\n",
        "## Warnings\n",
        "import warnings\n",
        "from scipy import stats\n",
        "warnings.filterwarnings('ignore')"
      ]
    },
    {
      "cell_type": "markdown",
      "metadata": {
        "id": "ZajS6db_UtrF"
      },
      "source": [
        "From the Amazon dataset page we can get the sample review and metadata data objects shown below\n",
        "\n",
        "**Sample review:**\n",
        "\n",
        "{\n",
        "\n",
        "\"image\": [\"https://images-na.ssl-images-amazon.com/images/I/71eG75FTJJL._SY88.jpg\"], \n",
        "\n",
        "\"overall\": 5.0,\n",
        "\n",
        "\"vote\": \"2\", \n",
        "\n",
        "\"verified\": True, \n",
        "\n",
        "\"reviewTime\": \"01 1, 2018\", \n",
        "\n",
        "\"reviewerID\": \"AUI6WTTT0QZYS\", \n",
        "\n",
        "\"asin\": \"5120053084\", \n",
        "\n",
        "\"style\": {\n",
        "\t\"Size:\": \"Large\", \n",
        "\t\"Color:\": \"Charcoal\"\n",
        "\t}, \n",
        "\n",
        "\"reviewerName\": \"Abbey\", \n",
        "\n",
        "\"reviewText\": \"I now have 4 of the 5 available colors of this shirt... \", \n",
        "\n",
        "\"summary\": \"Comfy, flattering, discreet--highly recommended!\", \n",
        "\n",
        "\"unixReviewTime\": 1514764800\n",
        "\n",
        "}\n",
        "\n",
        "where\n",
        "\n",
        "\n",
        "*   reviewerID - ID of the reviewer, e.g. A2SUAM1J3GNN3B\n",
        "*   asin - ID of the product, e.g. 0000013714\n",
        "*   reviewerName - name of the reviewer\n",
        "*   vote - helpful votes of the review\n",
        "*   style - a disctionary of the product metadata, e.g., \"Format\" is \"Hardcover\"\n",
        "*   reviewText - text of the review\n",
        "*   overall - rating of the product\n",
        "*   summary - summary of the review\n",
        "*   unixReviewTime - time of the review (unix time)\n",
        "*   reviewTime - time of the review (raw)\n",
        "*   image - images that users post after they have received the product\n",
        "\n",
        "\n",
        "**Sample Metadata**\n",
        "\n",
        "{\n",
        "  \n",
        "  \"asin\": \"0000031852\",\n",
        "  \n",
        "  \"title\": \"Girls Ballet Tutu Zebra Hot Pink\",\n",
        "  \n",
        "  \"feature\": [\"Botiquecutie Trademark exclusive Brand\",\n",
        "              \"Hot Pink Layered Zebra Print Tutu\",\n",
        "              \"Fits girls up to a size 4T\",\n",
        "              \"Hand wash / Line Dry\",\n",
        "              \"Includes a Botiquecutie TM Exclusive hair flower bow\"],\n",
        "  \n",
        "  \"description\": \"This tutu is great for dress up play for your little ballerina. Botiquecute Trade Mark exclusive brand. Hot Pink Zebra print tutu.\", \n",
        "  \n",
        "  \"price\": 3.17,\n",
        "  \n",
        "  \"imageURL\": \"http://ecx.images-amazon.com/images/I/51fAmVkTbyL._SY300_.jpg\",\n",
        "  \n",
        "  \"imageURLHighRes\": \"http://ecx.images-amazon.com/images/I/51fAmVkTbyL.jpg\",\n",
        "  \n",
        "  \"also_buy\": [\"B00JHONN1S\", \"B002BZX8Z6\", \"B00D2K1M3O\", \"0000031909\"],\n",
        "  \n",
        "  \"also_viewed\": [\"B002BZX8Z6\", \"B00JHONN1S\", \"B008F0SU0Y\", \"B00D23MC6W\"],\n",
        "  \n",
        "  \"salesRank\": {\"Toys & Games\": 211836},\n",
        "  \n",
        "  \"brand\": \"Coxlures\",\n",
        "  \n",
        "  \"categories\": [[\"Sports & Outdoors\", \"Other Sports\", \"Dance\"]]\n",
        "\n",
        "}\n",
        "\n",
        "where\n",
        "\n",
        "*   asin - ID of the product, e.g. 0000031852\n",
        "*   title - name of the product\n",
        "*   feature - bullet-point format features of the product\n",
        "*   description - description of the product\n",
        "*   price - price in US dollars (at time of crawl)\n",
        "*   imageURL - url of the product image\n",
        "*   imageURL - url of the high resolution product image\n",
        "*   related - related products (also bought, also viewed, bought together, buy after viewing)\n",
        "*   salesRank - sales rank information\n",
        "*   brand - brand name\n",
        "*   categories - list of categories the product belongs to\n",
        "*   tech1 - the first technical detail table of the product\n",
        "*   tech2 - the second technical detail table of the product\n",
        "*   similar - similar product table"
      ]
    },
    {
      "cell_type": "code",
      "execution_count": 3,
      "metadata": {
        "id": "tmab3YFdOkj0"
      },
      "outputs": [],
      "source": [
        "### Import the All beauty products review data\n",
        "\n",
        "##from google.colab import files\n",
        "##uploaded = files.upload()\n",
        "\n",
        "import io\n",
        "review_df = pd.read_json('sample_data/All_Beauty.json.gz', orient='records', lines=True)"
      ]
    },
    {
      "cell_type": "code",
      "execution_count": 4,
      "metadata": {
        "colab": {
          "base_uri": "https://localhost:8080/",
          "height": 600
        },
        "id": "7HsEq7uHQgm2",
        "outputId": "cfb41b91-3959-44ef-94d0-83c42c20cf65"
      },
      "outputs": [
        {
          "output_type": "stream",
          "name": "stdout",
          "text": [
            "Total data: (371345, 12)\n"
          ]
        },
        {
          "output_type": "execute_result",
          "data": {
            "text/plain": [
              "   Rating  verified   reviewTime      reviewerID        asin  \\\n",
              "0       1      True  02 19, 2015  A1V6B6TNIC10QE  0143026860   \n",
              "1       4      True  12 18, 2014  A2F5GHSXFQ0W6J  0143026860   \n",
              "2       4      True  08 10, 2014  A1572GUYS7DGSR  0143026860   \n",
              "3       5      True  03 11, 2013   A1PSGLFK1NSVO  0143026860   \n",
              "4       5      True  12 25, 2011   A6IKXKZMTKGSC  0143026860   \n",
              "\n",
              "        reviewerName                                         reviewText  \\\n",
              "0  theodore j bigham                                              great   \n",
              "1       Mary K. Byke  My  husband wanted to reading about the Negro ...   \n",
              "2            David G  This book was very informative, covering all a...   \n",
              "3               TamB  I am already a baseball fan and knew a bit abo...   \n",
              "4         shoecanary  This was a good story of the Black leagues. I ...   \n",
              "\n",
              "                                             summary  unixReviewTime vote  \\\n",
              "0                                           One Star      1424304000  NaN   \n",
              "1  ... to reading about the Negro Baseball and th...      1418860800  NaN   \n",
              "2                                     Worth the Read      1407628800  NaN   \n",
              "3                                          Good Read      1362960000  NaN   \n",
              "4                More than facts, a good story read!      1324771200    5   \n",
              "\n",
              "  style image  \n",
              "0   NaN   NaN  \n",
              "1   NaN   NaN  \n",
              "2   NaN   NaN  \n",
              "3   NaN   NaN  \n",
              "4   NaN   NaN  "
            ],
            "text/html": [
              "\n",
              "  <div id=\"df-85e95039-71d1-401c-ae60-79ebdfee639a\">\n",
              "    <div class=\"colab-df-container\">\n",
              "      <div>\n",
              "<style scoped>\n",
              "    .dataframe tbody tr th:only-of-type {\n",
              "        vertical-align: middle;\n",
              "    }\n",
              "\n",
              "    .dataframe tbody tr th {\n",
              "        vertical-align: top;\n",
              "    }\n",
              "\n",
              "    .dataframe thead th {\n",
              "        text-align: right;\n",
              "    }\n",
              "</style>\n",
              "<table border=\"1\" class=\"dataframe\">\n",
              "  <thead>\n",
              "    <tr style=\"text-align: right;\">\n",
              "      <th></th>\n",
              "      <th>Rating</th>\n",
              "      <th>verified</th>\n",
              "      <th>reviewTime</th>\n",
              "      <th>reviewerID</th>\n",
              "      <th>asin</th>\n",
              "      <th>reviewerName</th>\n",
              "      <th>reviewText</th>\n",
              "      <th>summary</th>\n",
              "      <th>unixReviewTime</th>\n",
              "      <th>vote</th>\n",
              "      <th>style</th>\n",
              "      <th>image</th>\n",
              "    </tr>\n",
              "  </thead>\n",
              "  <tbody>\n",
              "    <tr>\n",
              "      <th>0</th>\n",
              "      <td>1</td>\n",
              "      <td>True</td>\n",
              "      <td>02 19, 2015</td>\n",
              "      <td>A1V6B6TNIC10QE</td>\n",
              "      <td>0143026860</td>\n",
              "      <td>theodore j bigham</td>\n",
              "      <td>great</td>\n",
              "      <td>One Star</td>\n",
              "      <td>1424304000</td>\n",
              "      <td>NaN</td>\n",
              "      <td>NaN</td>\n",
              "      <td>NaN</td>\n",
              "    </tr>\n",
              "    <tr>\n",
              "      <th>1</th>\n",
              "      <td>4</td>\n",
              "      <td>True</td>\n",
              "      <td>12 18, 2014</td>\n",
              "      <td>A2F5GHSXFQ0W6J</td>\n",
              "      <td>0143026860</td>\n",
              "      <td>Mary K. Byke</td>\n",
              "      <td>My  husband wanted to reading about the Negro ...</td>\n",
              "      <td>... to reading about the Negro Baseball and th...</td>\n",
              "      <td>1418860800</td>\n",
              "      <td>NaN</td>\n",
              "      <td>NaN</td>\n",
              "      <td>NaN</td>\n",
              "    </tr>\n",
              "    <tr>\n",
              "      <th>2</th>\n",
              "      <td>4</td>\n",
              "      <td>True</td>\n",
              "      <td>08 10, 2014</td>\n",
              "      <td>A1572GUYS7DGSR</td>\n",
              "      <td>0143026860</td>\n",
              "      <td>David G</td>\n",
              "      <td>This book was very informative, covering all a...</td>\n",
              "      <td>Worth the Read</td>\n",
              "      <td>1407628800</td>\n",
              "      <td>NaN</td>\n",
              "      <td>NaN</td>\n",
              "      <td>NaN</td>\n",
              "    </tr>\n",
              "    <tr>\n",
              "      <th>3</th>\n",
              "      <td>5</td>\n",
              "      <td>True</td>\n",
              "      <td>03 11, 2013</td>\n",
              "      <td>A1PSGLFK1NSVO</td>\n",
              "      <td>0143026860</td>\n",
              "      <td>TamB</td>\n",
              "      <td>I am already a baseball fan and knew a bit abo...</td>\n",
              "      <td>Good Read</td>\n",
              "      <td>1362960000</td>\n",
              "      <td>NaN</td>\n",
              "      <td>NaN</td>\n",
              "      <td>NaN</td>\n",
              "    </tr>\n",
              "    <tr>\n",
              "      <th>4</th>\n",
              "      <td>5</td>\n",
              "      <td>True</td>\n",
              "      <td>12 25, 2011</td>\n",
              "      <td>A6IKXKZMTKGSC</td>\n",
              "      <td>0143026860</td>\n",
              "      <td>shoecanary</td>\n",
              "      <td>This was a good story of the Black leagues. I ...</td>\n",
              "      <td>More than facts, a good story read!</td>\n",
              "      <td>1324771200</td>\n",
              "      <td>5</td>\n",
              "      <td>NaN</td>\n",
              "      <td>NaN</td>\n",
              "    </tr>\n",
              "  </tbody>\n",
              "</table>\n",
              "</div>\n",
              "      <button class=\"colab-df-convert\" onclick=\"convertToInteractive('df-85e95039-71d1-401c-ae60-79ebdfee639a')\"\n",
              "              title=\"Convert this dataframe to an interactive table.\"\n",
              "              style=\"display:none;\">\n",
              "        \n",
              "  <svg xmlns=\"http://www.w3.org/2000/svg\" height=\"24px\"viewBox=\"0 0 24 24\"\n",
              "       width=\"24px\">\n",
              "    <path d=\"M0 0h24v24H0V0z\" fill=\"none\"/>\n",
              "    <path d=\"M18.56 5.44l.94 2.06.94-2.06 2.06-.94-2.06-.94-.94-2.06-.94 2.06-2.06.94zm-11 1L8.5 8.5l.94-2.06 2.06-.94-2.06-.94L8.5 2.5l-.94 2.06-2.06.94zm10 10l.94 2.06.94-2.06 2.06-.94-2.06-.94-.94-2.06-.94 2.06-2.06.94z\"/><path d=\"M17.41 7.96l-1.37-1.37c-.4-.4-.92-.59-1.43-.59-.52 0-1.04.2-1.43.59L10.3 9.45l-7.72 7.72c-.78.78-.78 2.05 0 2.83L4 21.41c.39.39.9.59 1.41.59.51 0 1.02-.2 1.41-.59l7.78-7.78 2.81-2.81c.8-.78.8-2.07 0-2.86zM5.41 20L4 18.59l7.72-7.72 1.47 1.35L5.41 20z\"/>\n",
              "  </svg>\n",
              "      </button>\n",
              "      \n",
              "  <style>\n",
              "    .colab-df-container {\n",
              "      display:flex;\n",
              "      flex-wrap:wrap;\n",
              "      gap: 12px;\n",
              "    }\n",
              "\n",
              "    .colab-df-convert {\n",
              "      background-color: #E8F0FE;\n",
              "      border: none;\n",
              "      border-radius: 50%;\n",
              "      cursor: pointer;\n",
              "      display: none;\n",
              "      fill: #1967D2;\n",
              "      height: 32px;\n",
              "      padding: 0 0 0 0;\n",
              "      width: 32px;\n",
              "    }\n",
              "\n",
              "    .colab-df-convert:hover {\n",
              "      background-color: #E2EBFA;\n",
              "      box-shadow: 0px 1px 2px rgba(60, 64, 67, 0.3), 0px 1px 3px 1px rgba(60, 64, 67, 0.15);\n",
              "      fill: #174EA6;\n",
              "    }\n",
              "\n",
              "    [theme=dark] .colab-df-convert {\n",
              "      background-color: #3B4455;\n",
              "      fill: #D2E3FC;\n",
              "    }\n",
              "\n",
              "    [theme=dark] .colab-df-convert:hover {\n",
              "      background-color: #434B5C;\n",
              "      box-shadow: 0px 1px 3px 1px rgba(0, 0, 0, 0.15);\n",
              "      filter: drop-shadow(0px 1px 2px rgba(0, 0, 0, 0.3));\n",
              "      fill: #FFFFFF;\n",
              "    }\n",
              "  </style>\n",
              "\n",
              "      <script>\n",
              "        const buttonEl =\n",
              "          document.querySelector('#df-85e95039-71d1-401c-ae60-79ebdfee639a button.colab-df-convert');\n",
              "        buttonEl.style.display =\n",
              "          google.colab.kernel.accessAllowed ? 'block' : 'none';\n",
              "\n",
              "        async function convertToInteractive(key) {\n",
              "          const element = document.querySelector('#df-85e95039-71d1-401c-ae60-79ebdfee639a');\n",
              "          const dataTable =\n",
              "            await google.colab.kernel.invokeFunction('convertToInteractive',\n",
              "                                                     [key], {});\n",
              "          if (!dataTable) return;\n",
              "\n",
              "          const docLinkHtml = 'Like what you see? Visit the ' +\n",
              "            '<a target=\"_blank\" href=https://colab.research.google.com/notebooks/data_table.ipynb>data table notebook</a>'\n",
              "            + ' to learn more about interactive tables.';\n",
              "          element.innerHTML = '';\n",
              "          dataTable['output_type'] = 'display_data';\n",
              "          await google.colab.output.renderOutput(dataTable, element);\n",
              "          const docLink = document.createElement('div');\n",
              "          docLink.innerHTML = docLinkHtml;\n",
              "          element.appendChild(docLink);\n",
              "        }\n",
              "      </script>\n",
              "    </div>\n",
              "  </div>\n",
              "  "
            ]
          },
          "metadata": {},
          "execution_count": 4
        }
      ],
      "source": [
        "# changing columna name overall to Rating for sake of better understand \n",
        "review_df = review_df.rename(columns={'overall': 'Rating'})\n",
        "\n",
        "print (\"Total data:\", str(review_df.shape))\n",
        "review_df.head()"
      ]
    },
    {
      "cell_type": "code",
      "execution_count": 5,
      "metadata": {
        "id": "zKc99hYKddNB"
      },
      "outputs": [],
      "source": [
        "## get the metadata dataframe\n",
        "\n",
        "import gzip\n",
        "\n",
        "def parse(path):\n",
        "  g = gzip.open(path, 'rb')\n",
        "  for l in g:\n",
        "    yield eval(l)\n",
        "\n",
        "def getDF(path):\n",
        "  i = 0\n",
        "  df = {}\n",
        "  for d in parse(path):\n",
        "    df[i] = d\n",
        "    i += 1\n",
        "  return pd.DataFrame.from_dict(df, orient='index')\n",
        "\n",
        "df_meta = getDF('sample_data/meta_All_Beauty.json.gz')"
      ]
    },
    {
      "cell_type": "code",
      "execution_count": 6,
      "metadata": {
        "colab": {
          "base_uri": "https://localhost:8080/",
          "height": 652
        },
        "id": "bclC44q5drDa",
        "outputId": "69a94975-dad5-483a-db3e-f6be1a0d2a82"
      },
      "outputs": [
        {
          "output_type": "execute_result",
          "data": {
            "text/plain": [
              "  category tech1                                        description fit  \\\n",
              "0       []        [Loud 'N Clear Personal Sound Amplifier allows...       \n",
              "1       []        [No7 Lift & Luminate Triple Action Serum 50ml ...       \n",
              "2       []        [No7 Stay Perfect Foundation now stays perfect...       \n",
              "3       []                                                       []       \n",
              "4       []        [Lacto Calamine Skin Balance Daily Nourishing ...       \n",
              "\n",
              "                                               title  \\\n",
              "0      Loud 'N Clear&trade; Personal Sound Amplifier   \n",
              "1  No7 Lift &amp; Luminate Triple Action Serum 50...   \n",
              "2    No7 Stay Perfect Foundation Cool Vanilla by No7   \n",
              "3  Wella Koleston Perfect Hair Colour 44/44 Mediu...   \n",
              "4  Lacto Calamine Skin Balance Oil control 120 ml...   \n",
              "\n",
              "                   also_buy tech2              brand feature  \\\n",
              "0                        []             idea village      []   \n",
              "1  [B01E7LCSL6, B008X5RVME]                               []   \n",
              "2                        []                      No7      []   \n",
              "3              [B0041PBXX8]                               []   \n",
              "4                        []        Pirmal Healthcare      []   \n",
              "\n",
              "                                    rank  \\\n",
              "0  2,938,573 in Beauty & Personal Care (   \n",
              "1    872,854 in Beauty & Personal Care (   \n",
              "2    956,696 in Beauty & Personal Care (   \n",
              "3  1,870,258 in Beauty & Personal Care (   \n",
              "4     67,701 in Beauty & Personal Care (   \n",
              "\n",
              "                                           also_view  \\\n",
              "0                                                 []   \n",
              "1                                                 []   \n",
              "2               [B01B8BR0O8, B01B8BR0NO, B014MHXXM8]   \n",
              "3                                                 []   \n",
              "4  [3254895630, B007VL1D9S, B00EH9A0RI, B0773MBG4...   \n",
              "\n",
              "                                             details    main_cat  \\\n",
              "0                           {'ASIN: ': '6546546450'}  All Beauty   \n",
              "1  {'Shipping Weight:': '0.3 ounces (', 'ASIN: ':...  All Beauty   \n",
              "2  {'Shipping Weight:': '3.5 ounces (', 'ASIN: ':...  All Beauty   \n",
              "3  {'\n",
              "    Item Weight: \n",
              "    ': '1.76 ounces', 'Sh...  All Beauty   \n",
              "4  {'Shipping Weight:': '12 ounces (', 'ASIN: ': ...  All Beauty   \n",
              "\n",
              "                                        similar_item date   price        asin  \\\n",
              "0                                                                  6546546450   \n",
              "1   class=\"a-bordered a-horizontal-stripes  a-spa...       $44.99  7178680776   \n",
              "2                                                          $28.76  7250468162   \n",
              "3                                                                  7367905066   \n",
              "4                                                          $12.15  7414204790   \n",
              "\n",
              "                                            imageURL  \\\n",
              "0                                                 []   \n",
              "1                                                 []   \n",
              "2                                                 []   \n",
              "3  [https://images-na.ssl-images-amazon.com/image...   \n",
              "4  [https://images-na.ssl-images-amazon.com/image...   \n",
              "\n",
              "                                     imageURLHighRes  \n",
              "0                                                 []  \n",
              "1                                                 []  \n",
              "2                                                 []  \n",
              "3  [https://images-na.ssl-images-amazon.com/image...  \n",
              "4  [https://images-na.ssl-images-amazon.com/image...  "
            ],
            "text/html": [
              "\n",
              "  <div id=\"df-c61b3128-4dac-4c82-a0f5-61d10d775a4e\">\n",
              "    <div class=\"colab-df-container\">\n",
              "      <div>\n",
              "<style scoped>\n",
              "    .dataframe tbody tr th:only-of-type {\n",
              "        vertical-align: middle;\n",
              "    }\n",
              "\n",
              "    .dataframe tbody tr th {\n",
              "        vertical-align: top;\n",
              "    }\n",
              "\n",
              "    .dataframe thead th {\n",
              "        text-align: right;\n",
              "    }\n",
              "</style>\n",
              "<table border=\"1\" class=\"dataframe\">\n",
              "  <thead>\n",
              "    <tr style=\"text-align: right;\">\n",
              "      <th></th>\n",
              "      <th>category</th>\n",
              "      <th>tech1</th>\n",
              "      <th>description</th>\n",
              "      <th>fit</th>\n",
              "      <th>title</th>\n",
              "      <th>also_buy</th>\n",
              "      <th>tech2</th>\n",
              "      <th>brand</th>\n",
              "      <th>feature</th>\n",
              "      <th>rank</th>\n",
              "      <th>also_view</th>\n",
              "      <th>details</th>\n",
              "      <th>main_cat</th>\n",
              "      <th>similar_item</th>\n",
              "      <th>date</th>\n",
              "      <th>price</th>\n",
              "      <th>asin</th>\n",
              "      <th>imageURL</th>\n",
              "      <th>imageURLHighRes</th>\n",
              "    </tr>\n",
              "  </thead>\n",
              "  <tbody>\n",
              "    <tr>\n",
              "      <th>0</th>\n",
              "      <td>[]</td>\n",
              "      <td></td>\n",
              "      <td>[Loud 'N Clear Personal Sound Amplifier allows...</td>\n",
              "      <td></td>\n",
              "      <td>Loud 'N Clear&amp;trade; Personal Sound Amplifier</td>\n",
              "      <td>[]</td>\n",
              "      <td></td>\n",
              "      <td>idea village</td>\n",
              "      <td>[]</td>\n",
              "      <td>2,938,573 in Beauty &amp; Personal Care (</td>\n",
              "      <td>[]</td>\n",
              "      <td>{'ASIN: ': '6546546450'}</td>\n",
              "      <td>All Beauty</td>\n",
              "      <td></td>\n",
              "      <td></td>\n",
              "      <td></td>\n",
              "      <td>6546546450</td>\n",
              "      <td>[]</td>\n",
              "      <td>[]</td>\n",
              "    </tr>\n",
              "    <tr>\n",
              "      <th>1</th>\n",
              "      <td>[]</td>\n",
              "      <td></td>\n",
              "      <td>[No7 Lift &amp; Luminate Triple Action Serum 50ml ...</td>\n",
              "      <td></td>\n",
              "      <td>No7 Lift &amp;amp; Luminate Triple Action Serum 50...</td>\n",
              "      <td>[B01E7LCSL6, B008X5RVME]</td>\n",
              "      <td></td>\n",
              "      <td></td>\n",
              "      <td>[]</td>\n",
              "      <td>872,854 in Beauty &amp; Personal Care (</td>\n",
              "      <td>[]</td>\n",
              "      <td>{'Shipping Weight:': '0.3 ounces (', 'ASIN: ':...</td>\n",
              "      <td>All Beauty</td>\n",
              "      <td>class=\"a-bordered a-horizontal-stripes  a-spa...</td>\n",
              "      <td></td>\n",
              "      <td>$44.99</td>\n",
              "      <td>7178680776</td>\n",
              "      <td>[]</td>\n",
              "      <td>[]</td>\n",
              "    </tr>\n",
              "    <tr>\n",
              "      <th>2</th>\n",
              "      <td>[]</td>\n",
              "      <td></td>\n",
              "      <td>[No7 Stay Perfect Foundation now stays perfect...</td>\n",
              "      <td></td>\n",
              "      <td>No7 Stay Perfect Foundation Cool Vanilla by No7</td>\n",
              "      <td>[]</td>\n",
              "      <td></td>\n",
              "      <td>No7</td>\n",
              "      <td>[]</td>\n",
              "      <td>956,696 in Beauty &amp; Personal Care (</td>\n",
              "      <td>[B01B8BR0O8, B01B8BR0NO, B014MHXXM8]</td>\n",
              "      <td>{'Shipping Weight:': '3.5 ounces (', 'ASIN: ':...</td>\n",
              "      <td>All Beauty</td>\n",
              "      <td></td>\n",
              "      <td></td>\n",
              "      <td>$28.76</td>\n",
              "      <td>7250468162</td>\n",
              "      <td>[]</td>\n",
              "      <td>[]</td>\n",
              "    </tr>\n",
              "    <tr>\n",
              "      <th>3</th>\n",
              "      <td>[]</td>\n",
              "      <td></td>\n",
              "      <td>[]</td>\n",
              "      <td></td>\n",
              "      <td>Wella Koleston Perfect Hair Colour 44/44 Mediu...</td>\n",
              "      <td>[B0041PBXX8]</td>\n",
              "      <td></td>\n",
              "      <td></td>\n",
              "      <td>[]</td>\n",
              "      <td>1,870,258 in Beauty &amp; Personal Care (</td>\n",
              "      <td>[]</td>\n",
              "      <td>{'\n",
              "    Item Weight: \n",
              "    ': '1.76 ounces', 'Sh...</td>\n",
              "      <td>All Beauty</td>\n",
              "      <td></td>\n",
              "      <td></td>\n",
              "      <td></td>\n",
              "      <td>7367905066</td>\n",
              "      <td>[https://images-na.ssl-images-amazon.com/image...</td>\n",
              "      <td>[https://images-na.ssl-images-amazon.com/image...</td>\n",
              "    </tr>\n",
              "    <tr>\n",
              "      <th>4</th>\n",
              "      <td>[]</td>\n",
              "      <td></td>\n",
              "      <td>[Lacto Calamine Skin Balance Daily Nourishing ...</td>\n",
              "      <td></td>\n",
              "      <td>Lacto Calamine Skin Balance Oil control 120 ml...</td>\n",
              "      <td>[]</td>\n",
              "      <td></td>\n",
              "      <td>Pirmal Healthcare</td>\n",
              "      <td>[]</td>\n",
              "      <td>67,701 in Beauty &amp; Personal Care (</td>\n",
              "      <td>[3254895630, B007VL1D9S, B00EH9A0RI, B0773MBG4...</td>\n",
              "      <td>{'Shipping Weight:': '12 ounces (', 'ASIN: ': ...</td>\n",
              "      <td>All Beauty</td>\n",
              "      <td></td>\n",
              "      <td></td>\n",
              "      <td>$12.15</td>\n",
              "      <td>7414204790</td>\n",
              "      <td>[https://images-na.ssl-images-amazon.com/image...</td>\n",
              "      <td>[https://images-na.ssl-images-amazon.com/image...</td>\n",
              "    </tr>\n",
              "  </tbody>\n",
              "</table>\n",
              "</div>\n",
              "      <button class=\"colab-df-convert\" onclick=\"convertToInteractive('df-c61b3128-4dac-4c82-a0f5-61d10d775a4e')\"\n",
              "              title=\"Convert this dataframe to an interactive table.\"\n",
              "              style=\"display:none;\">\n",
              "        \n",
              "  <svg xmlns=\"http://www.w3.org/2000/svg\" height=\"24px\"viewBox=\"0 0 24 24\"\n",
              "       width=\"24px\">\n",
              "    <path d=\"M0 0h24v24H0V0z\" fill=\"none\"/>\n",
              "    <path d=\"M18.56 5.44l.94 2.06.94-2.06 2.06-.94-2.06-.94-.94-2.06-.94 2.06-2.06.94zm-11 1L8.5 8.5l.94-2.06 2.06-.94-2.06-.94L8.5 2.5l-.94 2.06-2.06.94zm10 10l.94 2.06.94-2.06 2.06-.94-2.06-.94-.94-2.06-.94 2.06-2.06.94z\"/><path d=\"M17.41 7.96l-1.37-1.37c-.4-.4-.92-.59-1.43-.59-.52 0-1.04.2-1.43.59L10.3 9.45l-7.72 7.72c-.78.78-.78 2.05 0 2.83L4 21.41c.39.39.9.59 1.41.59.51 0 1.02-.2 1.41-.59l7.78-7.78 2.81-2.81c.8-.78.8-2.07 0-2.86zM5.41 20L4 18.59l7.72-7.72 1.47 1.35L5.41 20z\"/>\n",
              "  </svg>\n",
              "      </button>\n",
              "      \n",
              "  <style>\n",
              "    .colab-df-container {\n",
              "      display:flex;\n",
              "      flex-wrap:wrap;\n",
              "      gap: 12px;\n",
              "    }\n",
              "\n",
              "    .colab-df-convert {\n",
              "      background-color: #E8F0FE;\n",
              "      border: none;\n",
              "      border-radius: 50%;\n",
              "      cursor: pointer;\n",
              "      display: none;\n",
              "      fill: #1967D2;\n",
              "      height: 32px;\n",
              "      padding: 0 0 0 0;\n",
              "      width: 32px;\n",
              "    }\n",
              "\n",
              "    .colab-df-convert:hover {\n",
              "      background-color: #E2EBFA;\n",
              "      box-shadow: 0px 1px 2px rgba(60, 64, 67, 0.3), 0px 1px 3px 1px rgba(60, 64, 67, 0.15);\n",
              "      fill: #174EA6;\n",
              "    }\n",
              "\n",
              "    [theme=dark] .colab-df-convert {\n",
              "      background-color: #3B4455;\n",
              "      fill: #D2E3FC;\n",
              "    }\n",
              "\n",
              "    [theme=dark] .colab-df-convert:hover {\n",
              "      background-color: #434B5C;\n",
              "      box-shadow: 0px 1px 3px 1px rgba(0, 0, 0, 0.15);\n",
              "      filter: drop-shadow(0px 1px 2px rgba(0, 0, 0, 0.3));\n",
              "      fill: #FFFFFF;\n",
              "    }\n",
              "  </style>\n",
              "\n",
              "      <script>\n",
              "        const buttonEl =\n",
              "          document.querySelector('#df-c61b3128-4dac-4c82-a0f5-61d10d775a4e button.colab-df-convert');\n",
              "        buttonEl.style.display =\n",
              "          google.colab.kernel.accessAllowed ? 'block' : 'none';\n",
              "\n",
              "        async function convertToInteractive(key) {\n",
              "          const element = document.querySelector('#df-c61b3128-4dac-4c82-a0f5-61d10d775a4e');\n",
              "          const dataTable =\n",
              "            await google.colab.kernel.invokeFunction('convertToInteractive',\n",
              "                                                     [key], {});\n",
              "          if (!dataTable) return;\n",
              "\n",
              "          const docLinkHtml = 'Like what you see? Visit the ' +\n",
              "            '<a target=\"_blank\" href=https://colab.research.google.com/notebooks/data_table.ipynb>data table notebook</a>'\n",
              "            + ' to learn more about interactive tables.';\n",
              "          element.innerHTML = '';\n",
              "          dataTable['output_type'] = 'display_data';\n",
              "          await google.colab.output.renderOutput(dataTable, element);\n",
              "          const docLink = document.createElement('div');\n",
              "          docLink.innerHTML = docLinkHtml;\n",
              "          element.appendChild(docLink);\n",
              "        }\n",
              "      </script>\n",
              "    </div>\n",
              "  </div>\n",
              "  "
            ]
          },
          "metadata": {},
          "execution_count": 6
        }
      ],
      "source": [
        "df_meta.head()"
      ]
    },
    {
      "cell_type": "code",
      "execution_count": 7,
      "metadata": {
        "id": "CqJKLDvrd-AJ"
      },
      "outputs": [],
      "source": [
        "## merging the reviews and metadata dataframes we obtain the dataframe with all necessary information.\n",
        "\n",
        "df_product_reviews = pd.merge(review_df,df_meta,on=\"asin\",how=\"left\")"
      ]
    },
    {
      "cell_type": "code",
      "execution_count": 8,
      "metadata": {
        "colab": {
          "base_uri": "https://localhost:8080/",
          "height": 612
        },
        "id": "4VM1pIq3eVQx",
        "outputId": "36106579-dea2-4d67-8f26-0d14d5f6ddbb"
      },
      "outputs": [
        {
          "output_type": "execute_result",
          "data": {
            "text/plain": [
              "   Rating  verified   reviewTime      reviewerID        asin  \\\n",
              "0       1      True  02 19, 2015  A1V6B6TNIC10QE  0143026860   \n",
              "1       4      True  12 18, 2014  A2F5GHSXFQ0W6J  0143026860   \n",
              "2       4      True  08 10, 2014  A1572GUYS7DGSR  0143026860   \n",
              "3       5      True  03 11, 2013   A1PSGLFK1NSVO  0143026860   \n",
              "4       5      True  12 25, 2011   A6IKXKZMTKGSC  0143026860   \n",
              "\n",
              "        reviewerName                                         reviewText  \\\n",
              "0  theodore j bigham                                              great   \n",
              "1       Mary K. Byke  My  husband wanted to reading about the Negro ...   \n",
              "2            David G  This book was very informative, covering all a...   \n",
              "3               TamB  I am already a baseball fan and knew a bit abo...   \n",
              "4         shoecanary  This was a good story of the Black leagues. I ...   \n",
              "\n",
              "                                             summary  unixReviewTime vote  \\\n",
              "0                                           One Star      1424304000  NaN   \n",
              "1  ... to reading about the Negro Baseball and th...      1418860800  NaN   \n",
              "2                                     Worth the Read      1407628800  NaN   \n",
              "3                                          Good Read      1362960000  NaN   \n",
              "4                More than facts, a good story read!      1324771200    5   \n",
              "\n",
              "   ... feature rank also_view details main_cat similar_item date price  \\\n",
              "0  ...     NaN  NaN       NaN     NaN      NaN          NaN  NaN   NaN   \n",
              "1  ...     NaN  NaN       NaN     NaN      NaN          NaN  NaN   NaN   \n",
              "2  ...     NaN  NaN       NaN     NaN      NaN          NaN  NaN   NaN   \n",
              "3  ...     NaN  NaN       NaN     NaN      NaN          NaN  NaN   NaN   \n",
              "4  ...     NaN  NaN       NaN     NaN      NaN          NaN  NaN   NaN   \n",
              "\n",
              "  imageURL imageURLHighRes  \n",
              "0      NaN             NaN  \n",
              "1      NaN             NaN  \n",
              "2      NaN             NaN  \n",
              "3      NaN             NaN  \n",
              "4      NaN             NaN  \n",
              "\n",
              "[5 rows x 30 columns]"
            ],
            "text/html": [
              "\n",
              "  <div id=\"df-08d984e8-a446-4abe-9e44-6d823cb7a130\">\n",
              "    <div class=\"colab-df-container\">\n",
              "      <div>\n",
              "<style scoped>\n",
              "    .dataframe tbody tr th:only-of-type {\n",
              "        vertical-align: middle;\n",
              "    }\n",
              "\n",
              "    .dataframe tbody tr th {\n",
              "        vertical-align: top;\n",
              "    }\n",
              "\n",
              "    .dataframe thead th {\n",
              "        text-align: right;\n",
              "    }\n",
              "</style>\n",
              "<table border=\"1\" class=\"dataframe\">\n",
              "  <thead>\n",
              "    <tr style=\"text-align: right;\">\n",
              "      <th></th>\n",
              "      <th>Rating</th>\n",
              "      <th>verified</th>\n",
              "      <th>reviewTime</th>\n",
              "      <th>reviewerID</th>\n",
              "      <th>asin</th>\n",
              "      <th>reviewerName</th>\n",
              "      <th>reviewText</th>\n",
              "      <th>summary</th>\n",
              "      <th>unixReviewTime</th>\n",
              "      <th>vote</th>\n",
              "      <th>...</th>\n",
              "      <th>feature</th>\n",
              "      <th>rank</th>\n",
              "      <th>also_view</th>\n",
              "      <th>details</th>\n",
              "      <th>main_cat</th>\n",
              "      <th>similar_item</th>\n",
              "      <th>date</th>\n",
              "      <th>price</th>\n",
              "      <th>imageURL</th>\n",
              "      <th>imageURLHighRes</th>\n",
              "    </tr>\n",
              "  </thead>\n",
              "  <tbody>\n",
              "    <tr>\n",
              "      <th>0</th>\n",
              "      <td>1</td>\n",
              "      <td>True</td>\n",
              "      <td>02 19, 2015</td>\n",
              "      <td>A1V6B6TNIC10QE</td>\n",
              "      <td>0143026860</td>\n",
              "      <td>theodore j bigham</td>\n",
              "      <td>great</td>\n",
              "      <td>One Star</td>\n",
              "      <td>1424304000</td>\n",
              "      <td>NaN</td>\n",
              "      <td>...</td>\n",
              "      <td>NaN</td>\n",
              "      <td>NaN</td>\n",
              "      <td>NaN</td>\n",
              "      <td>NaN</td>\n",
              "      <td>NaN</td>\n",
              "      <td>NaN</td>\n",
              "      <td>NaN</td>\n",
              "      <td>NaN</td>\n",
              "      <td>NaN</td>\n",
              "      <td>NaN</td>\n",
              "    </tr>\n",
              "    <tr>\n",
              "      <th>1</th>\n",
              "      <td>4</td>\n",
              "      <td>True</td>\n",
              "      <td>12 18, 2014</td>\n",
              "      <td>A2F5GHSXFQ0W6J</td>\n",
              "      <td>0143026860</td>\n",
              "      <td>Mary K. Byke</td>\n",
              "      <td>My  husband wanted to reading about the Negro ...</td>\n",
              "      <td>... to reading about the Negro Baseball and th...</td>\n",
              "      <td>1418860800</td>\n",
              "      <td>NaN</td>\n",
              "      <td>...</td>\n",
              "      <td>NaN</td>\n",
              "      <td>NaN</td>\n",
              "      <td>NaN</td>\n",
              "      <td>NaN</td>\n",
              "      <td>NaN</td>\n",
              "      <td>NaN</td>\n",
              "      <td>NaN</td>\n",
              "      <td>NaN</td>\n",
              "      <td>NaN</td>\n",
              "      <td>NaN</td>\n",
              "    </tr>\n",
              "    <tr>\n",
              "      <th>2</th>\n",
              "      <td>4</td>\n",
              "      <td>True</td>\n",
              "      <td>08 10, 2014</td>\n",
              "      <td>A1572GUYS7DGSR</td>\n",
              "      <td>0143026860</td>\n",
              "      <td>David G</td>\n",
              "      <td>This book was very informative, covering all a...</td>\n",
              "      <td>Worth the Read</td>\n",
              "      <td>1407628800</td>\n",
              "      <td>NaN</td>\n",
              "      <td>...</td>\n",
              "      <td>NaN</td>\n",
              "      <td>NaN</td>\n",
              "      <td>NaN</td>\n",
              "      <td>NaN</td>\n",
              "      <td>NaN</td>\n",
              "      <td>NaN</td>\n",
              "      <td>NaN</td>\n",
              "      <td>NaN</td>\n",
              "      <td>NaN</td>\n",
              "      <td>NaN</td>\n",
              "    </tr>\n",
              "    <tr>\n",
              "      <th>3</th>\n",
              "      <td>5</td>\n",
              "      <td>True</td>\n",
              "      <td>03 11, 2013</td>\n",
              "      <td>A1PSGLFK1NSVO</td>\n",
              "      <td>0143026860</td>\n",
              "      <td>TamB</td>\n",
              "      <td>I am already a baseball fan and knew a bit abo...</td>\n",
              "      <td>Good Read</td>\n",
              "      <td>1362960000</td>\n",
              "      <td>NaN</td>\n",
              "      <td>...</td>\n",
              "      <td>NaN</td>\n",
              "      <td>NaN</td>\n",
              "      <td>NaN</td>\n",
              "      <td>NaN</td>\n",
              "      <td>NaN</td>\n",
              "      <td>NaN</td>\n",
              "      <td>NaN</td>\n",
              "      <td>NaN</td>\n",
              "      <td>NaN</td>\n",
              "      <td>NaN</td>\n",
              "    </tr>\n",
              "    <tr>\n",
              "      <th>4</th>\n",
              "      <td>5</td>\n",
              "      <td>True</td>\n",
              "      <td>12 25, 2011</td>\n",
              "      <td>A6IKXKZMTKGSC</td>\n",
              "      <td>0143026860</td>\n",
              "      <td>shoecanary</td>\n",
              "      <td>This was a good story of the Black leagues. I ...</td>\n",
              "      <td>More than facts, a good story read!</td>\n",
              "      <td>1324771200</td>\n",
              "      <td>5</td>\n",
              "      <td>...</td>\n",
              "      <td>NaN</td>\n",
              "      <td>NaN</td>\n",
              "      <td>NaN</td>\n",
              "      <td>NaN</td>\n",
              "      <td>NaN</td>\n",
              "      <td>NaN</td>\n",
              "      <td>NaN</td>\n",
              "      <td>NaN</td>\n",
              "      <td>NaN</td>\n",
              "      <td>NaN</td>\n",
              "    </tr>\n",
              "  </tbody>\n",
              "</table>\n",
              "<p>5 rows × 30 columns</p>\n",
              "</div>\n",
              "      <button class=\"colab-df-convert\" onclick=\"convertToInteractive('df-08d984e8-a446-4abe-9e44-6d823cb7a130')\"\n",
              "              title=\"Convert this dataframe to an interactive table.\"\n",
              "              style=\"display:none;\">\n",
              "        \n",
              "  <svg xmlns=\"http://www.w3.org/2000/svg\" height=\"24px\"viewBox=\"0 0 24 24\"\n",
              "       width=\"24px\">\n",
              "    <path d=\"M0 0h24v24H0V0z\" fill=\"none\"/>\n",
              "    <path d=\"M18.56 5.44l.94 2.06.94-2.06 2.06-.94-2.06-.94-.94-2.06-.94 2.06-2.06.94zm-11 1L8.5 8.5l.94-2.06 2.06-.94-2.06-.94L8.5 2.5l-.94 2.06-2.06.94zm10 10l.94 2.06.94-2.06 2.06-.94-2.06-.94-.94-2.06-.94 2.06-2.06.94z\"/><path d=\"M17.41 7.96l-1.37-1.37c-.4-.4-.92-.59-1.43-.59-.52 0-1.04.2-1.43.59L10.3 9.45l-7.72 7.72c-.78.78-.78 2.05 0 2.83L4 21.41c.39.39.9.59 1.41.59.51 0 1.02-.2 1.41-.59l7.78-7.78 2.81-2.81c.8-.78.8-2.07 0-2.86zM5.41 20L4 18.59l7.72-7.72 1.47 1.35L5.41 20z\"/>\n",
              "  </svg>\n",
              "      </button>\n",
              "      \n",
              "  <style>\n",
              "    .colab-df-container {\n",
              "      display:flex;\n",
              "      flex-wrap:wrap;\n",
              "      gap: 12px;\n",
              "    }\n",
              "\n",
              "    .colab-df-convert {\n",
              "      background-color: #E8F0FE;\n",
              "      border: none;\n",
              "      border-radius: 50%;\n",
              "      cursor: pointer;\n",
              "      display: none;\n",
              "      fill: #1967D2;\n",
              "      height: 32px;\n",
              "      padding: 0 0 0 0;\n",
              "      width: 32px;\n",
              "    }\n",
              "\n",
              "    .colab-df-convert:hover {\n",
              "      background-color: #E2EBFA;\n",
              "      box-shadow: 0px 1px 2px rgba(60, 64, 67, 0.3), 0px 1px 3px 1px rgba(60, 64, 67, 0.15);\n",
              "      fill: #174EA6;\n",
              "    }\n",
              "\n",
              "    [theme=dark] .colab-df-convert {\n",
              "      background-color: #3B4455;\n",
              "      fill: #D2E3FC;\n",
              "    }\n",
              "\n",
              "    [theme=dark] .colab-df-convert:hover {\n",
              "      background-color: #434B5C;\n",
              "      box-shadow: 0px 1px 3px 1px rgba(0, 0, 0, 0.15);\n",
              "      filter: drop-shadow(0px 1px 2px rgba(0, 0, 0, 0.3));\n",
              "      fill: #FFFFFF;\n",
              "    }\n",
              "  </style>\n",
              "\n",
              "      <script>\n",
              "        const buttonEl =\n",
              "          document.querySelector('#df-08d984e8-a446-4abe-9e44-6d823cb7a130 button.colab-df-convert');\n",
              "        buttonEl.style.display =\n",
              "          google.colab.kernel.accessAllowed ? 'block' : 'none';\n",
              "\n",
              "        async function convertToInteractive(key) {\n",
              "          const element = document.querySelector('#df-08d984e8-a446-4abe-9e44-6d823cb7a130');\n",
              "          const dataTable =\n",
              "            await google.colab.kernel.invokeFunction('convertToInteractive',\n",
              "                                                     [key], {});\n",
              "          if (!dataTable) return;\n",
              "\n",
              "          const docLinkHtml = 'Like what you see? Visit the ' +\n",
              "            '<a target=\"_blank\" href=https://colab.research.google.com/notebooks/data_table.ipynb>data table notebook</a>'\n",
              "            + ' to learn more about interactive tables.';\n",
              "          element.innerHTML = '';\n",
              "          dataTable['output_type'] = 'display_data';\n",
              "          await google.colab.output.renderOutput(dataTable, element);\n",
              "          const docLink = document.createElement('div');\n",
              "          docLink.innerHTML = docLinkHtml;\n",
              "          element.appendChild(docLink);\n",
              "        }\n",
              "      </script>\n",
              "    </div>\n",
              "  </div>\n",
              "  "
            ]
          },
          "metadata": {},
          "execution_count": 8
        }
      ],
      "source": [
        "df_product_reviews.head()"
      ]
    },
    {
      "cell_type": "code",
      "execution_count": 9,
      "metadata": {
        "colab": {
          "base_uri": "https://localhost:8080/"
        },
        "id": "8zYP3-XyeZ0M",
        "outputId": "60b65159-272b-4d4d-f05c-e2ffb0e51efb"
      },
      "outputs": [
        {
          "output_type": "execute_result",
          "data": {
            "text/plain": [
              "(387654, 30)"
            ]
          },
          "metadata": {},
          "execution_count": 9
        }
      ],
      "source": [
        "df_product_reviews.shape"
      ]
    },
    {
      "cell_type": "code",
      "execution_count": 10,
      "metadata": {
        "colab": {
          "base_uri": "https://localhost:8080/"
        },
        "id": "fajqWJVbK9qi",
        "outputId": "4ce08101-b1c7-46b6-8195-c91ce2b24598"
      },
      "outputs": [
        {
          "output_type": "stream",
          "name": "stdout",
          "text": [
            "<class 'pandas.core.frame.DataFrame'>\n",
            "Int64Index: 387654 entries, 0 to 387653\n",
            "Data columns (total 30 columns):\n",
            " #   Column           Non-Null Count   Dtype \n",
            "---  ------           --------------   ----- \n",
            " 0   Rating           387654 non-null  int64 \n",
            " 1   verified         387654 non-null  bool  \n",
            " 2   reviewTime       387654 non-null  object\n",
            " 3   reviewerID       387654 non-null  object\n",
            " 4   asin             387654 non-null  object\n",
            " 5   reviewerName     387615 non-null  object\n",
            " 6   reviewText       387250 non-null  object\n",
            " 7   summary          387442 non-null  object\n",
            " 8   unixReviewTime   387654 non-null  int64 \n",
            " 9   vote             54919 non-null   object\n",
            " 10  style            132942 non-null  object\n",
            " 11  image            8507 non-null    object\n",
            " 12  category         382532 non-null  object\n",
            " 13  tech1            382532 non-null  object\n",
            " 14  description      382532 non-null  object\n",
            " 15  fit              382532 non-null  object\n",
            " 16  title            382532 non-null  object\n",
            " 17  also_buy         382532 non-null  object\n",
            " 18  tech2            382532 non-null  object\n",
            " 19  brand            382532 non-null  object\n",
            " 20  feature          382532 non-null  object\n",
            " 21  rank             382532 non-null  object\n",
            " 22  also_view        382532 non-null  object\n",
            " 23  details          382532 non-null  object\n",
            " 24  main_cat         382532 non-null  object\n",
            " 25  similar_item     382532 non-null  object\n",
            " 26  date             382532 non-null  object\n",
            " 27  price            382532 non-null  object\n",
            " 28  imageURL         382532 non-null  object\n",
            " 29  imageURLHighRes  382532 non-null  object\n",
            "dtypes: bool(1), int64(2), object(27)\n",
            "memory usage: 89.1+ MB\n"
          ]
        }
      ],
      "source": [
        "df_product_reviews.info()"
      ]
    },
    {
      "cell_type": "code",
      "execution_count": 11,
      "metadata": {
        "colab": {
          "base_uri": "https://localhost:8080/"
        },
        "id": "a48P8QubLF8n",
        "outputId": "aa65619b-dca0-40a7-9401-accecf1f4eac"
      },
      "outputs": [
        {
          "output_type": "execute_result",
          "data": {
            "text/plain": [
              "Rating                  0\n",
              "verified                0\n",
              "reviewTime              0\n",
              "reviewerID              0\n",
              "asin                    0\n",
              "reviewerName           39\n",
              "reviewText            404\n",
              "summary               212\n",
              "unixReviewTime          0\n",
              "vote               332735\n",
              "style              254712\n",
              "image              379147\n",
              "category             5122\n",
              "tech1                5122\n",
              "description          5122\n",
              "fit                  5122\n",
              "title                5122\n",
              "also_buy             5122\n",
              "tech2                5122\n",
              "brand                5122\n",
              "feature              5122\n",
              "rank                 5122\n",
              "also_view            5122\n",
              "details              5122\n",
              "main_cat             5122\n",
              "similar_item         5122\n",
              "date                 5122\n",
              "price                5122\n",
              "imageURL             5122\n",
              "imageURLHighRes      5122\n",
              "dtype: int64"
            ]
          },
          "metadata": {},
          "execution_count": 11
        }
      ],
      "source": [
        "## check for all columsn with null values to evaluate the validity of the data and keep only data relevant to the whole modeling process.\n",
        "df_product_reviews.isnull().sum()"
      ]
    },
    {
      "cell_type": "code",
      "execution_count": 12,
      "metadata": {
        "id": "ohiV5yDrPKPT"
      },
      "outputs": [],
      "source": [
        "## drop all null values of title from the dataframe to keep only relevant data. If title is null then the product is erroneous.\n",
        "df_product_reviews_cond = df_product_reviews.dropna(subset=[\"title\"])"
      ]
    },
    {
      "cell_type": "code",
      "execution_count": 13,
      "metadata": {
        "colab": {
          "base_uri": "https://localhost:8080/"
        },
        "id": "vHAw6fR3Pvj-",
        "outputId": "80e1577f-276e-4b2a-92fe-6864e4e9922a"
      },
      "outputs": [
        {
          "output_type": "stream",
          "name": "stdout",
          "text": [
            "<class 'pandas.core.frame.DataFrame'>\n",
            "Int64Index: 382532 entries, 4833 to 387653\n",
            "Data columns (total 30 columns):\n",
            " #   Column           Non-Null Count   Dtype \n",
            "---  ------           --------------   ----- \n",
            " 0   Rating           382532 non-null  int64 \n",
            " 1   verified         382532 non-null  bool  \n",
            " 2   reviewTime       382532 non-null  object\n",
            " 3   reviewerID       382532 non-null  object\n",
            " 4   asin             382532 non-null  object\n",
            " 5   reviewerName     382493 non-null  object\n",
            " 6   reviewText       382132 non-null  object\n",
            " 7   summary          382320 non-null  object\n",
            " 8   unixReviewTime   382532 non-null  int64 \n",
            " 9   vote             54741 non-null   object\n",
            " 10  style            128104 non-null  object\n",
            " 11  image            8410 non-null    object\n",
            " 12  category         382532 non-null  object\n",
            " 13  tech1            382532 non-null  object\n",
            " 14  description      382532 non-null  object\n",
            " 15  fit              382532 non-null  object\n",
            " 16  title            382532 non-null  object\n",
            " 17  also_buy         382532 non-null  object\n",
            " 18  tech2            382532 non-null  object\n",
            " 19  brand            382532 non-null  object\n",
            " 20  feature          382532 non-null  object\n",
            " 21  rank             382532 non-null  object\n",
            " 22  also_view        382532 non-null  object\n",
            " 23  details          382532 non-null  object\n",
            " 24  main_cat         382532 non-null  object\n",
            " 25  similar_item     382532 non-null  object\n",
            " 26  date             382532 non-null  object\n",
            " 27  price            382532 non-null  object\n",
            " 28  imageURL         382532 non-null  object\n",
            " 29  imageURLHighRes  382532 non-null  object\n",
            "dtypes: bool(1), int64(2), object(27)\n",
            "memory usage: 87.9+ MB\n"
          ]
        }
      ],
      "source": [
        "## print the condense dataframe after removing null title rows\n",
        "df_product_reviews_cond.info()\n",
        "\n",
        "## you can see all the rows have the title in it so there is accuracy in the products being recommended."
      ]
    },
    {
      "cell_type": "code",
      "execution_count": 14,
      "metadata": {
        "colab": {
          "base_uri": "https://localhost:8080/"
        },
        "id": "gxnZH95GQGkQ",
        "outputId": "63c7f855-3c21-4fdf-ede1-4466d95bfc78"
      },
      "outputs": [
        {
          "output_type": "execute_result",
          "data": {
            "text/plain": [
              "Rating                  0\n",
              "verified                0\n",
              "reviewTime              0\n",
              "reviewerID              0\n",
              "asin                    0\n",
              "reviewerName           39\n",
              "reviewText            400\n",
              "summary               212\n",
              "unixReviewTime          0\n",
              "vote               327791\n",
              "style              254428\n",
              "image              374122\n",
              "category                0\n",
              "tech1                   0\n",
              "description             0\n",
              "fit                     0\n",
              "title                   0\n",
              "also_buy                0\n",
              "tech2                   0\n",
              "brand                   0\n",
              "feature                 0\n",
              "rank                    0\n",
              "also_view               0\n",
              "details                 0\n",
              "main_cat                0\n",
              "similar_item            0\n",
              "date                    0\n",
              "price                   0\n",
              "imageURL                0\n",
              "imageURLHighRes         0\n",
              "dtype: int64"
            ]
          },
          "metadata": {},
          "execution_count": 14
        }
      ],
      "source": [
        "df_product_reviews_cond.isnull().sum()"
      ]
    },
    {
      "cell_type": "code",
      "execution_count": 15,
      "metadata": {
        "id": "F1JyweShTgg3"
      },
      "outputs": [],
      "source": [
        "## fill votes with nan values with 0 to keep data clean\n",
        "df_product_reviews_cond[\"vote\"] = df_product_reviews_cond[\"vote\"].fillna(0)"
      ]
    },
    {
      "cell_type": "code",
      "execution_count": 16,
      "metadata": {
        "id": "3tkb5JjrVUg2"
      },
      "outputs": [],
      "source": [
        "## drop style, image column which is not necessary for our predictions\n",
        "df_product_reviews_cond_1 = df_product_reviews_cond.drop([\"style\",\"image\"],axis=1)"
      ]
    },
    {
      "cell_type": "code",
      "execution_count": 17,
      "metadata": {
        "colab": {
          "base_uri": "https://localhost:8080/"
        },
        "id": "s2hQwt96W4uY",
        "outputId": "cf69155c-30dc-449b-904d-6c1c88bfcca3"
      },
      "outputs": [
        {
          "output_type": "execute_result",
          "data": {
            "text/plain": [
              "Rating               0\n",
              "verified             0\n",
              "reviewTime           0\n",
              "reviewerID           0\n",
              "asin                 0\n",
              "reviewerName        39\n",
              "reviewText         400\n",
              "summary            212\n",
              "unixReviewTime       0\n",
              "vote                 0\n",
              "category             0\n",
              "tech1                0\n",
              "description          0\n",
              "fit                  0\n",
              "title                0\n",
              "also_buy             0\n",
              "tech2                0\n",
              "brand                0\n",
              "feature              0\n",
              "rank                 0\n",
              "also_view            0\n",
              "details              0\n",
              "main_cat             0\n",
              "similar_item         0\n",
              "date                 0\n",
              "price                0\n",
              "imageURL             0\n",
              "imageURLHighRes      0\n",
              "dtype: int64"
            ]
          },
          "metadata": {},
          "execution_count": 17
        }
      ],
      "source": [
        "## check again from null columns \n",
        "df_product_reviews_cond_1.isnull().sum()"
      ]
    },
    {
      "cell_type": "code",
      "execution_count": 18,
      "metadata": {
        "id": "aaa57yuGXanh"
      },
      "outputs": [],
      "source": [
        "## remove rows with null columns values\n",
        "df_product_reviews_cond_2 = df_product_reviews_cond_1.dropna(subset=['reviewerName','reviewText','summary'])"
      ]
    },
    {
      "cell_type": "code",
      "execution_count": 19,
      "metadata": {
        "colab": {
          "base_uri": "https://localhost:8080/"
        },
        "id": "e7y7gTJKXsW2",
        "outputId": "ae05b245-b644-4a6e-a7c2-c22ea311769b"
      },
      "outputs": [
        {
          "output_type": "execute_result",
          "data": {
            "text/plain": [
              "Rating             0\n",
              "verified           0\n",
              "reviewTime         0\n",
              "reviewerID         0\n",
              "asin               0\n",
              "reviewerName       0\n",
              "reviewText         0\n",
              "summary            0\n",
              "unixReviewTime     0\n",
              "vote               0\n",
              "category           0\n",
              "tech1              0\n",
              "description        0\n",
              "fit                0\n",
              "title              0\n",
              "also_buy           0\n",
              "tech2              0\n",
              "brand              0\n",
              "feature            0\n",
              "rank               0\n",
              "also_view          0\n",
              "details            0\n",
              "main_cat           0\n",
              "similar_item       0\n",
              "date               0\n",
              "price              0\n",
              "imageURL           0\n",
              "imageURLHighRes    0\n",
              "dtype: int64"
            ]
          },
          "metadata": {},
          "execution_count": 19
        }
      ],
      "source": [
        "df_product_reviews_cond_2.isnull().sum()\n",
        "## we notice we have all the null values removed and cleaned the dataset to make sure all the columns contains all informative data."
      ]
    },
    {
      "cell_type": "code",
      "execution_count": 20,
      "metadata": {
        "id": "Kcxaz8LcYIJt"
      },
      "outputs": [],
      "source": [
        "## since the summary and reviewtext provide the same review infomration as summary and detail, we concatenate them for simpler usage and\n",
        "## and put it in a single column as full_review\n",
        "\n",
        "df_product_reviews_cond_2[\"full_review\"] = df_product_reviews_cond_2[['summary', 'reviewText']].apply(lambda x: \" \".join(x), axis = 1)\n"
      ]
    },
    {
      "cell_type": "code",
      "execution_count": 21,
      "metadata": {
        "id": "ixCPizkabrtZ"
      },
      "outputs": [],
      "source": [
        "## also remove the merged columns reviewText and summary\n",
        "df_product_reviews_cond_3 = df_product_reviews_cond_2.drop([\"reviewText\",\"summary\"],axis=1)"
      ]
    },
    {
      "cell_type": "code",
      "execution_count": 22,
      "metadata": {
        "colab": {
          "base_uri": "https://localhost:8080/",
          "height": 733
        },
        "id": "HQwwp6GQbmhR",
        "outputId": "3c85ccaa-d87f-47a2-a413-937c9267c323"
      },
      "outputs": [
        {
          "output_type": "execute_result",
          "data": {
            "text/plain": [
              "      Rating  verified   reviewTime      reviewerID        asin  \\\n",
              "4833       5      True  03 10, 2016   A5TA1NJOC0PJ5  7414204790   \n",
              "4834       5      True   09 1, 2015  A1TJICB7VLGQKL  7414204790   \n",
              "4835       5      True   10 3, 2014   A80M2286B7STE  7414204790   \n",
              "4836       5      True   08 7, 2014  A2TM2MAA8IT34U  7414204790   \n",
              "4837       4      True  06 14, 2014   AQGWT465GTEJG  7414204790   \n",
              "\n",
              "           reviewerName  unixReviewTime vote category tech1  ...  \\\n",
              "4833    Amazon Customer      1457568000    0       []        ...   \n",
              "4834                 LH      1441065600    0       []        ...   \n",
              "4835              dolly      1412294400    0       []        ...   \n",
              "4836          Jack Warn      1407369600    0       []        ...   \n",
              "4837  Chitralekha Tulal      1402704000    2       []        ...   \n",
              "\n",
              "                                              also_view  \\\n",
              "4833  [3254895630, B007VL1D9S, B00EH9A0RI, B0773MBG4...   \n",
              "4834  [3254895630, B007VL1D9S, B00EH9A0RI, B0773MBG4...   \n",
              "4835  [3254895630, B007VL1D9S, B00EH9A0RI, B0773MBG4...   \n",
              "4836  [3254895630, B007VL1D9S, B00EH9A0RI, B0773MBG4...   \n",
              "4837  [3254895630, B007VL1D9S, B00EH9A0RI, B0773MBG4...   \n",
              "\n",
              "                                                details    main_cat  \\\n",
              "4833  {'Shipping Weight:': '12 ounces (', 'ASIN: ': ...  All Beauty   \n",
              "4834  {'Shipping Weight:': '12 ounces (', 'ASIN: ': ...  All Beauty   \n",
              "4835  {'Shipping Weight:': '12 ounces (', 'ASIN: ': ...  All Beauty   \n",
              "4836  {'Shipping Weight:': '12 ounces (', 'ASIN: ': ...  All Beauty   \n",
              "4837  {'Shipping Weight:': '12 ounces (', 'ASIN: ': ...  All Beauty   \n",
              "\n",
              "     similar_item date   price  \\\n",
              "4833                    $12.15   \n",
              "4834                    $12.15   \n",
              "4835                    $12.15   \n",
              "4836                    $12.15   \n",
              "4837                    $12.15   \n",
              "\n",
              "                                               imageURL  \\\n",
              "4833  [https://images-na.ssl-images-amazon.com/image...   \n",
              "4834  [https://images-na.ssl-images-amazon.com/image...   \n",
              "4835  [https://images-na.ssl-images-amazon.com/image...   \n",
              "4836  [https://images-na.ssl-images-amazon.com/image...   \n",
              "4837  [https://images-na.ssl-images-amazon.com/image...   \n",
              "\n",
              "                                        imageURLHighRes  \\\n",
              "4833  [https://images-na.ssl-images-amazon.com/image...   \n",
              "4834  [https://images-na.ssl-images-amazon.com/image...   \n",
              "4835  [https://images-na.ssl-images-amazon.com/image...   \n",
              "4836  [https://images-na.ssl-images-amazon.com/image...   \n",
              "4837  [https://images-na.ssl-images-amazon.com/image...   \n",
              "\n",
              "                                            full_review rating_class  \n",
              "4833                     Five Stars Excellent very good         good  \n",
              "4834                           Five Stars Great product         good  \n",
              "4835                                 Five Stars Magical         good  \n",
              "4836                            Five Stars Excellent!!!         good  \n",
              "4837  Very pricey I do like the product a lot...I ha...         good  \n",
              "\n",
              "[5 rows x 28 columns]"
            ],
            "text/html": [
              "\n",
              "  <div id=\"df-a8d82b74-62bf-46e4-9b40-58de5d0b5f95\">\n",
              "    <div class=\"colab-df-container\">\n",
              "      <div>\n",
              "<style scoped>\n",
              "    .dataframe tbody tr th:only-of-type {\n",
              "        vertical-align: middle;\n",
              "    }\n",
              "\n",
              "    .dataframe tbody tr th {\n",
              "        vertical-align: top;\n",
              "    }\n",
              "\n",
              "    .dataframe thead th {\n",
              "        text-align: right;\n",
              "    }\n",
              "</style>\n",
              "<table border=\"1\" class=\"dataframe\">\n",
              "  <thead>\n",
              "    <tr style=\"text-align: right;\">\n",
              "      <th></th>\n",
              "      <th>Rating</th>\n",
              "      <th>verified</th>\n",
              "      <th>reviewTime</th>\n",
              "      <th>reviewerID</th>\n",
              "      <th>asin</th>\n",
              "      <th>reviewerName</th>\n",
              "      <th>unixReviewTime</th>\n",
              "      <th>vote</th>\n",
              "      <th>category</th>\n",
              "      <th>tech1</th>\n",
              "      <th>...</th>\n",
              "      <th>also_view</th>\n",
              "      <th>details</th>\n",
              "      <th>main_cat</th>\n",
              "      <th>similar_item</th>\n",
              "      <th>date</th>\n",
              "      <th>price</th>\n",
              "      <th>imageURL</th>\n",
              "      <th>imageURLHighRes</th>\n",
              "      <th>full_review</th>\n",
              "      <th>rating_class</th>\n",
              "    </tr>\n",
              "  </thead>\n",
              "  <tbody>\n",
              "    <tr>\n",
              "      <th>4833</th>\n",
              "      <td>5</td>\n",
              "      <td>True</td>\n",
              "      <td>03 10, 2016</td>\n",
              "      <td>A5TA1NJOC0PJ5</td>\n",
              "      <td>7414204790</td>\n",
              "      <td>Amazon Customer</td>\n",
              "      <td>1457568000</td>\n",
              "      <td>0</td>\n",
              "      <td>[]</td>\n",
              "      <td></td>\n",
              "      <td>...</td>\n",
              "      <td>[3254895630, B007VL1D9S, B00EH9A0RI, B0773MBG4...</td>\n",
              "      <td>{'Shipping Weight:': '12 ounces (', 'ASIN: ': ...</td>\n",
              "      <td>All Beauty</td>\n",
              "      <td></td>\n",
              "      <td></td>\n",
              "      <td>$12.15</td>\n",
              "      <td>[https://images-na.ssl-images-amazon.com/image...</td>\n",
              "      <td>[https://images-na.ssl-images-amazon.com/image...</td>\n",
              "      <td>Five Stars Excellent very good</td>\n",
              "      <td>good</td>\n",
              "    </tr>\n",
              "    <tr>\n",
              "      <th>4834</th>\n",
              "      <td>5</td>\n",
              "      <td>True</td>\n",
              "      <td>09 1, 2015</td>\n",
              "      <td>A1TJICB7VLGQKL</td>\n",
              "      <td>7414204790</td>\n",
              "      <td>LH</td>\n",
              "      <td>1441065600</td>\n",
              "      <td>0</td>\n",
              "      <td>[]</td>\n",
              "      <td></td>\n",
              "      <td>...</td>\n",
              "      <td>[3254895630, B007VL1D9S, B00EH9A0RI, B0773MBG4...</td>\n",
              "      <td>{'Shipping Weight:': '12 ounces (', 'ASIN: ': ...</td>\n",
              "      <td>All Beauty</td>\n",
              "      <td></td>\n",
              "      <td></td>\n",
              "      <td>$12.15</td>\n",
              "      <td>[https://images-na.ssl-images-amazon.com/image...</td>\n",
              "      <td>[https://images-na.ssl-images-amazon.com/image...</td>\n",
              "      <td>Five Stars Great product</td>\n",
              "      <td>good</td>\n",
              "    </tr>\n",
              "    <tr>\n",
              "      <th>4835</th>\n",
              "      <td>5</td>\n",
              "      <td>True</td>\n",
              "      <td>10 3, 2014</td>\n",
              "      <td>A80M2286B7STE</td>\n",
              "      <td>7414204790</td>\n",
              "      <td>dolly</td>\n",
              "      <td>1412294400</td>\n",
              "      <td>0</td>\n",
              "      <td>[]</td>\n",
              "      <td></td>\n",
              "      <td>...</td>\n",
              "      <td>[3254895630, B007VL1D9S, B00EH9A0RI, B0773MBG4...</td>\n",
              "      <td>{'Shipping Weight:': '12 ounces (', 'ASIN: ': ...</td>\n",
              "      <td>All Beauty</td>\n",
              "      <td></td>\n",
              "      <td></td>\n",
              "      <td>$12.15</td>\n",
              "      <td>[https://images-na.ssl-images-amazon.com/image...</td>\n",
              "      <td>[https://images-na.ssl-images-amazon.com/image...</td>\n",
              "      <td>Five Stars Magical</td>\n",
              "      <td>good</td>\n",
              "    </tr>\n",
              "    <tr>\n",
              "      <th>4836</th>\n",
              "      <td>5</td>\n",
              "      <td>True</td>\n",
              "      <td>08 7, 2014</td>\n",
              "      <td>A2TM2MAA8IT34U</td>\n",
              "      <td>7414204790</td>\n",
              "      <td>Jack Warn</td>\n",
              "      <td>1407369600</td>\n",
              "      <td>0</td>\n",
              "      <td>[]</td>\n",
              "      <td></td>\n",
              "      <td>...</td>\n",
              "      <td>[3254895630, B007VL1D9S, B00EH9A0RI, B0773MBG4...</td>\n",
              "      <td>{'Shipping Weight:': '12 ounces (', 'ASIN: ': ...</td>\n",
              "      <td>All Beauty</td>\n",
              "      <td></td>\n",
              "      <td></td>\n",
              "      <td>$12.15</td>\n",
              "      <td>[https://images-na.ssl-images-amazon.com/image...</td>\n",
              "      <td>[https://images-na.ssl-images-amazon.com/image...</td>\n",
              "      <td>Five Stars Excellent!!!</td>\n",
              "      <td>good</td>\n",
              "    </tr>\n",
              "    <tr>\n",
              "      <th>4837</th>\n",
              "      <td>4</td>\n",
              "      <td>True</td>\n",
              "      <td>06 14, 2014</td>\n",
              "      <td>AQGWT465GTEJG</td>\n",
              "      <td>7414204790</td>\n",
              "      <td>Chitralekha Tulal</td>\n",
              "      <td>1402704000</td>\n",
              "      <td>2</td>\n",
              "      <td>[]</td>\n",
              "      <td></td>\n",
              "      <td>...</td>\n",
              "      <td>[3254895630, B007VL1D9S, B00EH9A0RI, B0773MBG4...</td>\n",
              "      <td>{'Shipping Weight:': '12 ounces (', 'ASIN: ': ...</td>\n",
              "      <td>All Beauty</td>\n",
              "      <td></td>\n",
              "      <td></td>\n",
              "      <td>$12.15</td>\n",
              "      <td>[https://images-na.ssl-images-amazon.com/image...</td>\n",
              "      <td>[https://images-na.ssl-images-amazon.com/image...</td>\n",
              "      <td>Very pricey I do like the product a lot...I ha...</td>\n",
              "      <td>good</td>\n",
              "    </tr>\n",
              "  </tbody>\n",
              "</table>\n",
              "<p>5 rows × 28 columns</p>\n",
              "</div>\n",
              "      <button class=\"colab-df-convert\" onclick=\"convertToInteractive('df-a8d82b74-62bf-46e4-9b40-58de5d0b5f95')\"\n",
              "              title=\"Convert this dataframe to an interactive table.\"\n",
              "              style=\"display:none;\">\n",
              "        \n",
              "  <svg xmlns=\"http://www.w3.org/2000/svg\" height=\"24px\"viewBox=\"0 0 24 24\"\n",
              "       width=\"24px\">\n",
              "    <path d=\"M0 0h24v24H0V0z\" fill=\"none\"/>\n",
              "    <path d=\"M18.56 5.44l.94 2.06.94-2.06 2.06-.94-2.06-.94-.94-2.06-.94 2.06-2.06.94zm-11 1L8.5 8.5l.94-2.06 2.06-.94-2.06-.94L8.5 2.5l-.94 2.06-2.06.94zm10 10l.94 2.06.94-2.06 2.06-.94-2.06-.94-.94-2.06-.94 2.06-2.06.94z\"/><path d=\"M17.41 7.96l-1.37-1.37c-.4-.4-.92-.59-1.43-.59-.52 0-1.04.2-1.43.59L10.3 9.45l-7.72 7.72c-.78.78-.78 2.05 0 2.83L4 21.41c.39.39.9.59 1.41.59.51 0 1.02-.2 1.41-.59l7.78-7.78 2.81-2.81c.8-.78.8-2.07 0-2.86zM5.41 20L4 18.59l7.72-7.72 1.47 1.35L5.41 20z\"/>\n",
              "  </svg>\n",
              "      </button>\n",
              "      \n",
              "  <style>\n",
              "    .colab-df-container {\n",
              "      display:flex;\n",
              "      flex-wrap:wrap;\n",
              "      gap: 12px;\n",
              "    }\n",
              "\n",
              "    .colab-df-convert {\n",
              "      background-color: #E8F0FE;\n",
              "      border: none;\n",
              "      border-radius: 50%;\n",
              "      cursor: pointer;\n",
              "      display: none;\n",
              "      fill: #1967D2;\n",
              "      height: 32px;\n",
              "      padding: 0 0 0 0;\n",
              "      width: 32px;\n",
              "    }\n",
              "\n",
              "    .colab-df-convert:hover {\n",
              "      background-color: #E2EBFA;\n",
              "      box-shadow: 0px 1px 2px rgba(60, 64, 67, 0.3), 0px 1px 3px 1px rgba(60, 64, 67, 0.15);\n",
              "      fill: #174EA6;\n",
              "    }\n",
              "\n",
              "    [theme=dark] .colab-df-convert {\n",
              "      background-color: #3B4455;\n",
              "      fill: #D2E3FC;\n",
              "    }\n",
              "\n",
              "    [theme=dark] .colab-df-convert:hover {\n",
              "      background-color: #434B5C;\n",
              "      box-shadow: 0px 1px 3px 1px rgba(0, 0, 0, 0.15);\n",
              "      filter: drop-shadow(0px 1px 2px rgba(0, 0, 0, 0.3));\n",
              "      fill: #FFFFFF;\n",
              "    }\n",
              "  </style>\n",
              "\n",
              "      <script>\n",
              "        const buttonEl =\n",
              "          document.querySelector('#df-a8d82b74-62bf-46e4-9b40-58de5d0b5f95 button.colab-df-convert');\n",
              "        buttonEl.style.display =\n",
              "          google.colab.kernel.accessAllowed ? 'block' : 'none';\n",
              "\n",
              "        async function convertToInteractive(key) {\n",
              "          const element = document.querySelector('#df-a8d82b74-62bf-46e4-9b40-58de5d0b5f95');\n",
              "          const dataTable =\n",
              "            await google.colab.kernel.invokeFunction('convertToInteractive',\n",
              "                                                     [key], {});\n",
              "          if (!dataTable) return;\n",
              "\n",
              "          const docLinkHtml = 'Like what you see? Visit the ' +\n",
              "            '<a target=\"_blank\" href=https://colab.research.google.com/notebooks/data_table.ipynb>data table notebook</a>'\n",
              "            + ' to learn more about interactive tables.';\n",
              "          element.innerHTML = '';\n",
              "          dataTable['output_type'] = 'display_data';\n",
              "          await google.colab.output.renderOutput(dataTable, element);\n",
              "          const docLink = document.createElement('div');\n",
              "          docLink.innerHTML = docLinkHtml;\n",
              "          element.appendChild(docLink);\n",
              "        }\n",
              "      </script>\n",
              "    </div>\n",
              "  </div>\n",
              "  "
            ]
          },
          "metadata": {},
          "execution_count": 22
        }
      ],
      "source": [
        "## we create new metrics to define if a product belongs to positive or negative set of items\n",
        "## one such metric is to categorize products based on the ratings given, we categorize products rated less than 3 are bad and 3 or more as good.\n",
        "df_product_reviews_cond_3[\"rating_class\"] = df_product_reviews_cond_3[\"Rating\"].apply(lambda r:'bad' if r <3 else 'good')\n",
        "df_product_reviews_cond_3.head()\n"
      ]
    },
    {
      "cell_type": "code",
      "execution_count": 23,
      "metadata": {
        "colab": {
          "base_uri": "https://localhost:8080/"
        },
        "id": "510YRzTgpCq8",
        "outputId": "0ddcbcf4-28a1-410d-e1de-f0915cb001f5"
      },
      "outputs": [
        {
          "output_type": "stream",
          "name": "stdout",
          "text": [
            "2721\n"
          ]
        }
      ],
      "source": [
        "## Lets also create a popularity column based on the votes received and also based on whether the product is viewed along with other products.\n",
        "##df_product_reviews_cond_3.info()\n",
        "\n",
        "df_product_reviews_cond_3[\"vote\"] = df_product_reviews_cond_3[\"vote\"].apply(lambda x: int(str(x).replace(\",\",\"\")))\n",
        "max_vote = pd.to_numeric(df_product_reviews_cond_3[\"vote\"]).max()\n",
        "print(max_vote)\n",
        "## create the \"popularity_quotient_by_vote\" column which is the current vote by the max votes received by a product. percentage value.\n",
        "df_product_reviews_cond_3[\"popularity_quotient_by_vote\"] = df_product_reviews_cond_3[\"vote\"].apply(lambda x: 0.0 if x==0 else x/max_vote)"
      ]
    },
    {
      "cell_type": "code",
      "execution_count": 24,
      "metadata": {
        "id": "r8aONuBKCLNg"
      },
      "outputs": [],
      "source": [
        "## we also create a poluarity column based on the also_view count indicating whether the current product was also viewed along with other products\n",
        "## higher the product view count in also_view higher the popularity rating.\n",
        "\n",
        "also_view_list = {}\n",
        "def createProductsAlsoViewedList():\n",
        "  for k,v in df_product_reviews_cond_3.iterrows():\n",
        "     for p in (v[\"also_view\"]):\n",
        "        if p in also_view_list:\n",
        "          also_view_list[p] = also_view_list[p] + 1\n",
        "        else:\n",
        "          also_view_list[p] = 1\n",
        "\n",
        "createProductsAlsoViewedList()\n",
        "\n",
        "#print(also_view_list[0:100])\n",
        "\n",
        "df_product_reviews_cond_3[\"popularity_view_count\"] = df_product_reviews_cond_3[\"asin\"].apply(lambda x: also_view_list[x] if x in also_view_list else 0)\n",
        "\n"
      ]
    },
    {
      "cell_type": "code",
      "execution_count": 25,
      "metadata": {
        "colab": {
          "base_uri": "https://localhost:8080/"
        },
        "id": "mhJuqcZxO7_1",
        "outputId": "e3f20f7b-bf9a-4193-ba24-a21c05c37668"
      },
      "outputs": [
        {
          "output_type": "stream",
          "name": "stdout",
          "text": [
            "17041\n"
          ]
        }
      ],
      "source": [
        "view_max = df_product_reviews_cond_3[\"popularity_view_count\"].max()\n",
        "print(view_max)\n",
        "\n",
        "df_product_reviews_cond_3[\"popularity_quotient_by_view\"] = df_product_reviews_cond_3[\"popularity_view_count\"].apply(lambda x: x / view_max)"
      ]
    },
    {
      "cell_type": "code",
      "execution_count": 26,
      "metadata": {
        "id": "9LoOVc6WekI7"
      },
      "outputs": [],
      "source": [
        "## create a single popularity quotient column which is the average of popularity by vote and view count.\n",
        "\n",
        "df_product_reviews_cond_3[\"popularity_quotient\"] = (df_product_reviews_cond_3[\"popularity_quotient_by_vote\"] + df_product_reviews_cond_3[\"popularity_quotient_by_view\"] ) /2\n",
        "\n",
        "## once the popularity quotient is created, drop the other two columns which are not needed anymore\n",
        "df_product_reviews_cond_3.drop(\"popularity_quotient_by_vote\", axis=1, inplace=True)\n",
        "df_product_reviews_cond_3.drop(\"popularity_quotient_by_view\", axis=1, inplace=True)"
      ]
    },
    {
      "cell_type": "code",
      "execution_count": 27,
      "metadata": {
        "colab": {
          "base_uri": "https://localhost:8080/"
        },
        "id": "2Jv4uDaLjGaj",
        "outputId": "54db2220-0e52-43b2-f8fe-c2c60ba0a6e2"
      },
      "outputs": [
        {
          "output_type": "execute_result",
          "data": {
            "text/plain": [
              "4833      least popular\n",
              "4834      least popular\n",
              "4835      least popular\n",
              "4836      least popular\n",
              "4837      least popular\n",
              "              ...      \n",
              "387649    least popular\n",
              "387650    least popular\n",
              "387651    least popular\n",
              "387652    least popular\n",
              "387653    least popular\n",
              "Name: popularity_class, Length: 381897, dtype: object"
            ]
          },
          "metadata": {},
          "execution_count": 27
        }
      ],
      "source": [
        "df_product_reviews_cond_3[\"popularity_quotient\"]\n",
        "max_popularity = df_product_reviews_cond_3[\"popularity_quotient\"].max()\n",
        "\n",
        "## create a poluarity class popular, least popular by checking if the popularity is above 70% of the max popularity.\n",
        "## Note: this is a less accurate way to determining the value of a product, but this is just for sake of demonstration\n",
        "## of data wragngling.\n",
        "\n",
        "popularity_threshold = max_popularity / 0.7\n",
        "\n",
        "df_product_reviews_cond_3[\"popularity_class\"] = df_product_reviews_cond_3[\"popularity_quotient\"].apply(lambda x: \"popular\" if x >= popularity_threshold else \"least popular\")\n",
        "\n",
        "df_product_reviews_cond_3[\"popularity_class\"]"
      ]
    },
    {
      "cell_type": "code",
      "execution_count": 28,
      "metadata": {
        "id": "7FrTKMBgtRFP"
      },
      "outputs": [],
      "source": [
        "# Drop duplicate 'reviewName' and 'unixReviewTime'columns to preserve uniqueness.\n",
        "\n",
        "df_product_reviews_cond_3 = df_product_reviews_cond_3.drop_duplicates(['asin','reviewerName', 'unixReviewTime'], keep = 'first')"
      ]
    },
    {
      "cell_type": "code",
      "execution_count": 29,
      "metadata": {
        "colab": {
          "base_uri": "https://localhost:8080/"
        },
        "id": "e1iPr3nsvHaz",
        "outputId": "95d26efc-eae1-48a9-a8fe-1a169fce0aef"
      },
      "outputs": [
        {
          "output_type": "execute_result",
          "data": {
            "text/plain": [
              "(355638, 31)"
            ]
          },
          "metadata": {},
          "execution_count": 29
        }
      ],
      "source": [
        "df_product_reviews_cond_3.shape"
      ]
    },
    {
      "cell_type": "code",
      "execution_count": 30,
      "metadata": {
        "colab": {
          "base_uri": "https://localhost:8080/",
          "height": 527
        },
        "id": "gi25fdHSxiIu",
        "outputId": "8c0158b2-33a2-4c51-f0e6-353804ba7487"
      },
      "outputs": [
        {
          "output_type": "execute_result",
          "data": {
            "text/plain": [
              "Text(0, 0.5, 'Number of Reviews')"
            ]
          },
          "metadata": {},
          "execution_count": 30
        },
        {
          "output_type": "display_data",
          "data": {
            "text/plain": [
              "<Figure size 864x576 with 1 Axes>"
            ],
            "image/png": "[encoded data removed]"
          },
          "metadata": {
            "needs_background": "light"
          }
        }
      ],
      "source": [
        "## Rating distribution Plot.\n",
        "\n",
        "plt.figure(figsize=(12,8))\n",
        "df_product_reviews_cond_3[\"Rating\"].value_counts().sort_index().plot(kind='bar')\n",
        "plt.title('Rating Distribution')\n",
        "plt.xlabel('Rating')\n",
        "plt.ylabel('Number of Reviews')\n",
        "\n",
        "## we can see from the plot below the distribution of ratings with 1,2,3,4,5"
      ]
    },
    {
      "cell_type": "markdown",
      "metadata": {
        "id": "iaan8sT1yWFd"
      },
      "source": [
        "<h3> Text Preprocessing </h3>\n",
        "\n",
        "Text cleaning is required to process raw text into a format which the manchines and machine learning algorithms can understand.\n",
        "\n",
        "Firstly we need to conver the word embedding into a numerical representation and then we fit the representation into machine learning or deep learning algorithms.\n",
        "\n",
        "The process involves the following steps.\n",
        "\n",
        "\n",
        "\n",
        "1.   Normalizing text: This steps involes the removing of capitalization of characters which confuses the algoriths, hence text like \"Books\" becomes \"books\"\n",
        "2.   Removing unicode characters: Unicode characters like punctuations, exclamations, emoji's and URLs can also confuse the algorithms, hence it is desirable to remove them\n",
        "3. Removing stopwords: Stopwords are a set of comomonly used words in english. Words like “a”, “the”, “is”, “are” and etc do not provide much information about the text and hence can be removed without losing much value of the text.\n",
        "4. Stemming and Lemmatization: Stemming groups the words by its root stem. eg: \"pushing\" \"pushes\" and \"pushed\" roots to the same word \"push\"\n",
        "Lemmatization on the other hand groups words by definition and allows to differentiate between past, present and future tense. so \"pushes\" \"push\" are grouped into present tense \"pushed\" into past tense \"pushing\" into indefinite \n",
        "\n",
        "Let us code the implementation of the text pre processing.\n"
      ]
    },
    {
      "cell_type": "code",
      "execution_count": 31,
      "metadata": {
        "id": "rkS3mk0r_Cq8"
      },
      "outputs": [],
      "source": [
        "import re, string, unicodedata\n",
        "import nltk\n",
        "from bs4 import BeautifulSoup"
      ]
    },
    {
      "cell_type": "code",
      "execution_count": 32,
      "metadata": {
        "id": "qYzswDxyBur1"
      },
      "outputs": [],
      "source": [
        "def strip_html(text):\n",
        "    soup = BeautifulSoup(text, \"html.parser\")\n",
        "    return soup.get_text()\n",
        "\n",
        "def remove_between_square_brackets(text):\n",
        "    return re.sub('\\[[^]]*\\]', '', text)\n",
        "\n",
        "def denoise_text(text):\n",
        "    text = strip_html(text)\n",
        "    text = remove_between_square_brackets(text)\n",
        "    return text"
      ]
    },
    {
      "cell_type": "code",
      "execution_count": 33,
      "metadata": {
        "id": "BfSFBR-TCFzy"
      },
      "outputs": [],
      "source": [
        "## normalize words to lower case\n",
        "def normalize_text(words):\n",
        "    clean_words = []\n",
        "\n",
        "    for word in words:\n",
        "       clean_words.append(word.lower())\n",
        "\n",
        "    return clean_words"
      ]
    },
    {
      "cell_type": "code",
      "execution_count": 34,
      "metadata": {
        "id": "inv39ggVCoew"
      },
      "outputs": [],
      "source": [
        "def remove_unicode_characters(words):\n",
        "    clean_words = []\n",
        "\n",
        "    for word in words:\n",
        "       clean_word = re.sub(r\"(@\\[A-Za-z0-9]+)|([^0-9A-Za-z \\t])|(\\w+:\\/\\/\\S+)|^rt|http.+?\", \"\", word)\n",
        "       clean_words.append(clean_word)\n",
        "\n",
        "    return clean_words"
      ]
    },
    {
      "cell_type": "code",
      "execution_count": 35,
      "metadata": {
        "id": "HKHzbT9jEON_"
      },
      "outputs": [],
      "source": [
        "def remove_nonascii_characters(words):\n",
        "    clean_words = []\n",
        "    for word in words:\n",
        "        clean_word = unicodedata.normalize('NFKD', word).encode('ascii', 'ignore').decode('utf-8', 'ignore')\n",
        "        clean_words.append(clean_word)\n",
        "    return clean_words"
      ]
    },
    {
      "cell_type": "code",
      "execution_count": 36,
      "metadata": {
        "colab": {
          "base_uri": "https://localhost:8080/"
        },
        "id": "IrMvaUJ8Fiy4",
        "outputId": "900de01d-f64f-4137-c606-6706d29e97b8"
      },
      "outputs": [
        {
          "output_type": "stream",
          "name": "stderr",
          "text": [
            "[nltk_data] Downloading package punkt to /root/nltk_data...\n",
            "[nltk_data]   Package punkt is already up-to-date!\n",
            "[nltk_data] Downloading package stopwords to /root/nltk_data...\n",
            "[nltk_data]   Package stopwords is already up-to-date!\n",
            "[nltk_data] Downloading package omw-1.4 to /root/nltk_data...\n",
            "[nltk_data]   Package omw-1.4 is already up-to-date!\n",
            "[nltk_data] Downloading package wordnet to /root/nltk_data...\n",
            "[nltk_data]   Package wordnet is already up-to-date!\n"
          ]
        }
      ],
      "source": [
        "import nltk.corpus\n",
        "nltk.download('punkt')\n",
        "nltk.download('stopwords')\n",
        "nltk.download('omw-1.4')\n",
        "\n",
        "nltk.download('wordnet')\n",
        "from nltk.corpus import stopwords\n",
        "\n",
        "stop_words = stopwords.words('english')\n",
        "\n",
        "from nltk.stem.porter import PorterStemmer\n",
        "from nltk.stem import WordNetLemmatizer"
      ]
    },
    {
      "cell_type": "code",
      "execution_count": 37,
      "metadata": {
        "id": "3loLXErcE400"
      },
      "outputs": [],
      "source": [
        "def remove_stopwords(words):\n",
        "\n",
        "   new_words = []\n",
        "\n",
        "   for word in words:\n",
        "      if word not in stop_words:\n",
        "         new_words.append(word)\n",
        "   \n",
        "   return new_words\n"
      ]
    },
    {
      "cell_type": "code",
      "execution_count": 38,
      "metadata": {
        "id": "TgtgLuVmIha9"
      },
      "outputs": [],
      "source": [
        "def stem_words(words):\n",
        "    clean_words = []\n",
        "\n",
        "    stemmer = PorterStemmer()\n",
        "    for word in words:\n",
        "       clean_word = stemmer.stem(word)\n",
        "       clean_words.append(clean_word)\n",
        "\n",
        "    \n",
        "    return clean_words\n",
        "       "
      ]
    },
    {
      "cell_type": "code",
      "execution_count": 39,
      "metadata": {
        "id": "6UWlN0q_JLAH"
      },
      "outputs": [],
      "source": [
        "def lemmatize_words(words):\n",
        "    clean_words = []\n",
        "\n",
        "    lemmatizer = WordNetLemmatizer()\n",
        "    for word in words:\n",
        "       clean_word = lemmatizer.lemmatize(word)\n",
        "       clean_words.append(clean_word)\n",
        "\n",
        "    \n",
        "    return clean_words"
      ]
    },
    {
      "cell_type": "code",
      "execution_count": 40,
      "metadata": {
        "id": "lN22aNH6J9KF"
      },
      "outputs": [],
      "source": [
        "def preprocess_text(text):\n",
        "    clean_text = denoise_text(text)   \n",
        "    words = nltk.word_tokenize(clean_text)\n",
        "    words = normalize_text(words)\n",
        "    words = remove_unicode_characters(words)\n",
        "    words = remove_nonascii_characters(words)\n",
        "    words = remove_stopwords(words)\n",
        "    stems = stem_words(words)   \n",
        "    lemmas = lemmatize_words(stems)\n",
        "    return ' '.join(lemmas)"
      ]
    },
    {
      "cell_type": "code",
      "execution_count": 41,
      "metadata": {
        "id": "e6rmuk2PLigr"
      },
      "outputs": [],
      "source": [
        "df_product_reviews_cond_3['clean_text'] = df_product_reviews_cond_3.iloc[:50000]['full_review'].map(lambda text: preprocess_text(text))\n"
      ]
    },
    {
      "cell_type": "code",
      "execution_count": 42,
      "metadata": {
        "colab": {
          "base_uri": "https://localhost:8080/",
          "height": 490
        },
        "id": "akr49qp9OSUs",
        "outputId": "6c88d765-9ad4-43be-d6b3-6c23049198f4"
      },
      "outputs": [
        {
          "output_type": "execute_result",
          "data": {
            "text/plain": [
              "      Rating  verified   reviewTime      reviewerID        asin  \\\n",
              "4833       5      True  03 10, 2016   A5TA1NJOC0PJ5  7414204790   \n",
              "4834       5      True   09 1, 2015  A1TJICB7VLGQKL  7414204790   \n",
              "4835       5      True   10 3, 2014   A80M2286B7STE  7414204790   \n",
              "4836       5      True   08 7, 2014  A2TM2MAA8IT34U  7414204790   \n",
              "4837       4      True  06 14, 2014   AQGWT465GTEJG  7414204790   \n",
              "\n",
              "           reviewerName  unixReviewTime  vote category tech1  ... date  \\\n",
              "4833    Amazon Customer      1457568000     0       []        ...        \n",
              "4834                 LH      1441065600     0       []        ...        \n",
              "4835              dolly      1412294400     0       []        ...        \n",
              "4836          Jack Warn      1407369600     0       []        ...        \n",
              "4837  Chitralekha Tulal      1402704000     2       []        ...        \n",
              "\n",
              "       price                                           imageURL  \\\n",
              "4833  $12.15  [https://images-na.ssl-images-amazon.com/image...   \n",
              "4834  $12.15  [https://images-na.ssl-images-amazon.com/image...   \n",
              "4835  $12.15  [https://images-na.ssl-images-amazon.com/image...   \n",
              "4836  $12.15  [https://images-na.ssl-images-amazon.com/image...   \n",
              "4837  $12.15  [https://images-na.ssl-images-amazon.com/image...   \n",
              "\n",
              "                                        imageURLHighRes  \\\n",
              "4833  [https://images-na.ssl-images-amazon.com/image...   \n",
              "4834  [https://images-na.ssl-images-amazon.com/image...   \n",
              "4835  [https://images-na.ssl-images-amazon.com/image...   \n",
              "4836  [https://images-na.ssl-images-amazon.com/image...   \n",
              "4837  [https://images-na.ssl-images-amazon.com/image...   \n",
              "\n",
              "                                            full_review rating_class  \\\n",
              "4833                     Five Stars Excellent very good         good   \n",
              "4834                           Five Stars Great product         good   \n",
              "4835                                 Five Stars Magical         good   \n",
              "4836                            Five Stars Excellent!!!         good   \n",
              "4837  Very pricey I do like the product a lot...I ha...         good   \n",
              "\n",
              "     popularity_view_count popularity_quotient popularity_class  \\\n",
              "4833                     0            0.000000    least popular   \n",
              "4834                     0            0.000000    least popular   \n",
              "4835                     0            0.000000    least popular   \n",
              "4836                     0            0.000000    least popular   \n",
              "4837                     0            0.000368    least popular   \n",
              "\n",
              "                                             clean_text  \n",
              "4833                               five star excel good  \n",
              "4834                            five star great product  \n",
              "4835                                    five star magic  \n",
              "4836                                 five star excel     \n",
              "4837  pricey like product lot  bought india cost  34...  \n",
              "\n",
              "[5 rows x 32 columns]"
            ],
            "text/html": [
              "\n",
              "  <div id=\"df-7b4efdce-d060-4a3d-92b8-c7ff1040ad00\">\n",
              "    <div class=\"colab-df-container\">\n",
              "      <div>\n",
              "<style scoped>\n",
              "    .dataframe tbody tr th:only-of-type {\n",
              "        vertical-align: middle;\n",
              "    }\n",
              "\n",
              "    .dataframe tbody tr th {\n",
              "        vertical-align: top;\n",
              "    }\n",
              "\n",
              "    .dataframe thead th {\n",
              "        text-align: right;\n",
              "    }\n",
              "</style>\n",
              "<table border=\"1\" class=\"dataframe\">\n",
              "  <thead>\n",
              "    <tr style=\"text-align: right;\">\n",
              "      <th></th>\n",
              "      <th>Rating</th>\n",
              "      <th>verified</th>\n",
              "      <th>reviewTime</th>\n",
              "      <th>reviewerID</th>\n",
              "      <th>asin</th>\n",
              "      <th>reviewerName</th>\n",
              "      <th>unixReviewTime</th>\n",
              "      <th>vote</th>\n",
              "      <th>category</th>\n",
              "      <th>tech1</th>\n",
              "      <th>...</th>\n",
              "      <th>date</th>\n",
              "      <th>price</th>\n",
              "      <th>imageURL</th>\n",
              "      <th>imageURLHighRes</th>\n",
              "      <th>full_review</th>\n",
              "      <th>rating_class</th>\n",
              "      <th>popularity_view_count</th>\n",
              "      <th>popularity_quotient</th>\n",
              "      <th>popularity_class</th>\n",
              "      <th>clean_text</th>\n",
              "    </tr>\n",
              "  </thead>\n",
              "  <tbody>\n",
              "    <tr>\n",
              "      <th>4833</th>\n",
              "      <td>5</td>\n",
              "      <td>True</td>\n",
              "      <td>03 10, 2016</td>\n",
              "      <td>A5TA1NJOC0PJ5</td>\n",
              "      <td>7414204790</td>\n",
              "      <td>Amazon Customer</td>\n",
              "      <td>1457568000</td>\n",
              "      <td>0</td>\n",
              "      <td>[]</td>\n",
              "      <td></td>\n",
              "      <td>...</td>\n",
              "      <td></td>\n",
              "      <td>$12.15</td>\n",
              "      <td>[https://images-na.ssl-images-amazon.com/image...</td>\n",
              "      <td>[https://images-na.ssl-images-amazon.com/image...</td>\n",
              "      <td>Five Stars Excellent very good</td>\n",
              "      <td>good</td>\n",
              "      <td>0</td>\n",
              "      <td>0.000000</td>\n",
              "      <td>least popular</td>\n",
              "      <td>five star excel good</td>\n",
              "    </tr>\n",
              "    <tr>\n",
              "      <th>4834</th>\n",
              "      <td>5</td>\n",
              "      <td>True</td>\n",
              "      <td>09 1, 2015</td>\n",
              "      <td>A1TJICB7VLGQKL</td>\n",
              "      <td>7414204790</td>\n",
              "      <td>LH</td>\n",
              "      <td>1441065600</td>\n",
              "      <td>0</td>\n",
              "      <td>[]</td>\n",
              "      <td></td>\n",
              "      <td>...</td>\n",
              "      <td></td>\n",
              "      <td>$12.15</td>\n",
              "      <td>[https://images-na.ssl-images-amazon.com/image...</td>\n",
              "      <td>[https://images-na.ssl-images-amazon.com/image...</td>\n",
              "      <td>Five Stars Great product</td>\n",
              "      <td>good</td>\n",
              "      <td>0</td>\n",
              "      <td>0.000000</td>\n",
              "      <td>least popular</td>\n",
              "      <td>five star great product</td>\n",
              "    </tr>\n",
              "    <tr>\n",
              "      <th>4835</th>\n",
              "      <td>5</td>\n",
              "      <td>True</td>\n",
              "      <td>10 3, 2014</td>\n",
              "      <td>A80M2286B7STE</td>\n",
              "      <td>7414204790</td>\n",
              "      <td>dolly</td>\n",
              "      <td>1412294400</td>\n",
              "      <td>0</td>\n",
              "      <td>[]</td>\n",
              "      <td></td>\n",
              "      <td>...</td>\n",
              "      <td></td>\n",
              "      <td>$12.15</td>\n",
              "      <td>[https://images-na.ssl-images-amazon.com/image...</td>\n",
              "      <td>[https://images-na.ssl-images-amazon.com/image...</td>\n",
              "      <td>Five Stars Magical</td>\n",
              "      <td>good</td>\n",
              "      <td>0</td>\n",
              "      <td>0.000000</td>\n",
              "      <td>least popular</td>\n",
              "      <td>five star magic</td>\n",
              "    </tr>\n",
              "    <tr>\n",
              "      <th>4836</th>\n",
              "      <td>5</td>\n",
              "      <td>True</td>\n",
              "      <td>08 7, 2014</td>\n",
              "      <td>A2TM2MAA8IT34U</td>\n",
              "      <td>7414204790</td>\n",
              "      <td>Jack Warn</td>\n",
              "      <td>1407369600</td>\n",
              "      <td>0</td>\n",
              "      <td>[]</td>\n",
              "      <td></td>\n",
              "      <td>...</td>\n",
              "      <td></td>\n",
              "      <td>$12.15</td>\n",
              "      <td>[https://images-na.ssl-images-amazon.com/image...</td>\n",
              "      <td>[https://images-na.ssl-images-amazon.com/image...</td>\n",
              "      <td>Five Stars Excellent!!!</td>\n",
              "      <td>good</td>\n",
              "      <td>0</td>\n",
              "      <td>0.000000</td>\n",
              "      <td>least popular</td>\n",
              "      <td>five star excel</td>\n",
              "    </tr>\n",
              "    <tr>\n",
              "      <th>4837</th>\n",
              "      <td>4</td>\n",
              "      <td>True</td>\n",
              "      <td>06 14, 2014</td>\n",
              "      <td>AQGWT465GTEJG</td>\n",
              "      <td>7414204790</td>\n",
              "      <td>Chitralekha Tulal</td>\n",
              "      <td>1402704000</td>\n",
              "      <td>2</td>\n",
              "      <td>[]</td>\n",
              "      <td></td>\n",
              "      <td>...</td>\n",
              "      <td></td>\n",
              "      <td>$12.15</td>\n",
              "      <td>[https://images-na.ssl-images-amazon.com/image...</td>\n",
              "      <td>[https://images-na.ssl-images-amazon.com/image...</td>\n",
              "      <td>Very pricey I do like the product a lot...I ha...</td>\n",
              "      <td>good</td>\n",
              "      <td>0</td>\n",
              "      <td>0.000368</td>\n",
              "      <td>least popular</td>\n",
              "      <td>pricey like product lot  bought india cost  34...</td>\n",
              "    </tr>\n",
              "  </tbody>\n",
              "</table>\n",
              "<p>5 rows × 32 columns</p>\n",
              "</div>\n",
              "      <button class=\"colab-df-convert\" onclick=\"convertToInteractive('df-7b4efdce-d060-4a3d-92b8-c7ff1040ad00')\"\n",
              "              title=\"Convert this dataframe to an interactive table.\"\n",
              "              style=\"display:none;\">\n",
              "        \n",
              "  <svg xmlns=\"http://www.w3.org/2000/svg\" height=\"24px\"viewBox=\"0 0 24 24\"\n",
              "       width=\"24px\">\n",
              "    <path d=\"M0 0h24v24H0V0z\" fill=\"none\"/>\n",
              "    <path d=\"M18.56 5.44l.94 2.06.94-2.06 2.06-.94-2.06-.94-.94-2.06-.94 2.06-2.06.94zm-11 1L8.5 8.5l.94-2.06 2.06-.94-2.06-.94L8.5 2.5l-.94 2.06-2.06.94zm10 10l.94 2.06.94-2.06 2.06-.94-2.06-.94-.94-2.06-.94 2.06-2.06.94z\"/><path d=\"M17.41 7.96l-1.37-1.37c-.4-.4-.92-.59-1.43-.59-.52 0-1.04.2-1.43.59L10.3 9.45l-7.72 7.72c-.78.78-.78 2.05 0 2.83L4 21.41c.39.39.9.59 1.41.59.51 0 1.02-.2 1.41-.59l7.78-7.78 2.81-2.81c.8-.78.8-2.07 0-2.86zM5.41 20L4 18.59l7.72-7.72 1.47 1.35L5.41 20z\"/>\n",
              "  </svg>\n",
              "      </button>\n",
              "      \n",
              "  <style>\n",
              "    .colab-df-container {\n",
              "      display:flex;\n",
              "      flex-wrap:wrap;\n",
              "      gap: 12px;\n",
              "    }\n",
              "\n",
              "    .colab-df-convert {\n",
              "      background-color: #E8F0FE;\n",
              "      border: none;\n",
              "      border-radius: 50%;\n",
              "      cursor: pointer;\n",
              "      display: none;\n",
              "      fill: #1967D2;\n",
              "      height: 32px;\n",
              "      padding: 0 0 0 0;\n",
              "      width: 32px;\n",
              "    }\n",
              "\n",
              "    .colab-df-convert:hover {\n",
              "      background-color: #E2EBFA;\n",
              "      box-shadow: 0px 1px 2px rgba(60, 64, 67, 0.3), 0px 1px 3px 1px rgba(60, 64, 67, 0.15);\n",
              "      fill: #174EA6;\n",
              "    }\n",
              "\n",
              "    [theme=dark] .colab-df-convert {\n",
              "      background-color: #3B4455;\n",
              "      fill: #D2E3FC;\n",
              "    }\n",
              "\n",
              "    [theme=dark] .colab-df-convert:hover {\n",
              "      background-color: #434B5C;\n",
              "      box-shadow: 0px 1px 3px 1px rgba(0, 0, 0, 0.15);\n",
              "      filter: drop-shadow(0px 1px 2px rgba(0, 0, 0, 0.3));\n",
              "      fill: #FFFFFF;\n",
              "    }\n",
              "  </style>\n",
              "\n",
              "      <script>\n",
              "        const buttonEl =\n",
              "          document.querySelector('#df-7b4efdce-d060-4a3d-92b8-c7ff1040ad00 button.colab-df-convert');\n",
              "        buttonEl.style.display =\n",
              "          google.colab.kernel.accessAllowed ? 'block' : 'none';\n",
              "\n",
              "        async function convertToInteractive(key) {\n",
              "          const element = document.querySelector('#df-7b4efdce-d060-4a3d-92b8-c7ff1040ad00');\n",
              "          const dataTable =\n",
              "            await google.colab.kernel.invokeFunction('convertToInteractive',\n",
              "                                                     [key], {});\n",
              "          if (!dataTable) return;\n",
              "\n",
              "          const docLinkHtml = 'Like what you see? Visit the ' +\n",
              "            '<a target=\"_blank\" href=https://colab.research.google.com/notebooks/data_table.ipynb>data table notebook</a>'\n",
              "            + ' to learn more about interactive tables.';\n",
              "          element.innerHTML = '';\n",
              "          dataTable['output_type'] = 'display_data';\n",
              "          await google.colab.output.renderOutput(dataTable, element);\n",
              "          const docLink = document.createElement('div');\n",
              "          docLink.innerHTML = docLinkHtml;\n",
              "          element.appendChild(docLink);\n",
              "        }\n",
              "      </script>\n",
              "    </div>\n",
              "  </div>\n",
              "  "
            ]
          },
          "metadata": {},
          "execution_count": 42
        }
      ],
      "source": [
        "df_product_reviews_cond_3.head()"
      ]
    },
    {
      "cell_type": "markdown",
      "metadata": {
        "id": "rxWaMpdTNy6v"
      },
      "source": [
        "<h3> Sentiment Analysis </h3>\n",
        "\n",
        "We perform the Sentiment analysis on the clean data set. \n",
        "Here we use the Count Vecotorizer, TF-IDF and Hash Vectorizer techniques.\n",
        "\n",
        "\n"
      ]
    },
    {
      "cell_type": "markdown",
      "metadata": {
        "id": "fIdgzIVeTpKS"
      },
      "source": [
        "<h4> Perform Data cleaning </h4>"
      ]
    },
    {
      "cell_type": "code",
      "execution_count": 43,
      "metadata": {
        "colab": {
          "base_uri": "https://localhost:8080/"
        },
        "id": "UuGJD1R66r3s",
        "outputId": "3e65f9a8-75ab-4c3d-a8e6-393cbe9b16fd"
      },
      "outputs": [
        {
          "output_type": "stream",
          "name": "stdout",
          "text": [
            "<class 'pandas.core.frame.DataFrame'>\n",
            "Int64Index: 355638 entries, 4833 to 387653\n",
            "Data columns (total 32 columns):\n",
            " #   Column                 Non-Null Count   Dtype  \n",
            "---  ------                 --------------   -----  \n",
            " 0   Rating                 355638 non-null  int64  \n",
            " 1   verified               355638 non-null  bool   \n",
            " 2   reviewTime             355638 non-null  object \n",
            " 3   reviewerID             355638 non-null  object \n",
            " 4   asin                   355638 non-null  object \n",
            " 5   reviewerName           355638 non-null  object \n",
            " 6   unixReviewTime         355638 non-null  int64  \n",
            " 7   vote                   355638 non-null  int64  \n",
            " 8   category               355638 non-null  object \n",
            " 9   tech1                  355638 non-null  object \n",
            " 10  description            355638 non-null  object \n",
            " 11  fit                    355638 non-null  object \n",
            " 12  title                  355638 non-null  object \n",
            " 13  also_buy               355638 non-null  object \n",
            " 14  tech2                  355638 non-null  object \n",
            " 15  brand                  355638 non-null  object \n",
            " 16  feature                355638 non-null  object \n",
            " 17  rank                   355638 non-null  object \n",
            " 18  also_view              355638 non-null  object \n",
            " 19  details                355638 non-null  object \n",
            " 20  main_cat               355638 non-null  object \n",
            " 21  similar_item           355638 non-null  object \n",
            " 22  date                   355638 non-null  object \n",
            " 23  price                  355638 non-null  object \n",
            " 24  imageURL               355638 non-null  object \n",
            " 25  imageURLHighRes        355638 non-null  object \n",
            " 26  full_review            355638 non-null  object \n",
            " 27  rating_class           355638 non-null  object \n",
            " 28  popularity_view_count  355638 non-null  int64  \n",
            " 29  popularity_quotient    355638 non-null  float64\n",
            " 30  popularity_class       355638 non-null  object \n",
            " 31  clean_text             50000 non-null   object \n",
            "dtypes: bool(1), float64(1), int64(4), object(26)\n",
            "memory usage: 87.2+ MB\n"
          ]
        }
      ],
      "source": [
        "df_product_reviews_cond_3.info()"
      ]
    },
    {
      "cell_type": "code",
      "execution_count": 45,
      "metadata": {
        "id": "KpRnvAaMTvUY"
      },
      "outputs": [],
      "source": [
        "## drop all unnecessary columns to keep the dataset light and relevant.\n",
        "\n",
        "df = df_product_reviews_cond_3.drop(['Rating','verified','reviewTime','reviewerName','unixReviewTime','vote','category','tech1','description','fit','also_buy','tech2','brand','feature','rank','also_view','details','main_cat','similar_item','date','price','imageURL','imageURLHighRes','popularity_view_count','popularity_quotient'],axis=1)"
      ]
    },
    {
      "cell_type": "code",
      "execution_count": 46,
      "metadata": {
        "colab": {
          "base_uri": "https://localhost:8080/"
        },
        "id": "SV8YTb5kWYKu",
        "outputId": "58b4fe34-c178-430a-fa74-835f7b637429"
      },
      "outputs": [
        {
          "output_type": "stream",
          "name": "stdout",
          "text": [
            "<class 'pandas.core.frame.DataFrame'>\n",
            "Int64Index: 355638 entries, 4833 to 387653\n",
            "Data columns (total 7 columns):\n",
            " #   Column            Non-Null Count   Dtype \n",
            "---  ------            --------------   ----- \n",
            " 0   reviewerID        355638 non-null  object\n",
            " 1   asin              355638 non-null  object\n",
            " 2   title             355638 non-null  object\n",
            " 3   full_review       355638 non-null  object\n",
            " 4   rating_class      355638 non-null  object\n",
            " 5   popularity_class  355638 non-null  object\n",
            " 6   clean_text        50000 non-null   object\n",
            "dtypes: object(7)\n",
            "memory usage: 21.7+ MB\n"
          ]
        }
      ],
      "source": [
        "df.info()"
      ]
    },
    {
      "cell_type": "code",
      "execution_count": 47,
      "metadata": {
        "colab": {
          "base_uri": "https://localhost:8080/",
          "height": 424
        },
        "id": "ttlD1TZIeKL8",
        "outputId": "275f07b5-2b39-417b-912c-d72e00a4bb14"
      },
      "outputs": [
        {
          "output_type": "execute_result",
          "data": {
            "text/plain": [
              "          reviewerID        asin  \\\n",
              "4833   A5TA1NJOC0PJ5  7414204790   \n",
              "4834  A1TJICB7VLGQKL  7414204790   \n",
              "4835   A80M2286B7STE  7414204790   \n",
              "4836  A2TM2MAA8IT34U  7414204790   \n",
              "4837   AQGWT465GTEJG  7414204790   \n",
              "\n",
              "                                                  title  \\\n",
              "4833  Lacto Calamine Skin Balance Oil control 120 ml...   \n",
              "4834  Lacto Calamine Skin Balance Oil control 120 ml...   \n",
              "4835  Lacto Calamine Skin Balance Oil control 120 ml...   \n",
              "4836  Lacto Calamine Skin Balance Oil control 120 ml...   \n",
              "4837  Lacto Calamine Skin Balance Oil control 120 ml...   \n",
              "\n",
              "                                            full_review rating_class  \\\n",
              "4833                     Five Stars Excellent very good         good   \n",
              "4834                           Five Stars Great product         good   \n",
              "4835                                 Five Stars Magical         good   \n",
              "4836                            Five Stars Excellent!!!         good   \n",
              "4837  Very pricey I do like the product a lot...I ha...         good   \n",
              "\n",
              "     popularity_class                                         clean_text  \n",
              "4833    least popular                               five star excel good  \n",
              "4834    least popular                            five star great product  \n",
              "4835    least popular                                    five star magic  \n",
              "4836    least popular                                 five star excel     \n",
              "4837    least popular  pricey like product lot  bought india cost  34...  "
            ],
            "text/html": [
              "\n",
              "  <div id=\"df-67bc695d-8842-47ce-a0b8-c1e1f700e1f1\">\n",
              "    <div class=\"colab-df-container\">\n",
              "      <div>\n",
              "<style scoped>\n",
              "    .dataframe tbody tr th:only-of-type {\n",
              "        vertical-align: middle;\n",
              "    }\n",
              "\n",
              "    .dataframe tbody tr th {\n",
              "        vertical-align: top;\n",
              "    }\n",
              "\n",
              "    .dataframe thead th {\n",
              "        text-align: right;\n",
              "    }\n",
              "</style>\n",
              "<table border=\"1\" class=\"dataframe\">\n",
              "  <thead>\n",
              "    <tr style=\"text-align: right;\">\n",
              "      <th></th>\n",
              "      <th>reviewerID</th>\n",
              "      <th>asin</th>\n",
              "      <th>title</th>\n",
              "      <th>full_review</th>\n",
              "      <th>rating_class</th>\n",
              "      <th>popularity_class</th>\n",
              "      <th>clean_text</th>\n",
              "    </tr>\n",
              "  </thead>\n",
              "  <tbody>\n",
              "    <tr>\n",
              "      <th>4833</th>\n",
              "      <td>A5TA1NJOC0PJ5</td>\n",
              "      <td>7414204790</td>\n",
              "      <td>Lacto Calamine Skin Balance Oil control 120 ml...</td>\n",
              "      <td>Five Stars Excellent very good</td>\n",
              "      <td>good</td>\n",
              "      <td>least popular</td>\n",
              "      <td>five star excel good</td>\n",
              "    </tr>\n",
              "    <tr>\n",
              "      <th>4834</th>\n",
              "      <td>A1TJICB7VLGQKL</td>\n",
              "      <td>7414204790</td>\n",
              "      <td>Lacto Calamine Skin Balance Oil control 120 ml...</td>\n",
              "      <td>Five Stars Great product</td>\n",
              "      <td>good</td>\n",
              "      <td>least popular</td>\n",
              "      <td>five star great product</td>\n",
              "    </tr>\n",
              "    <tr>\n",
              "      <th>4835</th>\n",
              "      <td>A80M2286B7STE</td>\n",
              "      <td>7414204790</td>\n",
              "      <td>Lacto Calamine Skin Balance Oil control 120 ml...</td>\n",
              "      <td>Five Stars Magical</td>\n",
              "      <td>good</td>\n",
              "      <td>least popular</td>\n",
              "      <td>five star magic</td>\n",
              "    </tr>\n",
              "    <tr>\n",
              "      <th>4836</th>\n",
              "      <td>A2TM2MAA8IT34U</td>\n",
              "      <td>7414204790</td>\n",
              "      <td>Lacto Calamine Skin Balance Oil control 120 ml...</td>\n",
              "      <td>Five Stars Excellent!!!</td>\n",
              "      <td>good</td>\n",
              "      <td>least popular</td>\n",
              "      <td>five star excel</td>\n",
              "    </tr>\n",
              "    <tr>\n",
              "      <th>4837</th>\n",
              "      <td>AQGWT465GTEJG</td>\n",
              "      <td>7414204790</td>\n",
              "      <td>Lacto Calamine Skin Balance Oil control 120 ml...</td>\n",
              "      <td>Very pricey I do like the product a lot...I ha...</td>\n",
              "      <td>good</td>\n",
              "      <td>least popular</td>\n",
              "      <td>pricey like product lot  bought india cost  34...</td>\n",
              "    </tr>\n",
              "  </tbody>\n",
              "</table>\n",
              "</div>\n",
              "      <button class=\"colab-df-convert\" onclick=\"convertToInteractive('df-67bc695d-8842-47ce-a0b8-c1e1f700e1f1')\"\n",
              "              title=\"Convert this dataframe to an interactive table.\"\n",
              "              style=\"display:none;\">\n",
              "        \n",
              "  <svg xmlns=\"http://www.w3.org/2000/svg\" height=\"24px\"viewBox=\"0 0 24 24\"\n",
              "       width=\"24px\">\n",
              "    <path d=\"M0 0h24v24H0V0z\" fill=\"none\"/>\n",
              "    <path d=\"M18.56 5.44l.94 2.06.94-2.06 2.06-.94-2.06-.94-.94-2.06-.94 2.06-2.06.94zm-11 1L8.5 8.5l.94-2.06 2.06-.94-2.06-.94L8.5 2.5l-.94 2.06-2.06.94zm10 10l.94 2.06.94-2.06 2.06-.94-2.06-.94-.94-2.06-.94 2.06-2.06.94z\"/><path d=\"M17.41 7.96l-1.37-1.37c-.4-.4-.92-.59-1.43-.59-.52 0-1.04.2-1.43.59L10.3 9.45l-7.72 7.72c-.78.78-.78 2.05 0 2.83L4 21.41c.39.39.9.59 1.41.59.51 0 1.02-.2 1.41-.59l7.78-7.78 2.81-2.81c.8-.78.8-2.07 0-2.86zM5.41 20L4 18.59l7.72-7.72 1.47 1.35L5.41 20z\"/>\n",
              "  </svg>\n",
              "      </button>\n",
              "      \n",
              "  <style>\n",
              "    .colab-df-container {\n",
              "      display:flex;\n",
              "      flex-wrap:wrap;\n",
              "      gap: 12px;\n",
              "    }\n",
              "\n",
              "    .colab-df-convert {\n",
              "      background-color: #E8F0FE;\n",
              "      border: none;\n",
              "      border-radius: 50%;\n",
              "      cursor: pointer;\n",
              "      display: none;\n",
              "      fill: #1967D2;\n",
              "      height: 32px;\n",
              "      padding: 0 0 0 0;\n",
              "      width: 32px;\n",
              "    }\n",
              "\n",
              "    .colab-df-convert:hover {\n",
              "      background-color: #E2EBFA;\n",
              "      box-shadow: 0px 1px 2px rgba(60, 64, 67, 0.3), 0px 1px 3px 1px rgba(60, 64, 67, 0.15);\n",
              "      fill: #174EA6;\n",
              "    }\n",
              "\n",
              "    [theme=dark] .colab-df-convert {\n",
              "      background-color: #3B4455;\n",
              "      fill: #D2E3FC;\n",
              "    }\n",
              "\n",
              "    [theme=dark] .colab-df-convert:hover {\n",
              "      background-color: #434B5C;\n",
              "      box-shadow: 0px 1px 3px 1px rgba(0, 0, 0, 0.15);\n",
              "      filter: drop-shadow(0px 1px 2px rgba(0, 0, 0, 0.3));\n",
              "      fill: #FFFFFF;\n",
              "    }\n",
              "  </style>\n",
              "\n",
              "      <script>\n",
              "        const buttonEl =\n",
              "          document.querySelector('#df-67bc695d-8842-47ce-a0b8-c1e1f700e1f1 button.colab-df-convert');\n",
              "        buttonEl.style.display =\n",
              "          google.colab.kernel.accessAllowed ? 'block' : 'none';\n",
              "\n",
              "        async function convertToInteractive(key) {\n",
              "          const element = document.querySelector('#df-67bc695d-8842-47ce-a0b8-c1e1f700e1f1');\n",
              "          const dataTable =\n",
              "            await google.colab.kernel.invokeFunction('convertToInteractive',\n",
              "                                                     [key], {});\n",
              "          if (!dataTable) return;\n",
              "\n",
              "          const docLinkHtml = 'Like what you see? Visit the ' +\n",
              "            '<a target=\"_blank\" href=https://colab.research.google.com/notebooks/data_table.ipynb>data table notebook</a>'\n",
              "            + ' to learn more about interactive tables.';\n",
              "          element.innerHTML = '';\n",
              "          dataTable['output_type'] = 'display_data';\n",
              "          await google.colab.output.renderOutput(dataTable, element);\n",
              "          const docLink = document.createElement('div');\n",
              "          docLink.innerHTML = docLinkHtml;\n",
              "          element.appendChild(docLink);\n",
              "        }\n",
              "      </script>\n",
              "    </div>\n",
              "  </div>\n",
              "  "
            ]
          },
          "metadata": {},
          "execution_count": 47
        }
      ],
      "source": [
        "df.head()"
      ]
    },
    {
      "cell_type": "markdown",
      "metadata": {
        "id": "8AjFtOZCbaZ4"
      },
      "source": [
        "<h3> Natural Language Processing </h3>\n",
        "\n",
        "**Feature Selection**\n",
        "\n",
        "Machine learning algoriths takes numerical inputs, our dataset consists feature data in the form of texts and hence it is necessary that we perform a conversion of the texts into a numerical representation which our models can understand, ie, a list of numbers.\n",
        "\n",
        "We will implement CounterVectorizer, TF-IDF techniques to accomplish the same.\n",
        "\n"
      ]
    },
    {
      "cell_type": "markdown",
      "metadata": {
        "id": "2_9oNvZUdHIa"
      },
      "source": [
        "**Perform the Data Preprocessing**\n",
        "\n"
      ]
    },
    {
      "cell_type": "code",
      "execution_count": 48,
      "metadata": {
        "id": "gziw9bj5d6h5"
      },
      "outputs": [],
      "source": [
        "df['rating_class'] = df['rating_class'].apply(lambda x: 0 if x == 'bad' else 1)\n",
        "df['popularity_class'] = df['popularity_class'].apply(lambda x: 1 if x == 'popular' else 0)\n"
      ]
    },
    {
      "cell_type": "code",
      "execution_count": 49,
      "metadata": {
        "id": "r2dAsxrUeqq2"
      },
      "outputs": [],
      "source": [
        "# Splitting the Data Set into Train and Test Sets\n",
        "X = df.iloc[:20000]['clean_text']\n",
        "y = df.iloc[:20000]['rating_class']\n",
        "Z = df.iloc[:20000]['popularity_class']"
      ]
    },
    {
      "cell_type": "markdown",
      "metadata": {
        "id": "mTQKGkR9ecOX"
      },
      "source": [
        "<h3> Split the Dataset into Train and Test sets </h3>\n",
        "Let's split the dataset into Train and test sets to feed into the algoriths to check the performance of the model."
      ]
    },
    {
      "cell_type": "code",
      "execution_count": 50,
      "metadata": {
        "id": "7AHdZdEeeVj4"
      },
      "outputs": [],
      "source": [
        "## Modeling\n",
        "from sklearn.model_selection import cross_validate\n",
        "from sklearn.model_selection import train_test_split\n",
        "\n",
        "# Splitting Dataset into train and test set \n",
        "X_train, X_test, y_train, y_test, Z_train, Z_test = train_test_split(X, y,Z, test_size=0.25, random_state=42)"
      ]
    },
    {
      "cell_type": "code",
      "execution_count": 51,
      "metadata": {
        "colab": {
          "base_uri": "https://localhost:8080/"
        },
        "id": "lRo1eIP2fP_Y",
        "outputId": "d1f93beb-6cbc-4931-e55b-11a17d448a94"
      },
      "outputs": [
        {
          "output_type": "stream",
          "name": "stdout",
          "text": [
            " Train test data info for X_train is Train set = (15000,) Test set = (5000,)\n"
          ]
        }
      ],
      "source": [
        "print(\" Train test data info for X_train is Train set = %s Test set = %s\" % (X_train.shape,X_test.shape))"
      ]
    },
    {
      "cell_type": "markdown",
      "source": [
        "<h3> Evaulation Metrics </h3>\n",
        "\n",
        "Evaulation metric is the term used to determine the Precision of our model. It is way of determing whethere or not the model is performing well and how accurate the model really is. There are several evaulation metrics but here we use the F1 score to determine the model performance.\n",
        "\n",
        "F1 score evaluation metric is used which is the mean of precision and recall.\n",
        "\n",
        "Besides this Confusion matrix is used to visualize the error our models makes against the true label."
      ],
      "metadata": {
        "id": "yIA280g4iz0H"
      }
    },
    {
      "cell_type": "markdown",
      "source": [
        "<h3> Precision and Recall </h3>\n",
        "\n",
        "Let us understand few terminologies before we proceed with F1 score evaulation metric, Precision and Recall\n",
        "\n",
        "Precision -  Precision refers to the percentage of your results which are relevant, which means if there are 30 recommendations made by the model and out of which 20 are accurate and relevant then 2/3 is the Precision of the model. \n",
        "\n",
        "Recall - Recall referes to the percentage of your results which are relevant out of the total relevant products.\n",
        "\n",
        "Lets says if there are 50 relevant products and 30 results were recommended out of which 20 were accurate then Precision is 20/30\n",
        "Recall is 20/50\n",
        "\n",
        "We see that Precision and Recall have a inversea relationship and hence either one is not an accurate meausre of precision.\n",
        "\n",
        "F1 score is the middle ground of both Precision and recall and is the mean of Precison score and the Recall score and hence becomes a reliable evaluation metric.\n",
        "\n"
      ],
      "metadata": {
        "id": "-vgjen8GwKF9"
      }
    },
    {
      "cell_type": "markdown",
      "metadata": {
        "id": "ay7MWwkkM43S"
      },
      "source": [
        "<h3> Confusion Matrix Plot </h3>\n",
        "\n",
        "Confusion Matirx Plot helps visualize the predictions our model makes with the true values. It plots the Precison, Recall and Accuracy of a model. Basically the plot of True Positive, False positive vs False Negative, True Negative.\n",
        "\n",
        "This makes for easier visualization of the model's overall behavior."
      ]
    },
    {
      "cell_type": "code",
      "execution_count": 52,
      "metadata": {
        "id": "iUme03Y6OE72"
      },
      "outputs": [],
      "source": [
        "import itertools\n",
        "\n",
        "def plot_confusion_matrix(cm,class_names,normalize=False,title=\"Confusion Matrix\",\n",
        "                          cmap = plt.cm.ocean):\n",
        "    accuracy = np.trace(cm) / float(np.sum(cm))\n",
        "    misclass = 1 - accuracy\n",
        "\n",
        "    if cmap is None:\n",
        "        cmap = plt.get_cmap('Blues')\n",
        "\n",
        "    plt.figure(figsize=(8, 6))\n",
        "    plt.imshow(cm, interpolation='nearest', cmap=cmap)\n",
        "    plt.title(title)\n",
        "    plt.colorbar()\n",
        "\n",
        "    if class_names is not None:\n",
        "        tick_marks = np.arange(len(class_names))\n",
        "        plt.xticks(tick_marks, class_names, rotation=45)\n",
        "        plt.yticks(tick_marks, class_names)\n",
        "\n",
        "    if normalize:\n",
        "        cm = cm.astype('float') / cm.sum(axis=1)[:, np.newaxis]\n",
        "\n",
        "\n",
        "    thresh = cm.max() / 1.5 if normalize else cm.max() / 2\n",
        "    for i, j in itertools.product(range(cm.shape[0]), range(cm.shape[1])):\n",
        "        if normalize:\n",
        "            plt.text(j, i, \"{:0.4f}\".format(cm[i, j]),\n",
        "                     horizontalalignment=\"center\",\n",
        "                     color=\"white\" if cm[i, j] > thresh else \"black\")\n",
        "        else:\n",
        "            plt.text(j, i, \"{:,}\".format(cm[i, j]),\n",
        "                     horizontalalignment=\"center\",\n",
        "                     color=\"white\" if cm[i, j] > thresh else \"black\")\n",
        "\n",
        "\n",
        "    plt.tight_layout()\n",
        "    plt.ylabel('True label')\n",
        "    plt.xlabel('Predicted label\\naccuracy={:0.4f}; misclass={:0.4f}'.format(accuracy, misclass))\n",
        "    \n",
        "    #return plt\n",
        "    plt.show()"
      ]
    },
    {
      "cell_type": "markdown",
      "metadata": {
        "id": "S60iBV9KQ2w9"
      },
      "source": [
        "<h3> Modeling </h3>\n",
        "Choosing the right alogithm and to model the analysis is a vital part of making the recommendation system work accurately. For a supervised binary classification problem like this where we try to analyze the sentiment from the reviews text from the products data I chose the XGBOOST algorith. We need to note that the earlier data wragnlign techniques we already have applied to classify good and bad ratings and other classifications also help classify the products data into appropriate classes."
      ]
    },
    {
      "cell_type": "markdown",
      "metadata": {
        "id": "JPrx_Gw_R3Ul"
      },
      "source": [
        "<h3> Feature Engineering </h3>\n",
        "\n",
        "CountVectorizer Bag of Words:\n",
        "\n",
        "Vectorizing is the process of converting texts into numerical representation or feature vectors. The bag of words strategy uses the counting of each occurance of word ignoring the relative position in a given document.\n",
        "\n",
        "\"CountVectorizer\" implements both tokenization and occurrence counting in a single class."
      ]
    },
    {
      "cell_type": "code",
      "execution_count": 53,
      "metadata": {
        "id": "A9SvpXoMSp-7"
      },
      "outputs": [],
      "source": [
        "from sklearn.feature_extraction.text import TfidfVectorizer, CountVectorizer, HashingVectorizer \n",
        "\n",
        "# Create the word vector with CountVectorizer\n",
        "count_vect = CountVectorizer(ngram_range=(1,1))\n",
        "count_vect_train = count_vect.fit_transform(X_train)\n",
        "count_vect_train = count_vect_train.toarray()\n",
        "count_vect_test = count_vect.transform(X_test)\n",
        "count_vect_test = count_vect_test.toarray()"
      ]
    },
    {
      "cell_type": "code",
      "execution_count": 54,
      "metadata": {
        "id": "l9k3eOewTjm3",
        "colab": {
          "base_uri": "https://localhost:8080/",
          "height": 299
        },
        "outputId": "a8cc7493-77dc-4725-981a-b46a498fb74e"
      },
      "outputs": [
        {
          "output_type": "execute_result",
          "data": {
            "text/plain": [
              "   0041085107  007  01132009  016  02  04  05  06  060  0619d  ...  zing  zip  \\\n",
              "0           0    0         0    0   0   0   0   0    0      0  ...     0    0   \n",
              "1           0    0         0    0   0   0   0   0    0      0  ...     0    0   \n",
              "2           0    0         0    0   0   0   0   0    0      0  ...     0    0   \n",
              "3           0    0         0    0   0   0   0   0    0      0  ...     0    0   \n",
              "4           0    0         0    0   0   0   0   0    0      0  ...     0    0   \n",
              "\n",
              "   zipcas  zipper  zit  zone  zoom  zum  zumbeliev  zummi  \n",
              "0       0       0    0     0     0    0          0      0  \n",
              "1       0       0    0     0     0    0          0      0  \n",
              "2       0       0    0     0     0    0          0      0  \n",
              "3       0       0    0     0     0    0          0      0  \n",
              "4       0       0    0     0     0    0          0      0  \n",
              "\n",
              "[5 rows x 13127 columns]"
            ],
            "text/html": [
              "\n",
              "  <div id=\"df-34b7f040-907f-4bb9-b1de-6bb74b41dcc3\">\n",
              "    <div class=\"colab-df-container\">\n",
              "      <div>\n",
              "<style scoped>\n",
              "    .dataframe tbody tr th:only-of-type {\n",
              "        vertical-align: middle;\n",
              "    }\n",
              "\n",
              "    .dataframe tbody tr th {\n",
              "        vertical-align: top;\n",
              "    }\n",
              "\n",
              "    .dataframe thead th {\n",
              "        text-align: right;\n",
              "    }\n",
              "</style>\n",
              "<table border=\"1\" class=\"dataframe\">\n",
              "  <thead>\n",
              "    <tr style=\"text-align: right;\">\n",
              "      <th></th>\n",
              "      <th>0041085107</th>\n",
              "      <th>007</th>\n",
              "      <th>01132009</th>\n",
              "      <th>016</th>\n",
              "      <th>02</th>\n",
              "      <th>04</th>\n",
              "      <th>05</th>\n",
              "      <th>06</th>\n",
              "      <th>060</th>\n",
              "      <th>0619d</th>\n",
              "      <th>...</th>\n",
              "      <th>zing</th>\n",
              "      <th>zip</th>\n",
              "      <th>zipcas</th>\n",
              "      <th>zipper</th>\n",
              "      <th>zit</th>\n",
              "      <th>zone</th>\n",
              "      <th>zoom</th>\n",
              "      <th>zum</th>\n",
              "      <th>zumbeliev</th>\n",
              "      <th>zummi</th>\n",
              "    </tr>\n",
              "  </thead>\n",
              "  <tbody>\n",
              "    <tr>\n",
              "      <th>0</th>\n",
              "      <td>0</td>\n",
              "      <td>0</td>\n",
              "      <td>0</td>\n",
              "      <td>0</td>\n",
              "      <td>0</td>\n",
              "      <td>0</td>\n",
              "      <td>0</td>\n",
              "      <td>0</td>\n",
              "      <td>0</td>\n",
              "      <td>0</td>\n",
              "      <td>...</td>\n",
              "      <td>0</td>\n",
              "      <td>0</td>\n",
              "      <td>0</td>\n",
              "      <td>0</td>\n",
              "      <td>0</td>\n",
              "      <td>0</td>\n",
              "      <td>0</td>\n",
              "      <td>0</td>\n",
              "      <td>0</td>\n",
              "      <td>0</td>\n",
              "    </tr>\n",
              "    <tr>\n",
              "      <th>1</th>\n",
              "      <td>0</td>\n",
              "      <td>0</td>\n",
              "      <td>0</td>\n",
              "      <td>0</td>\n",
              "      <td>0</td>\n",
              "      <td>0</td>\n",
              "      <td>0</td>\n",
              "      <td>0</td>\n",
              "      <td>0</td>\n",
              "      <td>0</td>\n",
              "      <td>...</td>\n",
              "      <td>0</td>\n",
              "      <td>0</td>\n",
              "      <td>0</td>\n",
              "      <td>0</td>\n",
              "      <td>0</td>\n",
              "      <td>0</td>\n",
              "      <td>0</td>\n",
              "      <td>0</td>\n",
              "      <td>0</td>\n",
              "      <td>0</td>\n",
              "    </tr>\n",
              "    <tr>\n",
              "      <th>2</th>\n",
              "      <td>0</td>\n",
              "      <td>0</td>\n",
              "      <td>0</td>\n",
              "      <td>0</td>\n",
              "      <td>0</td>\n",
              "      <td>0</td>\n",
              "      <td>0</td>\n",
              "      <td>0</td>\n",
              "      <td>0</td>\n",
              "      <td>0</td>\n",
              "      <td>...</td>\n",
              "      <td>0</td>\n",
              "      <td>0</td>\n",
              "      <td>0</td>\n",
              "      <td>0</td>\n",
              "      <td>0</td>\n",
              "      <td>0</td>\n",
              "      <td>0</td>\n",
              "      <td>0</td>\n",
              "      <td>0</td>\n",
              "      <td>0</td>\n",
              "    </tr>\n",
              "    <tr>\n",
              "      <th>3</th>\n",
              "      <td>0</td>\n",
              "      <td>0</td>\n",
              "      <td>0</td>\n",
              "      <td>0</td>\n",
              "      <td>0</td>\n",
              "      <td>0</td>\n",
              "      <td>0</td>\n",
              "      <td>0</td>\n",
              "      <td>0</td>\n",
              "      <td>0</td>\n",
              "      <td>...</td>\n",
              "      <td>0</td>\n",
              "      <td>0</td>\n",
              "      <td>0</td>\n",
              "      <td>0</td>\n",
              "      <td>0</td>\n",
              "      <td>0</td>\n",
              "      <td>0</td>\n",
              "      <td>0</td>\n",
              "      <td>0</td>\n",
              "      <td>0</td>\n",
              "    </tr>\n",
              "    <tr>\n",
              "      <th>4</th>\n",
              "      <td>0</td>\n",
              "      <td>0</td>\n",
              "      <td>0</td>\n",
              "      <td>0</td>\n",
              "      <td>0</td>\n",
              "      <td>0</td>\n",
              "      <td>0</td>\n",
              "      <td>0</td>\n",
              "      <td>0</td>\n",
              "      <td>0</td>\n",
              "      <td>...</td>\n",
              "      <td>0</td>\n",
              "      <td>0</td>\n",
              "      <td>0</td>\n",
              "      <td>0</td>\n",
              "      <td>0</td>\n",
              "      <td>0</td>\n",
              "      <td>0</td>\n",
              "      <td>0</td>\n",
              "      <td>0</td>\n",
              "      <td>0</td>\n",
              "    </tr>\n",
              "  </tbody>\n",
              "</table>\n",
              "<p>5 rows × 13127 columns</p>\n",
              "</div>\n",
              "      <button class=\"colab-df-convert\" onclick=\"convertToInteractive('df-34b7f040-907f-4bb9-b1de-6bb74b41dcc3')\"\n",
              "              title=\"Convert this dataframe to an interactive table.\"\n",
              "              style=\"display:none;\">\n",
              "        \n",
              "  <svg xmlns=\"http://www.w3.org/2000/svg\" height=\"24px\"viewBox=\"0 0 24 24\"\n",
              "       width=\"24px\">\n",
              "    <path d=\"M0 0h24v24H0V0z\" fill=\"none\"/>\n",
              "    <path d=\"M18.56 5.44l.94 2.06.94-2.06 2.06-.94-2.06-.94-.94-2.06-.94 2.06-2.06.94zm-11 1L8.5 8.5l.94-2.06 2.06-.94-2.06-.94L8.5 2.5l-.94 2.06-2.06.94zm10 10l.94 2.06.94-2.06 2.06-.94-2.06-.94-.94-2.06-.94 2.06-2.06.94z\"/><path d=\"M17.41 7.96l-1.37-1.37c-.4-.4-.92-.59-1.43-.59-.52 0-1.04.2-1.43.59L10.3 9.45l-7.72 7.72c-.78.78-.78 2.05 0 2.83L4 21.41c.39.39.9.59 1.41.59.51 0 1.02-.2 1.41-.59l7.78-7.78 2.81-2.81c.8-.78.8-2.07 0-2.86zM5.41 20L4 18.59l7.72-7.72 1.47 1.35L5.41 20z\"/>\n",
              "  </svg>\n",
              "      </button>\n",
              "      \n",
              "  <style>\n",
              "    .colab-df-container {\n",
              "      display:flex;\n",
              "      flex-wrap:wrap;\n",
              "      gap: 12px;\n",
              "    }\n",
              "\n",
              "    .colab-df-convert {\n",
              "      background-color: #E8F0FE;\n",
              "      border: none;\n",
              "      border-radius: 50%;\n",
              "      cursor: pointer;\n",
              "      display: none;\n",
              "      fill: #1967D2;\n",
              "      height: 32px;\n",
              "      padding: 0 0 0 0;\n",
              "      width: 32px;\n",
              "    }\n",
              "\n",
              "    .colab-df-convert:hover {\n",
              "      background-color: #E2EBFA;\n",
              "      box-shadow: 0px 1px 2px rgba(60, 64, 67, 0.3), 0px 1px 3px 1px rgba(60, 64, 67, 0.15);\n",
              "      fill: #174EA6;\n",
              "    }\n",
              "\n",
              "    [theme=dark] .colab-df-convert {\n",
              "      background-color: #3B4455;\n",
              "      fill: #D2E3FC;\n",
              "    }\n",
              "\n",
              "    [theme=dark] .colab-df-convert:hover {\n",
              "      background-color: #434B5C;\n",
              "      box-shadow: 0px 1px 3px 1px rgba(0, 0, 0, 0.15);\n",
              "      filter: drop-shadow(0px 1px 2px rgba(0, 0, 0, 0.3));\n",
              "      fill: #FFFFFF;\n",
              "    }\n",
              "  </style>\n",
              "\n",
              "      <script>\n",
              "        const buttonEl =\n",
              "          document.querySelector('#df-34b7f040-907f-4bb9-b1de-6bb74b41dcc3 button.colab-df-convert');\n",
              "        buttonEl.style.display =\n",
              "          google.colab.kernel.accessAllowed ? 'block' : 'none';\n",
              "\n",
              "        async function convertToInteractive(key) {\n",
              "          const element = document.querySelector('#df-34b7f040-907f-4bb9-b1de-6bb74b41dcc3');\n",
              "          const dataTable =\n",
              "            await google.colab.kernel.invokeFunction('convertToInteractive',\n",
              "                                                     [key], {});\n",
              "          if (!dataTable) return;\n",
              "\n",
              "          const docLinkHtml = 'Like what you see? Visit the ' +\n",
              "            '<a target=\"_blank\" href=https://colab.research.google.com/notebooks/data_table.ipynb>data table notebook</a>'\n",
              "            + ' to learn more about interactive tables.';\n",
              "          element.innerHTML = '';\n",
              "          dataTable['output_type'] = 'display_data';\n",
              "          await google.colab.output.renderOutput(dataTable, element);\n",
              "          const docLink = document.createElement('div');\n",
              "          docLink.innerHTML = docLinkHtml;\n",
              "          element.appendChild(docLink);\n",
              "        }\n",
              "      </script>\n",
              "    </div>\n",
              "  </div>\n",
              "  "
            ]
          },
          "metadata": {},
          "execution_count": 54
        }
      ],
      "source": [
        "# get the feature names from the bag of words vector\n",
        "vocab = count_vect.get_feature_names()\n",
        "# create a dataset for the count vector\n",
        "pd.DataFrame(count_vect_train, columns = vocab).head()"
      ]
    },
    {
      "cell_type": "code",
      "execution_count": 55,
      "metadata": {
        "id": "Gy505XPeT0TG"
      },
      "outputs": [],
      "source": [
        "## import all required libraries for modelling.\n",
        "\n",
        "from sklearn.model_selection import cross_validate\n",
        "from sklearn.model_selection import cross_val_predict\n",
        "from sklearn.model_selection import cross_val_score\n",
        "from sklearn.svm import SVC\n",
        "from sklearn.metrics import classification_report\n",
        "from  sklearn.metrics import precision_recall_fscore_support\n",
        "from sklearn.metrics import f1_score\n",
        "from sklearn.metrics import recall_score\n",
        "from sklearn.metrics import confusion_matrix\n",
        "from gensim.models import Word2Vec\n",
        "from tqdm import tqdm\n",
        "import xgboost as xgb\n",
        "from xgboost import XGBClassifier"
      ]
    },
    {
      "cell_type": "markdown",
      "metadata": {
        "id": "z_5TTH8fT8QI"
      },
      "source": [
        "<h3> XGBOOST with CountVecotrizer </h3>\n",
        "\n"
      ]
    },
    {
      "cell_type": "code",
      "execution_count": 56,
      "metadata": {
        "id": "pvKG53D1Vp0Q",
        "colab": {
          "base_uri": "https://localhost:8080/"
        },
        "outputId": "6b74985e-c109-49b0-aeda-2f7b2a7cd2da"
      },
      "outputs": [
        {
          "output_type": "stream",
          "name": "stdout",
          "text": [
            "f1 score: 0.8772451430949187\n"
          ]
        }
      ],
      "source": [
        "# Instantiate the XGBClassifier.\n",
        "model = XGBClassifier()\n",
        "  \n",
        "# Fitting classifier to the Training set\n",
        "model.fit(count_vect_train, y_train)\n",
        "    \n",
        "# Predicting the Test set results\n",
        "y_pred = model.predict(count_vect_test)\n",
        "    \n",
        "# Assign f1 score to a variable\n",
        "score = f1_score(y_test, y_pred, average = 'weighted')\n",
        "    \n",
        "# Printing evaluation metric (f1-score) \n",
        "print(\"f1 score: {}\".format(score))"
      ]
    },
    {
      "cell_type": "markdown",
      "metadata": {
        "id": "RV_Gx2rxYOp6"
      },
      "source": [
        "**Classification Report**"
      ]
    },
    {
      "cell_type": "markdown",
      "source": [
        ""
      ],
      "metadata": {
        "id": "6LCRYSWz4mI1"
      }
    },
    {
      "cell_type": "code",
      "execution_count": 57,
      "metadata": {
        "id": "L6mC_JiNYQlo",
        "colab": {
          "base_uri": "https://localhost:8080/"
        },
        "outputId": "07830707-f1da-496c-8ce2-09d5bf544f15"
      },
      "outputs": [
        {
          "output_type": "stream",
          "name": "stdout",
          "text": [
            "              precision    recall  f1-score   support\n",
            "\n",
            "           0       0.89      0.32      0.47       698\n",
            "           1       0.90      0.99      0.94      4302\n",
            "\n",
            "    accuracy                           0.90      5000\n",
            "   macro avg       0.89      0.65      0.70      5000\n",
            "weighted avg       0.90      0.90      0.88      5000\n",
            "\n"
          ]
        }
      ],
      "source": [
        "# Compute and print the classification report\n",
        "print(classification_report(y_test, y_pred))\n"
      ]
    },
    {
      "cell_type": "markdown",
      "metadata": {
        "id": "DTMuFsRGYaLg"
      },
      "source": [
        "<h3> Plot Confusion Matrix </h3>"
      ]
    },
    {
      "cell_type": "markdown",
      "source": [
        ""
      ],
      "metadata": {
        "id": "p-hKAS8_IL58"
      }
    },
    {
      "cell_type": "code",
      "execution_count": 58,
      "metadata": {
        "id": "k_Nakn7JYZrv",
        "colab": {
          "base_uri": "https://localhost:8080/",
          "height": 485
        },
        "outputId": "0c6585e5-57f1-4d88-a76e-dbff64a56553"
      },
      "outputs": [
        {
          "output_type": "display_data",
          "data": {
            "text/plain": [
              "<Figure size 720x720 with 0 Axes>"
            ]
          },
          "metadata": {}
        },
        {
          "output_type": "display_data",
          "data": {
            "text/plain": [
              "<Figure size 576x432 with 2 Axes>"
            ],
            "image/png": "[encoded data removed]"
          },
          "metadata": {
            "needs_background": "light"
          }
        }
      ],
      "source": [
        "# Print confusion matrix for XGBOOST with countVectorizer\n",
        "cm = confusion_matrix(y_test, y_pred)\n",
        "fig = plt.figure(figsize=(10, 10))\n",
        "plot_confusion_matrix(cm, class_names=['Bad','Good','Popular','Least Popular'], normalize=False, \n",
        "                                 title =  'Confusion Matrix for XGBOOST with Count Vectorizing')"
      ]
    },
    {
      "cell_type": "markdown",
      "metadata": {
        "id": "aviMLNS1ZWAA"
      },
      "source": [
        "<H3>TF-IDF </H3>\n",
        "\n",
        "TF-IDF score - Term Frequency, Inverse Document Frequency. This model puts the focus more on meaningful words. It weighs words by how rarely they occur in the document and discounts words that are too frequent and only add to the noise.\n"
      ]
    },
    {
      "cell_type": "code",
      "execution_count": 59,
      "metadata": {
        "id": "2rliKSwxZdWX"
      },
      "outputs": [],
      "source": [
        "# Create the word vector with TF-IDF Vectorizer\n",
        "tfidf_vect = TfidfVectorizer(ngram_range=(1, 1))\n",
        "tfidf_vect_train = tfidf_vect.fit_transform(X_train)\n",
        "tfidf_vect_train = tfidf_vect_train.toarray()\n",
        "tfidf_vect_test = tfidf_vect.transform(X_test)\n",
        "tfidf_vect_test = tfidf_vect_test.toarray()"
      ]
    },
    {
      "cell_type": "markdown",
      "metadata": {
        "id": "F7NpFpElaflb"
      },
      "source": [
        "<h3>XGBoost with TF-IDF</h3>"
      ]
    },
    {
      "cell_type": "code",
      "execution_count": null,
      "metadata": {
        "id": "mUzzweS9ah6b"
      },
      "outputs": [],
      "source": [
        "# Instantiate the XGBClassifier with TF-IDF vector\n",
        "model = XGBClassifier()\n",
        "  \n",
        "# Fitting classifier to the Training set\n",
        "model.fit(tfidf_vect_train, y_train)\n",
        "    \n",
        "# predict the Test set results\n",
        "y_pred_tfidf_xgb = model.predict(tfidf_vect_test)\n",
        "    \n",
        "# Assign f1 score to a variable\n",
        "score = f1_score(y_test, y_pred_tfidf_xgb, average = 'weighted')\n",
        "    \n",
        "# Printing evaluation metric (f1-score) \n",
        "print(\"f1 score: {}\".format(score))"
      ]
    },
    {
      "cell_type": "markdown",
      "metadata": {
        "id": "gUoKuVRwbR4Z"
      },
      "source": [
        "<h3> Classification Report</h3>"
      ]
    },
    {
      "cell_type": "code",
      "execution_count": null,
      "metadata": {
        "id": "9ps6AiYMbT27"
      },
      "outputs": [],
      "source": [
        "# Compute and print the classification report\n",
        "print(classification_report(y_test, y_pred_tfidf_xgb))"
      ]
    },
    {
      "cell_type": "markdown",
      "metadata": {
        "id": "8REXGq1Vbcl5"
      },
      "source": [
        "<h3> Plot Confusion Matrix <h3>"
      ]
    },
    {
      "cell_type": "code",
      "execution_count": null,
      "metadata": {
        "id": "UgvZU2kVbhQ7"
      },
      "outputs": [],
      "source": [
        "# Print confusion matrix for XGBOOST with TF-IDF vector\n",
        "cm = confusion_matrix(y_test, y_pred_tfidf_xgb)\n",
        "fig = plt.figure(figsize=(10, 10))\n",
        "plot_confusion_matrix(cm, classes=['Bad','Good','Popular','Least Popular'], normalize=False, \n",
        "                                 title =  'Confusion Matrix for XGBOOST with TF-IDF')"
      ]
    },
    {
      "cell_type": "markdown",
      "source": [
        "<h3> Recommendation System </h3>\n",
        "\n",
        "We now focus on building the Recommendation system. I use different approaches to achieve the Product recommendation.\n",
        "\n",
        "1. Recommendation based on Product populairty targetted to new customers.\n",
        "2. Recommendation based on User's purchase history and ratings by other users using Model based Collaborative filtering."
      ],
      "metadata": {
        "id": "B9zefdo7IxBu"
      }
    },
    {
      "cell_type": "markdown",
      "source": [
        "\n",
        "\n",
        "Recommendation System. 1\n",
        "\n",
        "Popularity based Recommendation system works for new customers who do not have any prior purchase history or not reviewed any products before. This approach uses ratings already made to products and recommeds products with highest ratings.\n",
        "\n",
        "\n"
      ],
      "metadata": {
        "id": "RsfRGAWMa30S"
      }
    },
    {
      "cell_type": "code",
      "source": [
        "# %matplotlib inline\n",
        "import matplotlib.pyplot as plt \n",
        "import pandas as pd\n",
        "import numpy as np\n",
        "plt.style.use(\"ggplot\")"
      ],
      "metadata": {
        "id": "4zsGcXB2blJT"
      },
      "execution_count": 22,
      "outputs": []
    },
    {
      "cell_type": "code",
      "source": [
        "## read the dataset\n",
        "\n",
        "ratings_df = pd.read_csv('sample_data/ratings_Beauty.csv')\n",
        "ratings_df = ratings_df.dropna()\n",
        "ratings_df.head()"
      ],
      "metadata": {
        "id": "B4f3DIfBJ8YU",
        "colab": {
          "base_uri": "https://localhost:8080/",
          "height": 206
        },
        "outputId": "6de2b7bb-9fae-4222-8a9e-9c41c83ab26b"
      },
      "execution_count": 4,
      "outputs": [
        {
          "output_type": "execute_result",
          "data": {
            "text/plain": [
              "   A39HTATAQ9V7YF  0205616461  5.0  1369699200\n",
              "0  A3JM6GV9MNOF9X  0558925278  3.0  1355443200\n",
              "1  A1Z513UWSAAO0F  0558925278  5.0  1404691200\n",
              "2  A1WMRR494NWEWV  0733001998  4.0  1382572800\n",
              "3  A3IAAVS479H7M7  0737104473  1.0  1274227200\n",
              "4   AKJHHD5VEH7VG  0762451459  5.0  1404518400"
            ],
            "text/html": [
              "\n",
              "  <div id=\"df-cbf7f407-ba0b-490b-9a93-5279657286f0\">\n",
              "    <div class=\"colab-df-container\">\n",
              "      <div>\n",
              "<style scoped>\n",
              "    .dataframe tbody tr th:only-of-type {\n",
              "        vertical-align: middle;\n",
              "    }\n",
              "\n",
              "    .dataframe tbody tr th {\n",
              "        vertical-align: top;\n",
              "    }\n",
              "\n",
              "    .dataframe thead th {\n",
              "        text-align: right;\n",
              "    }\n",
              "</style>\n",
              "<table border=\"1\" class=\"dataframe\">\n",
              "  <thead>\n",
              "    <tr style=\"text-align: right;\">\n",
              "      <th></th>\n",
              "      <th>A39HTATAQ9V7YF</th>\n",
              "      <th>0205616461</th>\n",
              "      <th>5.0</th>\n",
              "      <th>1369699200</th>\n",
              "    </tr>\n",
              "  </thead>\n",
              "  <tbody>\n",
              "    <tr>\n",
              "      <th>0</th>\n",
              "      <td>A3JM6GV9MNOF9X</td>\n",
              "      <td>0558925278</td>\n",
              "      <td>3.0</td>\n",
              "      <td>1355443200</td>\n",
              "    </tr>\n",
              "    <tr>\n",
              "      <th>1</th>\n",
              "      <td>A1Z513UWSAAO0F</td>\n",
              "      <td>0558925278</td>\n",
              "      <td>5.0</td>\n",
              "      <td>1404691200</td>\n",
              "    </tr>\n",
              "    <tr>\n",
              "      <th>2</th>\n",
              "      <td>A1WMRR494NWEWV</td>\n",
              "      <td>0733001998</td>\n",
              "      <td>4.0</td>\n",
              "      <td>1382572800</td>\n",
              "    </tr>\n",
              "    <tr>\n",
              "      <th>3</th>\n",
              "      <td>A3IAAVS479H7M7</td>\n",
              "      <td>0737104473</td>\n",
              "      <td>1.0</td>\n",
              "      <td>1274227200</td>\n",
              "    </tr>\n",
              "    <tr>\n",
              "      <th>4</th>\n",
              "      <td>AKJHHD5VEH7VG</td>\n",
              "      <td>0762451459</td>\n",
              "      <td>5.0</td>\n",
              "      <td>1404518400</td>\n",
              "    </tr>\n",
              "  </tbody>\n",
              "</table>\n",
              "</div>\n",
              "      <button class=\"colab-df-convert\" onclick=\"convertToInteractive('df-cbf7f407-ba0b-490b-9a93-5279657286f0')\"\n",
              "              title=\"Convert this dataframe to an interactive table.\"\n",
              "              style=\"display:none;\">\n",
              "        \n",
              "  <svg xmlns=\"http://www.w3.org/2000/svg\" height=\"24px\"viewBox=\"0 0 24 24\"\n",
              "       width=\"24px\">\n",
              "    <path d=\"M0 0h24v24H0V0z\" fill=\"none\"/>\n",
              "    <path d=\"M18.56 5.44l.94 2.06.94-2.06 2.06-.94-2.06-.94-.94-2.06-.94 2.06-2.06.94zm-11 1L8.5 8.5l.94-2.06 2.06-.94-2.06-.94L8.5 2.5l-.94 2.06-2.06.94zm10 10l.94 2.06.94-2.06 2.06-.94-2.06-.94-.94-2.06-.94 2.06-2.06.94z\"/><path d=\"M17.41 7.96l-1.37-1.37c-.4-.4-.92-.59-1.43-.59-.52 0-1.04.2-1.43.59L10.3 9.45l-7.72 7.72c-.78.78-.78 2.05 0 2.83L4 21.41c.39.39.9.59 1.41.59.51 0 1.02-.2 1.41-.59l7.78-7.78 2.81-2.81c.8-.78.8-2.07 0-2.86zM5.41 20L4 18.59l7.72-7.72 1.47 1.35L5.41 20z\"/>\n",
              "  </svg>\n",
              "      </button>\n",
              "      \n",
              "  <style>\n",
              "    .colab-df-container {\n",
              "      display:flex;\n",
              "      flex-wrap:wrap;\n",
              "      gap: 12px;\n",
              "    }\n",
              "\n",
              "    .colab-df-convert {\n",
              "      background-color: #E8F0FE;\n",
              "      border: none;\n",
              "      border-radius: 50%;\n",
              "      cursor: pointer;\n",
              "      display: none;\n",
              "      fill: #1967D2;\n",
              "      height: 32px;\n",
              "      padding: 0 0 0 0;\n",
              "      width: 32px;\n",
              "    }\n",
              "\n",
              "    .colab-df-convert:hover {\n",
              "      background-color: #E2EBFA;\n",
              "      box-shadow: 0px 1px 2px rgba(60, 64, 67, 0.3), 0px 1px 3px 1px rgba(60, 64, 67, 0.15);\n",
              "      fill: #174EA6;\n",
              "    }\n",
              "\n",
              "    [theme=dark] .colab-df-convert {\n",
              "      background-color: #3B4455;\n",
              "      fill: #D2E3FC;\n",
              "    }\n",
              "\n",
              "    [theme=dark] .colab-df-convert:hover {\n",
              "      background-color: #434B5C;\n",
              "      box-shadow: 0px 1px 3px 1px rgba(0, 0, 0, 0.15);\n",
              "      filter: drop-shadow(0px 1px 2px rgba(0, 0, 0, 0.3));\n",
              "      fill: #FFFFFF;\n",
              "    }\n",
              "  </style>\n",
              "\n",
              "      <script>\n",
              "        const buttonEl =\n",
              "          document.querySelector('#df-cbf7f407-ba0b-490b-9a93-5279657286f0 button.colab-df-convert');\n",
              "        buttonEl.style.display =\n",
              "          google.colab.kernel.accessAllowed ? 'block' : 'none';\n",
              "\n",
              "        async function convertToInteractive(key) {\n",
              "          const element = document.querySelector('#df-cbf7f407-ba0b-490b-9a93-5279657286f0');\n",
              "          const dataTable =\n",
              "            await google.colab.kernel.invokeFunction('convertToInteractive',\n",
              "                                                     [key], {});\n",
              "          if (!dataTable) return;\n",
              "\n",
              "          const docLinkHtml = 'Like what you see? Visit the ' +\n",
              "            '<a target=\"_blank\" href=https://colab.research.google.com/notebooks/data_table.ipynb>data table notebook</a>'\n",
              "            + ' to learn more about interactive tables.';\n",
              "          element.innerHTML = '';\n",
              "          dataTable['output_type'] = 'display_data';\n",
              "          await google.colab.output.renderOutput(dataTable, element);\n",
              "          const docLink = document.createElement('div');\n",
              "          docLink.innerHTML = docLinkHtml;\n",
              "          element.appendChild(docLink);\n",
              "        }\n",
              "      </script>\n",
              "    </div>\n",
              "  </div>\n",
              "  "
            ]
          },
          "metadata": {},
          "execution_count": 4
        }
      ]
    },
    {
      "cell_type": "code",
      "source": [
        "ratings_df.shape"
      ],
      "metadata": {
        "id": "1cr-0ts5b_WI",
        "colab": {
          "base_uri": "https://localhost:8080/"
        },
        "outputId": "9002d459-baeb-4376-cf68-5d66fba00d40"
      },
      "execution_count": 5,
      "outputs": [
        {
          "output_type": "execute_result",
          "data": {
            "text/plain": [
              "(2023069, 4)"
            ]
          },
          "metadata": {},
          "execution_count": 5
        }
      ]
    },
    {
      "cell_type": "code",
      "source": [
        "ratings_df.columns"
      ],
      "metadata": {
        "id": "zgPDJQOscRwe",
        "colab": {
          "base_uri": "https://localhost:8080/"
        },
        "outputId": "e7fdcb52-3db9-4d0f-bfe9-006782da069a"
      },
      "execution_count": 6,
      "outputs": [
        {
          "output_type": "execute_result",
          "data": {
            "text/plain": [
              "Index(['A39HTATAQ9V7YF', '0205616461', '5.0', '1369699200'], dtype='object')"
            ]
          },
          "metadata": {},
          "execution_count": 6
        }
      ]
    },
    {
      "cell_type": "code",
      "source": [
        "ratings_df = ratings_df.rename(columns = {'A39HTATAQ9V7YF': 'user_id','0205616461':'product_id','5.0':'rating','1369699200':'time_stmap'})"
      ],
      "metadata": {
        "id": "TI7Ooj7IcDQw"
      },
      "execution_count": 7,
      "outputs": []
    },
    {
      "cell_type": "code",
      "source": [
        "ratings_df.info"
      ],
      "metadata": {
        "id": "Rj0oLTWudwVi",
        "colab": {
          "base_uri": "https://localhost:8080/"
        },
        "outputId": "2432c3ae-1d25-4256-dd33-81c8e62356ff"
      },
      "execution_count": 8,
      "outputs": [
        {
          "output_type": "execute_result",
          "data": {
            "text/plain": [
              "<bound method DataFrame.info of                 user_id  product_id  rating  time_stmap\n",
              "0        A3JM6GV9MNOF9X  0558925278     3.0  1355443200\n",
              "1        A1Z513UWSAAO0F  0558925278     5.0  1404691200\n",
              "2        A1WMRR494NWEWV  0733001998     4.0  1382572800\n",
              "3        A3IAAVS479H7M7  0737104473     1.0  1274227200\n",
              "4         AKJHHD5VEH7VG  0762451459     5.0  1404518400\n",
              "...                 ...         ...     ...         ...\n",
              "2023064  A3DEHKPFANB8VA  B00LORWRJA     5.0  1405296000\n",
              "2023065  A3DEHKPFANB8VA  B00LOS7MEE     5.0  1405296000\n",
              "2023066   AG9TJLJUN5OM3  B00LP2YB8E     5.0  1405382400\n",
              "2023067   AYBIB14QOI9PC  B00LPVG6V0     5.0  1405555200\n",
              "2023068  A1PB6OT0OOPKNQ  B00LU0LTOU     5.0  1405641600\n",
              "\n",
              "[2023069 rows x 4 columns]>"
            ]
          },
          "metadata": {},
          "execution_count": 8
        }
      ]
    },
    {
      "cell_type": "code",
      "source": [
        "popular_products_df = pd.DataFrame(ratings_df.groupby('product_id')['rating'].count())\n",
        "most_popular_products = popular_products_df.sort_values('rating', ascending=False)\n",
        "most_popular_products.head(10)"
      ],
      "metadata": {
        "id": "hm3g5ZaRdGBX",
        "colab": {
          "base_uri": "https://localhost:8080/",
          "height": 394
        },
        "outputId": "81230347-ba3e-40d8-c890-244ab7a180b8"
      },
      "execution_count": 9,
      "outputs": [
        {
          "output_type": "execute_result",
          "data": {
            "text/plain": [
              "            rating\n",
              "product_id        \n",
              "B001MA0QY2    7533\n",
              "B0009V1YR8    2869\n",
              "B0043OYFKU    2477\n",
              "B0000YUXI0    2143\n",
              "B003V265QW    2088\n",
              "B000ZMBSPE    2041\n",
              "B003BQ6QXK    1918\n",
              "B004OHQR1Q    1885\n",
              "B00121UVU0    1838\n",
              "B000FS05VG    1589"
            ],
            "text/html": [
              "\n",
              "  <div id=\"df-b3fc2cd8-838a-44ba-bf0b-be02f435b87a\">\n",
              "    <div class=\"colab-df-container\">\n",
              "      <div>\n",
              "<style scoped>\n",
              "    .dataframe tbody tr th:only-of-type {\n",
              "        vertical-align: middle;\n",
              "    }\n",
              "\n",
              "    .dataframe tbody tr th {\n",
              "        vertical-align: top;\n",
              "    }\n",
              "\n",
              "    .dataframe thead th {\n",
              "        text-align: right;\n",
              "    }\n",
              "</style>\n",
              "<table border=\"1\" class=\"dataframe\">\n",
              "  <thead>\n",
              "    <tr style=\"text-align: right;\">\n",
              "      <th></th>\n",
              "      <th>rating</th>\n",
              "    </tr>\n",
              "    <tr>\n",
              "      <th>product_id</th>\n",
              "      <th></th>\n",
              "    </tr>\n",
              "  </thead>\n",
              "  <tbody>\n",
              "    <tr>\n",
              "      <th>B001MA0QY2</th>\n",
              "      <td>7533</td>\n",
              "    </tr>\n",
              "    <tr>\n",
              "      <th>B0009V1YR8</th>\n",
              "      <td>2869</td>\n",
              "    </tr>\n",
              "    <tr>\n",
              "      <th>B0043OYFKU</th>\n",
              "      <td>2477</td>\n",
              "    </tr>\n",
              "    <tr>\n",
              "      <th>B0000YUXI0</th>\n",
              "      <td>2143</td>\n",
              "    </tr>\n",
              "    <tr>\n",
              "      <th>B003V265QW</th>\n",
              "      <td>2088</td>\n",
              "    </tr>\n",
              "    <tr>\n",
              "      <th>B000ZMBSPE</th>\n",
              "      <td>2041</td>\n",
              "    </tr>\n",
              "    <tr>\n",
              "      <th>B003BQ6QXK</th>\n",
              "      <td>1918</td>\n",
              "    </tr>\n",
              "    <tr>\n",
              "      <th>B004OHQR1Q</th>\n",
              "      <td>1885</td>\n",
              "    </tr>\n",
              "    <tr>\n",
              "      <th>B00121UVU0</th>\n",
              "      <td>1838</td>\n",
              "    </tr>\n",
              "    <tr>\n",
              "      <th>B000FS05VG</th>\n",
              "      <td>1589</td>\n",
              "    </tr>\n",
              "  </tbody>\n",
              "</table>\n",
              "</div>\n",
              "      <button class=\"colab-df-convert\" onclick=\"convertToInteractive('df-b3fc2cd8-838a-44ba-bf0b-be02f435b87a')\"\n",
              "              title=\"Convert this dataframe to an interactive table.\"\n",
              "              style=\"display:none;\">\n",
              "        \n",
              "  <svg xmlns=\"http://www.w3.org/2000/svg\" height=\"24px\"viewBox=\"0 0 24 24\"\n",
              "       width=\"24px\">\n",
              "    <path d=\"M0 0h24v24H0V0z\" fill=\"none\"/>\n",
              "    <path d=\"M18.56 5.44l.94 2.06.94-2.06 2.06-.94-2.06-.94-.94-2.06-.94 2.06-2.06.94zm-11 1L8.5 8.5l.94-2.06 2.06-.94-2.06-.94L8.5 2.5l-.94 2.06-2.06.94zm10 10l.94 2.06.94-2.06 2.06-.94-2.06-.94-.94-2.06-.94 2.06-2.06.94z\"/><path d=\"M17.41 7.96l-1.37-1.37c-.4-.4-.92-.59-1.43-.59-.52 0-1.04.2-1.43.59L10.3 9.45l-7.72 7.72c-.78.78-.78 2.05 0 2.83L4 21.41c.39.39.9.59 1.41.59.51 0 1.02-.2 1.41-.59l7.78-7.78 2.81-2.81c.8-.78.8-2.07 0-2.86zM5.41 20L4 18.59l7.72-7.72 1.47 1.35L5.41 20z\"/>\n",
              "  </svg>\n",
              "      </button>\n",
              "      \n",
              "  <style>\n",
              "    .colab-df-container {\n",
              "      display:flex;\n",
              "      flex-wrap:wrap;\n",
              "      gap: 12px;\n",
              "    }\n",
              "\n",
              "    .colab-df-convert {\n",
              "      background-color: #E8F0FE;\n",
              "      border: none;\n",
              "      border-radius: 50%;\n",
              "      cursor: pointer;\n",
              "      display: none;\n",
              "      fill: #1967D2;\n",
              "      height: 32px;\n",
              "      padding: 0 0 0 0;\n",
              "      width: 32px;\n",
              "    }\n",
              "\n",
              "    .colab-df-convert:hover {\n",
              "      background-color: #E2EBFA;\n",
              "      box-shadow: 0px 1px 2px rgba(60, 64, 67, 0.3), 0px 1px 3px 1px rgba(60, 64, 67, 0.15);\n",
              "      fill: #174EA6;\n",
              "    }\n",
              "\n",
              "    [theme=dark] .colab-df-convert {\n",
              "      background-color: #3B4455;\n",
              "      fill: #D2E3FC;\n",
              "    }\n",
              "\n",
              "    [theme=dark] .colab-df-convert:hover {\n",
              "      background-color: #434B5C;\n",
              "      box-shadow: 0px 1px 3px 1px rgba(0, 0, 0, 0.15);\n",
              "      filter: drop-shadow(0px 1px 2px rgba(0, 0, 0, 0.3));\n",
              "      fill: #FFFFFF;\n",
              "    }\n",
              "  </style>\n",
              "\n",
              "      <script>\n",
              "        const buttonEl =\n",
              "          document.querySelector('#df-b3fc2cd8-838a-44ba-bf0b-be02f435b87a button.colab-df-convert');\n",
              "        buttonEl.style.display =\n",
              "          google.colab.kernel.accessAllowed ? 'block' : 'none';\n",
              "\n",
              "        async function convertToInteractive(key) {\n",
              "          const element = document.querySelector('#df-b3fc2cd8-838a-44ba-bf0b-be02f435b87a');\n",
              "          const dataTable =\n",
              "            await google.colab.kernel.invokeFunction('convertToInteractive',\n",
              "                                                     [key], {});\n",
              "          if (!dataTable) return;\n",
              "\n",
              "          const docLinkHtml = 'Like what you see? Visit the ' +\n",
              "            '<a target=\"_blank\" href=https://colab.research.google.com/notebooks/data_table.ipynb>data table notebook</a>'\n",
              "            + ' to learn more about interactive tables.';\n",
              "          element.innerHTML = '';\n",
              "          dataTable['output_type'] = 'display_data';\n",
              "          await google.colab.output.renderOutput(dataTable, element);\n",
              "          const docLink = document.createElement('div');\n",
              "          docLink.innerHTML = docLinkHtml;\n",
              "          element.appendChild(docLink);\n",
              "        }\n",
              "      </script>\n",
              "    </div>\n",
              "  </div>\n",
              "  "
            ]
          },
          "metadata": {},
          "execution_count": 9
        }
      ]
    },
    {
      "cell_type": "code",
      "source": [
        "## plot the most popular products in the graph.\n",
        "plt.figure(figsize=(500, 250))\n",
        "most_popular_products.head(10).plot(kind ='bar')"
      ],
      "metadata": {
        "id": "05gFiHTod6Mq",
        "colab": {
          "base_uri": "https://localhost:8080/",
          "height": 377
        },
        "outputId": "da71f87f-d828-47b1-a197-bf2e32923de8"
      },
      "execution_count": 10,
      "outputs": [
        {
          "output_type": "execute_result",
          "data": {
            "text/plain": [
              "<matplotlib.axes._subplots.AxesSubplot at 0x7fe99f95c4d0>"
            ]
          },
          "metadata": {},
          "execution_count": 10
        },
        {
          "output_type": "display_data",
          "data": {
            "text/plain": [
              "<Figure size 36000x18000 with 0 Axes>"
            ]
          },
          "metadata": {}
        },
        {
          "output_type": "display_data",
          "data": {
            "text/plain": [
              "<Figure size 432x288 with 1 Axes>"
            ],
            "image/png": "[encoded data removed]"
          },
          "metadata": {}
        }
      ]
    },
    {
      "cell_type": "markdown",
      "source": [
        "2. <h3> Model based Collaborative Filetring </h3>\n",
        "Recommend products based on the ratins provided by other users and products similar to the one purchased by the customer. \n",
        "\n",
        "Model based filtering identifies patterns based on the inputs from the other users.\n"
      ],
      "metadata": {
        "id": "y4sFrVDPgGxQ"
      }
    },
    {
      "cell_type": "markdown",
      "source": [
        "Utility Matrix: Utility matrix is a matrix of all possibilities of user ratings for a product. The utility matrix is a sparse reprsentation as none of the user would buy all the products in the list."
      ],
      "metadata": {
        "id": "lqEXaZPeuUgL"
      }
    },
    {
      "cell_type": "code",
      "source": [
        "# lets take a sub set of the ratins dataframe to keep data limited for computational purposes.\n",
        "\n",
        "ratings_df_cond = ratings_df.head(10000)"
      ],
      "metadata": {
        "id": "Fzpyep-muuSE"
      },
      "execution_count": 11,
      "outputs": []
    },
    {
      "cell_type": "code",
      "source": [
        "ratings_df_cond.shape"
      ],
      "metadata": {
        "id": "phqKHpXTsoYF",
        "colab": {
          "base_uri": "https://localhost:8080/"
        },
        "outputId": "783dfc7b-4f0c-486e-a636-be276d685aa0"
      },
      "execution_count": 12,
      "outputs": [
        {
          "output_type": "execute_result",
          "data": {
            "text/plain": [
              "(10000, 4)"
            ]
          },
          "metadata": {},
          "execution_count": 12
        }
      ]
    },
    {
      "cell_type": "code",
      "source": [
        "ratings_utility_matrix = ratings_df_cond.pivot_table(values='rating', index='user_id', columns='product_id', fill_value=0)\n",
        "ratings_utility_matrix.head()"
      ],
      "metadata": {
        "id": "NIx115syvDLN",
        "colab": {
          "base_uri": "https://localhost:8080/",
          "height": 331
        },
        "outputId": "11c9649f-4e5f-4ccd-e7ea-b4bc6cf7b7d7"
      },
      "execution_count": 13,
      "outputs": [
        {
          "output_type": "execute_result",
          "data": {
            "text/plain": [
              "product_id             0558925278  0733001998  0737104473  0762451459  \\\n",
              "user_id                                                                 \n",
              "A00205921JHJK5X9LNP42           0           0           0           0   \n",
              "A024581134CV80ZBLIZTZ           0           0           0           0   \n",
              "A03056581JJIOL5FSKJY7           0           0           0           0   \n",
              "A03099101ZRK4K607JVHH           0           0           0           0   \n",
              "A0505229A7NSH3FRXRR4            0           0           0           0   \n",
              "\n",
              "product_id             1304139212  1304139220  130414089X  130414643X  \\\n",
              "user_id                                                                 \n",
              "A00205921JHJK5X9LNP42           0           0           0           0   \n",
              "A024581134CV80ZBLIZTZ           0           0           0           0   \n",
              "A03056581JJIOL5FSKJY7           0           0           0           0   \n",
              "A03099101ZRK4K607JVHH           0           0           0           0   \n",
              "A0505229A7NSH3FRXRR4            0           0           0           0   \n",
              "\n",
              "product_id             1304146537  130414674X  ...  B000052YPE  B000052YPF  \\\n",
              "user_id                                        ...                           \n",
              "A00205921JHJK5X9LNP42           0           0  ...           0           0   \n",
              "A024581134CV80ZBLIZTZ           0           0  ...           0           0   \n",
              "A03056581JJIOL5FSKJY7           0           0  ...           0           0   \n",
              "A03099101ZRK4K607JVHH           0           0  ...           0           0   \n",
              "A0505229A7NSH3FRXRR4            0           0  ...           0           0   \n",
              "\n",
              "product_id             B000052YPG  B000052YPH  B000052YPM  B000052YPU  \\\n",
              "user_id                                                                 \n",
              "A00205921JHJK5X9LNP42           0           0           0           0   \n",
              "A024581134CV80ZBLIZTZ           0           0           0           0   \n",
              "A03056581JJIOL5FSKJY7           0           0           0           0   \n",
              "A03099101ZRK4K607JVHH           0           0           0           0   \n",
              "A0505229A7NSH3FRXRR4            0           0           0           0   \n",
              "\n",
              "product_id             B000052YPV  B000052YPY  B000052YQ0  B000052YQ2  \n",
              "user_id                                                                \n",
              "A00205921JHJK5X9LNP42           0           0           0           0  \n",
              "A024581134CV80ZBLIZTZ           0           0           0           0  \n",
              "A03056581JJIOL5FSKJY7           0           0           0           0  \n",
              "A03099101ZRK4K607JVHH           0           0           0           0  \n",
              "A0505229A7NSH3FRXRR4            0           0           0           0  \n",
              "\n",
              "[5 rows x 885 columns]"
            ],
            "text/html": [
              "\n",
              "  <div id=\"df-13b63aec-df0d-4064-afa0-ebba32539f6a\">\n",
              "    <div class=\"colab-df-container\">\n",
              "      <div>\n",
              "<style scoped>\n",
              "    .dataframe tbody tr th:only-of-type {\n",
              "        vertical-align: middle;\n",
              "    }\n",
              "\n",
              "    .dataframe tbody tr th {\n",
              "        vertical-align: top;\n",
              "    }\n",
              "\n",
              "    .dataframe thead th {\n",
              "        text-align: right;\n",
              "    }\n",
              "</style>\n",
              "<table border=\"1\" class=\"dataframe\">\n",
              "  <thead>\n",
              "    <tr style=\"text-align: right;\">\n",
              "      <th>product_id</th>\n",
              "      <th>0558925278</th>\n",
              "      <th>0733001998</th>\n",
              "      <th>0737104473</th>\n",
              "      <th>0762451459</th>\n",
              "      <th>1304139212</th>\n",
              "      <th>1304139220</th>\n",
              "      <th>130414089X</th>\n",
              "      <th>130414643X</th>\n",
              "      <th>1304146537</th>\n",
              "      <th>130414674X</th>\n",
              "      <th>...</th>\n",
              "      <th>B000052YPE</th>\n",
              "      <th>B000052YPF</th>\n",
              "      <th>B000052YPG</th>\n",
              "      <th>B000052YPH</th>\n",
              "      <th>B000052YPM</th>\n",
              "      <th>B000052YPU</th>\n",
              "      <th>B000052YPV</th>\n",
              "      <th>B000052YPY</th>\n",
              "      <th>B000052YQ0</th>\n",
              "      <th>B000052YQ2</th>\n",
              "    </tr>\n",
              "    <tr>\n",
              "      <th>user_id</th>\n",
              "      <th></th>\n",
              "      <th></th>\n",
              "      <th></th>\n",
              "      <th></th>\n",
              "      <th></th>\n",
              "      <th></th>\n",
              "      <th></th>\n",
              "      <th></th>\n",
              "      <th></th>\n",
              "      <th></th>\n",
              "      <th></th>\n",
              "      <th></th>\n",
              "      <th></th>\n",
              "      <th></th>\n",
              "      <th></th>\n",
              "      <th></th>\n",
              "      <th></th>\n",
              "      <th></th>\n",
              "      <th></th>\n",
              "      <th></th>\n",
              "      <th></th>\n",
              "    </tr>\n",
              "  </thead>\n",
              "  <tbody>\n",
              "    <tr>\n",
              "      <th>A00205921JHJK5X9LNP42</th>\n",
              "      <td>0</td>\n",
              "      <td>0</td>\n",
              "      <td>0</td>\n",
              "      <td>0</td>\n",
              "      <td>0</td>\n",
              "      <td>0</td>\n",
              "      <td>0</td>\n",
              "      <td>0</td>\n",
              "      <td>0</td>\n",
              "      <td>0</td>\n",
              "      <td>...</td>\n",
              "      <td>0</td>\n",
              "      <td>0</td>\n",
              "      <td>0</td>\n",
              "      <td>0</td>\n",
              "      <td>0</td>\n",
              "      <td>0</td>\n",
              "      <td>0</td>\n",
              "      <td>0</td>\n",
              "      <td>0</td>\n",
              "      <td>0</td>\n",
              "    </tr>\n",
              "    <tr>\n",
              "      <th>A024581134CV80ZBLIZTZ</th>\n",
              "      <td>0</td>\n",
              "      <td>0</td>\n",
              "      <td>0</td>\n",
              "      <td>0</td>\n",
              "      <td>0</td>\n",
              "      <td>0</td>\n",
              "      <td>0</td>\n",
              "      <td>0</td>\n",
              "      <td>0</td>\n",
              "      <td>0</td>\n",
              "      <td>...</td>\n",
              "      <td>0</td>\n",
              "      <td>0</td>\n",
              "      <td>0</td>\n",
              "      <td>0</td>\n",
              "      <td>0</td>\n",
              "      <td>0</td>\n",
              "      <td>0</td>\n",
              "      <td>0</td>\n",
              "      <td>0</td>\n",
              "      <td>0</td>\n",
              "    </tr>\n",
              "    <tr>\n",
              "      <th>A03056581JJIOL5FSKJY7</th>\n",
              "      <td>0</td>\n",
              "      <td>0</td>\n",
              "      <td>0</td>\n",
              "      <td>0</td>\n",
              "      <td>0</td>\n",
              "      <td>0</td>\n",
              "      <td>0</td>\n",
              "      <td>0</td>\n",
              "      <td>0</td>\n",
              "      <td>0</td>\n",
              "      <td>...</td>\n",
              "      <td>0</td>\n",
              "      <td>0</td>\n",
              "      <td>0</td>\n",
              "      <td>0</td>\n",
              "      <td>0</td>\n",
              "      <td>0</td>\n",
              "      <td>0</td>\n",
              "      <td>0</td>\n",
              "      <td>0</td>\n",
              "      <td>0</td>\n",
              "    </tr>\n",
              "    <tr>\n",
              "      <th>A03099101ZRK4K607JVHH</th>\n",
              "      <td>0</td>\n",
              "      <td>0</td>\n",
              "      <td>0</td>\n",
              "      <td>0</td>\n",
              "      <td>0</td>\n",
              "      <td>0</td>\n",
              "      <td>0</td>\n",
              "      <td>0</td>\n",
              "      <td>0</td>\n",
              "      <td>0</td>\n",
              "      <td>...</td>\n",
              "      <td>0</td>\n",
              "      <td>0</td>\n",
              "      <td>0</td>\n",
              "      <td>0</td>\n",
              "      <td>0</td>\n",
              "      <td>0</td>\n",
              "      <td>0</td>\n",
              "      <td>0</td>\n",
              "      <td>0</td>\n",
              "      <td>0</td>\n",
              "    </tr>\n",
              "    <tr>\n",
              "      <th>A0505229A7NSH3FRXRR4</th>\n",
              "      <td>0</td>\n",
              "      <td>0</td>\n",
              "      <td>0</td>\n",
              "      <td>0</td>\n",
              "      <td>0</td>\n",
              "      <td>0</td>\n",
              "      <td>0</td>\n",
              "      <td>0</td>\n",
              "      <td>0</td>\n",
              "      <td>0</td>\n",
              "      <td>...</td>\n",
              "      <td>0</td>\n",
              "      <td>0</td>\n",
              "      <td>0</td>\n",
              "      <td>0</td>\n",
              "      <td>0</td>\n",
              "      <td>0</td>\n",
              "      <td>0</td>\n",
              "      <td>0</td>\n",
              "      <td>0</td>\n",
              "      <td>0</td>\n",
              "    </tr>\n",
              "  </tbody>\n",
              "</table>\n",
              "<p>5 rows × 885 columns</p>\n",
              "</div>\n",
              "      <button class=\"colab-df-convert\" onclick=\"convertToInteractive('df-13b63aec-df0d-4064-afa0-ebba32539f6a')\"\n",
              "              title=\"Convert this dataframe to an interactive table.\"\n",
              "              style=\"display:none;\">\n",
              "        \n",
              "  <svg xmlns=\"http://www.w3.org/2000/svg\" height=\"24px\"viewBox=\"0 0 24 24\"\n",
              "       width=\"24px\">\n",
              "    <path d=\"M0 0h24v24H0V0z\" fill=\"none\"/>\n",
              "    <path d=\"M18.56 5.44l.94 2.06.94-2.06 2.06-.94-2.06-.94-.94-2.06-.94 2.06-2.06.94zm-11 1L8.5 8.5l.94-2.06 2.06-.94-2.06-.94L8.5 2.5l-.94 2.06-2.06.94zm10 10l.94 2.06.94-2.06 2.06-.94-2.06-.94-.94-2.06-.94 2.06-2.06.94z\"/><path d=\"M17.41 7.96l-1.37-1.37c-.4-.4-.92-.59-1.43-.59-.52 0-1.04.2-1.43.59L10.3 9.45l-7.72 7.72c-.78.78-.78 2.05 0 2.83L4 21.41c.39.39.9.59 1.41.59.51 0 1.02-.2 1.41-.59l7.78-7.78 2.81-2.81c.8-.78.8-2.07 0-2.86zM5.41 20L4 18.59l7.72-7.72 1.47 1.35L5.41 20z\"/>\n",
              "  </svg>\n",
              "      </button>\n",
              "      \n",
              "  <style>\n",
              "    .colab-df-container {\n",
              "      display:flex;\n",
              "      flex-wrap:wrap;\n",
              "      gap: 12px;\n",
              "    }\n",
              "\n",
              "    .colab-df-convert {\n",
              "      background-color: #E8F0FE;\n",
              "      border: none;\n",
              "      border-radius: 50%;\n",
              "      cursor: pointer;\n",
              "      display: none;\n",
              "      fill: #1967D2;\n",
              "      height: 32px;\n",
              "      padding: 0 0 0 0;\n",
              "      width: 32px;\n",
              "    }\n",
              "\n",
              "    .colab-df-convert:hover {\n",
              "      background-color: #E2EBFA;\n",
              "      box-shadow: 0px 1px 2px rgba(60, 64, 67, 0.3), 0px 1px 3px 1px rgba(60, 64, 67, 0.15);\n",
              "      fill: #174EA6;\n",
              "    }\n",
              "\n",
              "    [theme=dark] .colab-df-convert {\n",
              "      background-color: #3B4455;\n",
              "      fill: #D2E3FC;\n",
              "    }\n",
              "\n",
              "    [theme=dark] .colab-df-convert:hover {\n",
              "      background-color: #434B5C;\n",
              "      box-shadow: 0px 1px 3px 1px rgba(0, 0, 0, 0.15);\n",
              "      filter: drop-shadow(0px 1px 2px rgba(0, 0, 0, 0.3));\n",
              "      fill: #FFFFFF;\n",
              "    }\n",
              "  </style>\n",
              "\n",
              "      <script>\n",
              "        const buttonEl =\n",
              "          document.querySelector('#df-13b63aec-df0d-4064-afa0-ebba32539f6a button.colab-df-convert');\n",
              "        buttonEl.style.display =\n",
              "          google.colab.kernel.accessAllowed ? 'block' : 'none';\n",
              "\n",
              "        async function convertToInteractive(key) {\n",
              "          const element = document.querySelector('#df-13b63aec-df0d-4064-afa0-ebba32539f6a');\n",
              "          const dataTable =\n",
              "            await google.colab.kernel.invokeFunction('convertToInteractive',\n",
              "                                                     [key], {});\n",
              "          if (!dataTable) return;\n",
              "\n",
              "          const docLinkHtml = 'Like what you see? Visit the ' +\n",
              "            '<a target=\"_blank\" href=https://colab.research.google.com/notebooks/data_table.ipynb>data table notebook</a>'\n",
              "            + ' to learn more about interactive tables.';\n",
              "          element.innerHTML = '';\n",
              "          dataTable['output_type'] = 'display_data';\n",
              "          await google.colab.output.renderOutput(dataTable, element);\n",
              "          const docLink = document.createElement('div');\n",
              "          docLink.innerHTML = docLinkHtml;\n",
              "          element.appendChild(docLink);\n",
              "        }\n",
              "      </script>\n",
              "    </div>\n",
              "  </div>\n",
              "  "
            ]
          },
          "metadata": {},
          "execution_count": 13
        }
      ]
    },
    {
      "cell_type": "markdown",
      "source": [
        "**Trasnpose the Matrix**"
      ],
      "metadata": {
        "id": "6hgNlWJHwonB"
      }
    },
    {
      "cell_type": "code",
      "source": [
        "X_trans = ratings_utility_matrix.T\n",
        "X_trans.head()"
      ],
      "metadata": {
        "id": "ZnTU9Iewwr7x",
        "colab": {
          "base_uri": "https://localhost:8080/",
          "height": 331
        },
        "outputId": "e657928f-601d-49f0-a82a-83715849082e"
      },
      "execution_count": 14,
      "outputs": [
        {
          "output_type": "execute_result",
          "data": {
            "text/plain": [
              "user_id     A00205921JHJK5X9LNP42  A024581134CV80ZBLIZTZ  \\\n",
              "product_id                                                 \n",
              "0558925278                      0                      0   \n",
              "0733001998                      0                      0   \n",
              "0737104473                      0                      0   \n",
              "0762451459                      0                      0   \n",
              "1304139212                      0                      0   \n",
              "\n",
              "user_id     A03056581JJIOL5FSKJY7  A03099101ZRK4K607JVHH  \\\n",
              "product_id                                                 \n",
              "0558925278                      0                      0   \n",
              "0733001998                      0                      0   \n",
              "0737104473                      0                      0   \n",
              "0762451459                      0                      0   \n",
              "1304139212                      0                      0   \n",
              "\n",
              "user_id     A0505229A7NSH3FRXRR4  A05492663T95KW63BR75K  \\\n",
              "product_id                                                \n",
              "0558925278                     0                      0   \n",
              "0733001998                     0                      0   \n",
              "0737104473                     0                      0   \n",
              "0762451459                     0                      0   \n",
              "1304139212                     0                      0   \n",
              "\n",
              "user_id     A059547920Q3LZVFHLPI3  A07410232KYRFR25CIUGJ  \\\n",
              "product_id                                                 \n",
              "0558925278                      0                      0   \n",
              "0733001998                      0                      0   \n",
              "0737104473                      0                      0   \n",
              "0762451459                      0                      0   \n",
              "1304139212                      0                      0   \n",
              "\n",
              "user_id     A082796624UNM47DSAI6K  A0864963DOAY7LXGS5I6  ...  AZW1HXXYAC15B  \\\n",
              "product_id                                               ...                  \n",
              "0558925278                      0                     0  ...              0   \n",
              "0733001998                      0                     0  ...              0   \n",
              "0737104473                      0                     0  ...              0   \n",
              "0762451459                      0                     0  ...              0   \n",
              "1304139212                      0                     0  ...              0   \n",
              "\n",
              "user_id     AZWRTJPN7NXT  AZWTXHXZXFAYP  AZYQEFB9Y5N22  AZZHB6U54UDYW  \\\n",
              "product_id                                                              \n",
              "0558925278             0              0              0              0   \n",
              "0733001998             0              0              0              0   \n",
              "0737104473             0              0              0              0   \n",
              "0762451459             0              0              0              0   \n",
              "1304139212             0              0              0              0   \n",
              "\n",
              "user_id     AZZHJZP4GQPPZ  AZZNK89PXD006  AZZOFVMQC0BJG  AZZQXL8VDCFTV  \\\n",
              "product_id                                                               \n",
              "0558925278              0              0              0              0   \n",
              "0733001998              0              0              0              0   \n",
              "0737104473              0              0              0              0   \n",
              "0762451459              0              0              0              0   \n",
              "1304139212              0              0              0              0   \n",
              "\n",
              "user_id     AZZTJQ7CQZUD8  \n",
              "product_id                 \n",
              "0558925278              0  \n",
              "0733001998              0  \n",
              "0737104473              0  \n",
              "0762451459              0  \n",
              "1304139212              0  \n",
              "\n",
              "[5 rows x 9697 columns]"
            ],
            "text/html": [
              "\n",
              "  <div id=\"df-6380398f-5dca-49c8-a2bd-6f55600c15d8\">\n",
              "    <div class=\"colab-df-container\">\n",
              "      <div>\n",
              "<style scoped>\n",
              "    .dataframe tbody tr th:only-of-type {\n",
              "        vertical-align: middle;\n",
              "    }\n",
              "\n",
              "    .dataframe tbody tr th {\n",
              "        vertical-align: top;\n",
              "    }\n",
              "\n",
              "    .dataframe thead th {\n",
              "        text-align: right;\n",
              "    }\n",
              "</style>\n",
              "<table border=\"1\" class=\"dataframe\">\n",
              "  <thead>\n",
              "    <tr style=\"text-align: right;\">\n",
              "      <th>user_id</th>\n",
              "      <th>A00205921JHJK5X9LNP42</th>\n",
              "      <th>A024581134CV80ZBLIZTZ</th>\n",
              "      <th>A03056581JJIOL5FSKJY7</th>\n",
              "      <th>A03099101ZRK4K607JVHH</th>\n",
              "      <th>A0505229A7NSH3FRXRR4</th>\n",
              "      <th>A05492663T95KW63BR75K</th>\n",
              "      <th>A059547920Q3LZVFHLPI3</th>\n",
              "      <th>A07410232KYRFR25CIUGJ</th>\n",
              "      <th>A082796624UNM47DSAI6K</th>\n",
              "      <th>A0864963DOAY7LXGS5I6</th>\n",
              "      <th>...</th>\n",
              "      <th>AZW1HXXYAC15B</th>\n",
              "      <th>AZWRTJPN7NXT</th>\n",
              "      <th>AZWTXHXZXFAYP</th>\n",
              "      <th>AZYQEFB9Y5N22</th>\n",
              "      <th>AZZHB6U54UDYW</th>\n",
              "      <th>AZZHJZP4GQPPZ</th>\n",
              "      <th>AZZNK89PXD006</th>\n",
              "      <th>AZZOFVMQC0BJG</th>\n",
              "      <th>AZZQXL8VDCFTV</th>\n",
              "      <th>AZZTJQ7CQZUD8</th>\n",
              "    </tr>\n",
              "    <tr>\n",
              "      <th>product_id</th>\n",
              "      <th></th>\n",
              "      <th></th>\n",
              "      <th></th>\n",
              "      <th></th>\n",
              "      <th></th>\n",
              "      <th></th>\n",
              "      <th></th>\n",
              "      <th></th>\n",
              "      <th></th>\n",
              "      <th></th>\n",
              "      <th></th>\n",
              "      <th></th>\n",
              "      <th></th>\n",
              "      <th></th>\n",
              "      <th></th>\n",
              "      <th></th>\n",
              "      <th></th>\n",
              "      <th></th>\n",
              "      <th></th>\n",
              "      <th></th>\n",
              "      <th></th>\n",
              "    </tr>\n",
              "  </thead>\n",
              "  <tbody>\n",
              "    <tr>\n",
              "      <th>0558925278</th>\n",
              "      <td>0</td>\n",
              "      <td>0</td>\n",
              "      <td>0</td>\n",
              "      <td>0</td>\n",
              "      <td>0</td>\n",
              "      <td>0</td>\n",
              "      <td>0</td>\n",
              "      <td>0</td>\n",
              "      <td>0</td>\n",
              "      <td>0</td>\n",
              "      <td>...</td>\n",
              "      <td>0</td>\n",
              "      <td>0</td>\n",
              "      <td>0</td>\n",
              "      <td>0</td>\n",
              "      <td>0</td>\n",
              "      <td>0</td>\n",
              "      <td>0</td>\n",
              "      <td>0</td>\n",
              "      <td>0</td>\n",
              "      <td>0</td>\n",
              "    </tr>\n",
              "    <tr>\n",
              "      <th>0733001998</th>\n",
              "      <td>0</td>\n",
              "      <td>0</td>\n",
              "      <td>0</td>\n",
              "      <td>0</td>\n",
              "      <td>0</td>\n",
              "      <td>0</td>\n",
              "      <td>0</td>\n",
              "      <td>0</td>\n",
              "      <td>0</td>\n",
              "      <td>0</td>\n",
              "      <td>...</td>\n",
              "      <td>0</td>\n",
              "      <td>0</td>\n",
              "      <td>0</td>\n",
              "      <td>0</td>\n",
              "      <td>0</td>\n",
              "      <td>0</td>\n",
              "      <td>0</td>\n",
              "      <td>0</td>\n",
              "      <td>0</td>\n",
              "      <td>0</td>\n",
              "    </tr>\n",
              "    <tr>\n",
              "      <th>0737104473</th>\n",
              "      <td>0</td>\n",
              "      <td>0</td>\n",
              "      <td>0</td>\n",
              "      <td>0</td>\n",
              "      <td>0</td>\n",
              "      <td>0</td>\n",
              "      <td>0</td>\n",
              "      <td>0</td>\n",
              "      <td>0</td>\n",
              "      <td>0</td>\n",
              "      <td>...</td>\n",
              "      <td>0</td>\n",
              "      <td>0</td>\n",
              "      <td>0</td>\n",
              "      <td>0</td>\n",
              "      <td>0</td>\n",
              "      <td>0</td>\n",
              "      <td>0</td>\n",
              "      <td>0</td>\n",
              "      <td>0</td>\n",
              "      <td>0</td>\n",
              "    </tr>\n",
              "    <tr>\n",
              "      <th>0762451459</th>\n",
              "      <td>0</td>\n",
              "      <td>0</td>\n",
              "      <td>0</td>\n",
              "      <td>0</td>\n",
              "      <td>0</td>\n",
              "      <td>0</td>\n",
              "      <td>0</td>\n",
              "      <td>0</td>\n",
              "      <td>0</td>\n",
              "      <td>0</td>\n",
              "      <td>...</td>\n",
              "      <td>0</td>\n",
              "      <td>0</td>\n",
              "      <td>0</td>\n",
              "      <td>0</td>\n",
              "      <td>0</td>\n",
              "      <td>0</td>\n",
              "      <td>0</td>\n",
              "      <td>0</td>\n",
              "      <td>0</td>\n",
              "      <td>0</td>\n",
              "    </tr>\n",
              "    <tr>\n",
              "      <th>1304139212</th>\n",
              "      <td>0</td>\n",
              "      <td>0</td>\n",
              "      <td>0</td>\n",
              "      <td>0</td>\n",
              "      <td>0</td>\n",
              "      <td>0</td>\n",
              "      <td>0</td>\n",
              "      <td>0</td>\n",
              "      <td>0</td>\n",
              "      <td>0</td>\n",
              "      <td>...</td>\n",
              "      <td>0</td>\n",
              "      <td>0</td>\n",
              "      <td>0</td>\n",
              "      <td>0</td>\n",
              "      <td>0</td>\n",
              "      <td>0</td>\n",
              "      <td>0</td>\n",
              "      <td>0</td>\n",
              "      <td>0</td>\n",
              "      <td>0</td>\n",
              "    </tr>\n",
              "  </tbody>\n",
              "</table>\n",
              "<p>5 rows × 9697 columns</p>\n",
              "</div>\n",
              "      <button class=\"colab-df-convert\" onclick=\"convertToInteractive('df-6380398f-5dca-49c8-a2bd-6f55600c15d8')\"\n",
              "              title=\"Convert this dataframe to an interactive table.\"\n",
              "              style=\"display:none;\">\n",
              "        \n",
              "  <svg xmlns=\"http://www.w3.org/2000/svg\" height=\"24px\"viewBox=\"0 0 24 24\"\n",
              "       width=\"24px\">\n",
              "    <path d=\"M0 0h24v24H0V0z\" fill=\"none\"/>\n",
              "    <path d=\"M18.56 5.44l.94 2.06.94-2.06 2.06-.94-2.06-.94-.94-2.06-.94 2.06-2.06.94zm-11 1L8.5 8.5l.94-2.06 2.06-.94-2.06-.94L8.5 2.5l-.94 2.06-2.06.94zm10 10l.94 2.06.94-2.06 2.06-.94-2.06-.94-.94-2.06-.94 2.06-2.06.94z\"/><path d=\"M17.41 7.96l-1.37-1.37c-.4-.4-.92-.59-1.43-.59-.52 0-1.04.2-1.43.59L10.3 9.45l-7.72 7.72c-.78.78-.78 2.05 0 2.83L4 21.41c.39.39.9.59 1.41.59.51 0 1.02-.2 1.41-.59l7.78-7.78 2.81-2.81c.8-.78.8-2.07 0-2.86zM5.41 20L4 18.59l7.72-7.72 1.47 1.35L5.41 20z\"/>\n",
              "  </svg>\n",
              "      </button>\n",
              "      \n",
              "  <style>\n",
              "    .colab-df-container {\n",
              "      display:flex;\n",
              "      flex-wrap:wrap;\n",
              "      gap: 12px;\n",
              "    }\n",
              "\n",
              "    .colab-df-convert {\n",
              "      background-color: #E8F0FE;\n",
              "      border: none;\n",
              "      border-radius: 50%;\n",
              "      cursor: pointer;\n",
              "      display: none;\n",
              "      fill: #1967D2;\n",
              "      height: 32px;\n",
              "      padding: 0 0 0 0;\n",
              "      width: 32px;\n",
              "    }\n",
              "\n",
              "    .colab-df-convert:hover {\n",
              "      background-color: #E2EBFA;\n",
              "      box-shadow: 0px 1px 2px rgba(60, 64, 67, 0.3), 0px 1px 3px 1px rgba(60, 64, 67, 0.15);\n",
              "      fill: #174EA6;\n",
              "    }\n",
              "\n",
              "    [theme=dark] .colab-df-convert {\n",
              "      background-color: #3B4455;\n",
              "      fill: #D2E3FC;\n",
              "    }\n",
              "\n",
              "    [theme=dark] .colab-df-convert:hover {\n",
              "      background-color: #434B5C;\n",
              "      box-shadow: 0px 1px 3px 1px rgba(0, 0, 0, 0.15);\n",
              "      filter: drop-shadow(0px 1px 2px rgba(0, 0, 0, 0.3));\n",
              "      fill: #FFFFFF;\n",
              "    }\n",
              "  </style>\n",
              "\n",
              "      <script>\n",
              "        const buttonEl =\n",
              "          document.querySelector('#df-6380398f-5dca-49c8-a2bd-6f55600c15d8 button.colab-df-convert');\n",
              "        buttonEl.style.display =\n",
              "          google.colab.kernel.accessAllowed ? 'block' : 'none';\n",
              "\n",
              "        async function convertToInteractive(key) {\n",
              "          const element = document.querySelector('#df-6380398f-5dca-49c8-a2bd-6f55600c15d8');\n",
              "          const dataTable =\n",
              "            await google.colab.kernel.invokeFunction('convertToInteractive',\n",
              "                                                     [key], {});\n",
              "          if (!dataTable) return;\n",
              "\n",
              "          const docLinkHtml = 'Like what you see? Visit the ' +\n",
              "            '<a target=\"_blank\" href=https://colab.research.google.com/notebooks/data_table.ipynb>data table notebook</a>'\n",
              "            + ' to learn more about interactive tables.';\n",
              "          element.innerHTML = '';\n",
              "          dataTable['output_type'] = 'display_data';\n",
              "          await google.colab.output.renderOutput(dataTable, element);\n",
              "          const docLink = document.createElement('div');\n",
              "          docLink.innerHTML = docLinkHtml;\n",
              "          element.appendChild(docLink);\n",
              "        }\n",
              "      </script>\n",
              "    </div>\n",
              "  </div>\n",
              "  "
            ]
          },
          "metadata": {},
          "execution_count": 14
        }
      ]
    },
    {
      "cell_type": "code",
      "source": [
        "X_trans.shape"
      ],
      "metadata": {
        "id": "buOM_D3lw0pf",
        "colab": {
          "base_uri": "https://localhost:8080/"
        },
        "outputId": "5e8c3a7b-ce58-43ee-9f63-cc6477e81f54"
      },
      "execution_count": 15,
      "outputs": [
        {
          "output_type": "execute_result",
          "data": {
            "text/plain": [
              "(885, 9697)"
            ]
          },
          "metadata": {},
          "execution_count": 15
        }
      ]
    },
    {
      "cell_type": "markdown",
      "source": [
        "<h3> Decompose the Matrix </h3>"
      ],
      "metadata": {
        "id": "ybTiMJoZw8EN"
      }
    },
    {
      "cell_type": "code",
      "source": [
        "import sklearn\n",
        "from sklearn.decomposition import TruncatedSVD\n",
        "\n",
        "SVD = TruncatedSVD(n_components=10)\n",
        "decomposed_matrix = SVD.fit_transform(X_trans)\n",
        "decomposed_matrix.shape"
      ],
      "metadata": {
        "id": "Cl27rYbzw_Fe",
        "colab": {
          "base_uri": "https://localhost:8080/"
        },
        "outputId": "05970061-86f9-4a95-cbb1-a981cf17b676"
      },
      "execution_count": 20,
      "outputs": [
        {
          "output_type": "execute_result",
          "data": {
            "text/plain": [
              "(885, 10)"
            ]
          },
          "metadata": {},
          "execution_count": 20
        }
      ]
    },
    {
      "cell_type": "markdown",
      "source": [
        "<h3> Correlation Matrix </h3>"
      ],
      "metadata": {
        "id": "kgOQV3DuxNQJ"
      }
    },
    {
      "cell_type": "code",
      "source": [
        "## create correcation matrix from the decomposed matrix. this basically creates a matrix which establishes \n",
        "## the correlation between each of the products with other products.\n",
        "correlation_matrix = np.corrcoef(decomposed_matrix)\n",
        "correlation_matrix.shape"
      ],
      "metadata": {
        "id": "40zi1EezxRIU",
        "colab": {
          "base_uri": "https://localhost:8080/"
        },
        "outputId": "eeb9876a-4613-4435-c703-de830b414227"
      },
      "execution_count": 23,
      "outputs": [
        {
          "output_type": "execute_result",
          "data": {
            "text/plain": [
              "(885, 885)"
            ]
          },
          "metadata": {},
          "execution_count": 23
        }
      ]
    },
    {
      "cell_type": "code",
      "source": [
        "print(decomposed_matrix)"
      ],
      "metadata": {
        "id": "0RypMI2pxdxp",
        "colab": {
          "base_uri": "https://localhost:8080/"
        },
        "outputId": "2bce199c-f6b8-409e-b973-241a977b44fc"
      },
      "execution_count": 24,
      "outputs": [
        {
          "output_type": "stream",
          "name": "stdout",
          "text": [
            "[[-1.09799830e-14  5.78469135e-13  8.20072351e-13 ... -9.71018850e-12\n",
            "  -1.77414383e-12  5.69411773e-11]\n",
            " [ 2.80600404e-16  3.00783449e-16  2.91625093e-15 ...  5.16325425e-14\n",
            "   7.40362970e-14  9.33861662e-14]\n",
            " [-1.09696206e-23  9.16844420e-23  2.20862507e-22 ... -4.27073791e-21\n",
            "   2.72807568e-21  3.17863914e-20]\n",
            " ...\n",
            " [ 3.45124626e-06  2.27950096e-01 -1.04145939e-02 ... -3.76612268e-03\n",
            "  -2.81248760e-05 -4.94521494e-02]\n",
            " [-2.24779342e-06  7.83647622e-04  2.80924348e-05 ... -4.43826771e-04\n",
            "   6.33194728e-04  2.11322293e-03]\n",
            " [-1.50796324e-04  4.33078419e-01  3.58816543e-01 ... -7.68143219e-02\n",
            "   1.50505257e-01  1.21270603e+00]]\n"
          ]
        }
      ]
    },
    {
      "cell_type": "markdown",
      "source": [
        "\n",
        "**Lets pick a random product from the dataset and try to work around that to find recommendations which are similar to the product.**\n",
        "\n"
      ],
      "metadata": {
        "id": "WquqzI80yScp"
      }
    },
    {
      "cell_type": "code",
      "source": [
        "X_trans.index[50]"
      ],
      "metadata": {
        "id": "z_5pHoVQx1CI",
        "colab": {
          "base_uri": "https://localhost:8080/",
          "height": 35
        },
        "outputId": "394c23e5-9dbb-43d3-d21f-e48059e30904"
      },
      "execution_count": 26,
      "outputs": [
        {
          "output_type": "execute_result",
          "data": {
            "text/plain": [
              "'1412759676'"
            ],
            "application/vnd.google.colaboratory.intrinsic+json": {
              "type": "string"
            }
          },
          "metadata": {},
          "execution_count": 26
        }
      ]
    },
    {
      "cell_type": "markdown",
      "source": [
        "Get the index of the product id '1412759676'"
      ],
      "metadata": {
        "id": "NSzWdEM5y4CQ"
      }
    },
    {
      "cell_type": "code",
      "source": [
        "i = \"1412759676\"\n",
        "\n",
        "product_names = list(X_trans.index)\n",
        "product_ID = product_names.index(i)\n",
        "product_ID"
      ],
      "metadata": {
        "id": "1Fr0toD7ysSr",
        "colab": {
          "base_uri": "https://localhost:8080/"
        },
        "outputId": "81a73302-9d37-423b-8e11-76503fe91c38"
      },
      "execution_count": 28,
      "outputs": [
        {
          "output_type": "execute_result",
          "data": {
            "text/plain": [
              "50"
            ]
          },
          "metadata": {},
          "execution_count": 28
        }
      ]
    },
    {
      "cell_type": "markdown",
      "source": [
        "<h3> Correlation of all the itmes from the matrix for this product id with all the users who have brought the same product </h3>"
      ],
      "metadata": {
        "id": "0tGIV8C6z5hd"
      }
    },
    {
      "cell_type": "code",
      "source": [
        "correlation_product_ID = correlation_matrix[product_ID]\n",
        "correlation_product_ID.shape"
      ],
      "metadata": {
        "id": "fhxBLl5Y0GUv",
        "colab": {
          "base_uri": "https://localhost:8080/"
        },
        "outputId": "7752e57b-e88c-4209-d1fd-292740c6bc2d"
      },
      "execution_count": 29,
      "outputs": [
        {
          "output_type": "execute_result",
          "data": {
            "text/plain": [
              "(885,)"
            ]
          },
          "metadata": {},
          "execution_count": 29
        }
      ]
    },
    {
      "cell_type": "markdown",
      "source": [
        "Recommend the top 10 highly correlated products to this particular Product ID."
      ],
      "metadata": {
        "id": "zLjnZMaC0LYn"
      }
    },
    {
      "cell_type": "code",
      "source": [
        "recommand_products = list(X_trans.index[correlation_product_ID > 0.90])\n",
        "\n",
        "# Remove the product already used.\n",
        "recommand_products.remove(i) \n",
        "\n",
        "recommand_products[0:9]"
      ],
      "metadata": {
        "id": "TCW9hz5B0Qfq",
        "colab": {
          "base_uri": "https://localhost:8080/"
        },
        "outputId": "e201bae5-44bc-4ada-9a49-7419da72366d"
      },
      "execution_count": 31,
      "outputs": [
        {
          "output_type": "execute_result",
          "data": {
            "text/plain": [
              "['0558925278',\n",
              " '0737104473',\n",
              " '1304139212',\n",
              " '130414643X',\n",
              " '1304146537',\n",
              " '1304168522',\n",
              " '1304174867',\n",
              " '1304174905',\n",
              " '1304482596']"
            ]
          },
          "metadata": {},
          "execution_count": 31
        }
      ]
    },
    {
      "cell_type": "markdown",
      "source": [
        "These products represet the top 10 highly correlated products similar to the product with id '1412759676' based on the high correlation coefficent of greater than 0.90."
      ],
      "metadata": {
        "id": "F77S23Tg0dT5"
      }
    }
  ],
  "metadata": {
    "colab": {
      "collapsed_sections": [],
      "name": "RecommendationSystem.ipynb",
      "provenance": []
    },
    "kernelspec": {
      "display_name": "Python 3",
      "name": "python3"
    },
    "language_info": {
      "name": "python"
    }
  },
  "nbformat": 4,
  "nbformat_minor": 0
}